{
 "cells": [
  {
   "cell_type": "raw",
   "source": [
    "# Schweizer Ratsstatistiken\n",
    "\n",
    "Diese Minichallenge basiert auf demselben Datenset mit ähnlichen Fragestellungen wie die Minichallenge (Abgabe 2) im Modul DDI (Datenbankdesign und Implementierung). \n",
    "\n",
    "## Ausgangslage\n",
    "Du machst ein Praktikum beim Bundesamt für Statistik. Dieses möchte gerne neu auf seiner Webseite eine Sektion mit interessanten historischen Fakten zu den Räten der Exekutive und Legislative (Bundes- National- und Ständerat) anbieten. Dazu wird dir ein Datenset in Form einer Excel-Datei zur Verfügung gestellt.\n",
    "\n",
    "## Datenimport"
   ],
   "metadata": {
    "collapsed": false
   },
   "id": "16bb28dd5f64ad5e"
  },
  {
   "cell_type": "code",
   "execution_count": 71,
   "outputs": [],
   "source": [
    "import pandas as pd\n",
    "import matplotlib.pyplot as plt\n"
   ],
   "metadata": {
    "collapsed": false,
    "ExecuteTime": {
     "end_time": "2023-10-01T18:44:14.283170Z",
     "start_time": "2023-10-01T18:44:13.445627800Z"
    }
   },
   "id": "e4c3719cef597c8d"
  },
  {
   "cell_type": "code",
   "execution_count": 72,
   "outputs": [
    {
     "name": "stdout",
     "output_type": "stream",
     "text": [
      "C:\\Users\\lbz\\PycharmProjects\\daw_python ['.idea', 'main.py', 'MC_Ratsmitglieder.ipynb', 'Ratsmitglieder.xlsx', 'venv']\n"
     ]
    }
   ],
   "source": [
    "# Dateinamen im Projektordner auflisten\n",
    "import os\n",
    "import openpyxl\n",
    "\n",
    "# Pfad zum aktuellen Verzeichnis\n",
    "path = os.getcwd()\n",
    "\n",
    "# Dateinamen auflisten\n",
    "files = os.listdir(path)\n",
    "print(path, files)"
   ],
   "metadata": {
    "collapsed": false,
    "ExecuteTime": {
     "end_time": "2023-10-01T18:44:14.310882700Z",
     "start_time": "2023-10-01T18:44:13.460252900Z"
    }
   },
   "id": "d809949daf8343c7"
  },
  {
   "cell_type": "code",
   "execution_count": 73,
   "outputs": [
    {
     "data": {
      "text/plain": "'Ratsmitglieder.xlsx'"
     },
     "execution_count": 73,
     "metadata": {},
     "output_type": "execute_result"
    }
   ],
   "source": [
    "# nur Excel-Dateien anzeigen\n",
    "files_xls = next((name for name in files if name.endswith('.xlsx')), None)\n",
    "files_xls"
   ],
   "metadata": {
    "collapsed": false,
    "ExecuteTime": {
     "end_time": "2023-10-01T18:44:14.314946200Z",
     "start_time": "2023-10-01T18:44:13.475956300Z"
    }
   },
   "id": "26b32364dd73285e"
  },
  {
   "cell_type": "code",
   "execution_count": 74,
   "outputs": [
    {
     "data": {
      "text/plain": "['Ratsmitglieder seit 1848']"
     },
     "execution_count": 74,
     "metadata": {},
     "output_type": "execute_result"
    }
   ],
   "source": [
    "# Sheetnamen anzeigen\n",
    "sheetname = pd.ExcelFile(files_xls).sheet_names\n",
    "sheetname"
   ],
   "metadata": {
    "collapsed": false,
    "ExecuteTime": {
     "end_time": "2023-10-01T18:44:14.424625300Z",
     "start_time": "2023-10-01T18:44:13.496225Z"
    }
   },
   "id": "fcc546dab9236ab1"
  },
  {
   "cell_type": "code",
   "execution_count": 75,
   "outputs": [
    {
     "data": {
      "text/plain": "   Active FirstName  LastName GenderAsString  CantonName CantonAbbreviation  \\\n0   False  Giuseppe   a Marca              m  Graubünden                 GR   \n1   False     Alois  Ab Yberg              m      Schwyz                 SZ   \n2   False     Fabio     Abate              m      Tessin                 TI   \n3   False     Fabio     Abate              m      Tessin                 TI   \n4   False     Fabio     Abate              m      Tessin                 TI   \n\n   CouncilName                      ParlGroupName ParlGroupAbbreviation  \\\n0    Ständerat                              Mitte                    MC   \n1  Nationalrat     Radikal-demokratische Fraktion                     R   \n2  Nationalrat  Freisinnig-demokratische Fraktion                    RL   \n3  Nationalrat  Freisinnig-demokratische Fraktion                     R   \n4    Ständerat              FDP-Liberale Fraktion                    RL   \n\n                                     PartyName PartyAbbreviation  \\\n0                                 Konservative             Kons*   \n1  Freisinnig-Demokratische Partei der Schweiz               FDP   \n2  Freisinnig-Demokratische Partei der Schweiz               FDP   \n3  Freisinnig-Demokratische Partei der Schweiz               FDP   \n4                            FDP.Die Liberalen      FDP-Liberale   \n\n  MaritalStatusText BirthPlace_City BirthPlace_Canton  \\\n0               NaN             NaN               NaN   \n1               NaN             NaN               NaN   \n2               NaN         Locarno            Tessin   \n3               NaN         Locarno            Tessin   \n4               NaN         Locarno            Tessin   \n\n                                            Mandates DateJoining DateLeaving  \\\n0                                                NaN  01.12.1849  01.07.1851   \n1                                                NaN  03.12.1928  01.12.1935   \n2  incarichi esecutivi presso il comune di Locarn...  03.12.2007  04.12.2011   \n3  incarichi esecutivi presso il comune di Locarn...  25.09.2000  30.11.2003   \n4  incarichi esecutivi presso il comune di Locarn...  05.12.2011  29.11.2015   \n\n   Citizenship DateOfBirth DateOfDeath  \n0  Soazza (GR)  29.07.1799  16.07.1866  \n1  Schwyz (SZ)  06.10.1878  17.10.1959  \n2  Cabbio (TI)  04.01.1966         NaN  \n3  Cabbio (TI)  04.01.1966         NaN  \n4  Cabbio (TI)  04.01.1966         NaN  ",
      "text/html": "<div>\n<style scoped>\n    .dataframe tbody tr th:only-of-type {\n        vertical-align: middle;\n    }\n\n    .dataframe tbody tr th {\n        vertical-align: top;\n    }\n\n    .dataframe thead th {\n        text-align: right;\n    }\n</style>\n<table border=\"1\" class=\"dataframe\">\n  <thead>\n    <tr style=\"text-align: right;\">\n      <th></th>\n      <th>Active</th>\n      <th>FirstName</th>\n      <th>LastName</th>\n      <th>GenderAsString</th>\n      <th>CantonName</th>\n      <th>CantonAbbreviation</th>\n      <th>CouncilName</th>\n      <th>ParlGroupName</th>\n      <th>ParlGroupAbbreviation</th>\n      <th>PartyName</th>\n      <th>PartyAbbreviation</th>\n      <th>MaritalStatusText</th>\n      <th>BirthPlace_City</th>\n      <th>BirthPlace_Canton</th>\n      <th>Mandates</th>\n      <th>DateJoining</th>\n      <th>DateLeaving</th>\n      <th>Citizenship</th>\n      <th>DateOfBirth</th>\n      <th>DateOfDeath</th>\n    </tr>\n  </thead>\n  <tbody>\n    <tr>\n      <th>0</th>\n      <td>False</td>\n      <td>Giuseppe</td>\n      <td>a Marca</td>\n      <td>m</td>\n      <td>Graubünden</td>\n      <td>GR</td>\n      <td>Ständerat</td>\n      <td>Mitte</td>\n      <td>MC</td>\n      <td>Konservative</td>\n      <td>Kons*</td>\n      <td>NaN</td>\n      <td>NaN</td>\n      <td>NaN</td>\n      <td>NaN</td>\n      <td>01.12.1849</td>\n      <td>01.07.1851</td>\n      <td>Soazza (GR)</td>\n      <td>29.07.1799</td>\n      <td>16.07.1866</td>\n    </tr>\n    <tr>\n      <th>1</th>\n      <td>False</td>\n      <td>Alois</td>\n      <td>Ab Yberg</td>\n      <td>m</td>\n      <td>Schwyz</td>\n      <td>SZ</td>\n      <td>Nationalrat</td>\n      <td>Radikal-demokratische Fraktion</td>\n      <td>R</td>\n      <td>Freisinnig-Demokratische Partei der Schweiz</td>\n      <td>FDP</td>\n      <td>NaN</td>\n      <td>NaN</td>\n      <td>NaN</td>\n      <td>NaN</td>\n      <td>03.12.1928</td>\n      <td>01.12.1935</td>\n      <td>Schwyz (SZ)</td>\n      <td>06.10.1878</td>\n      <td>17.10.1959</td>\n    </tr>\n    <tr>\n      <th>2</th>\n      <td>False</td>\n      <td>Fabio</td>\n      <td>Abate</td>\n      <td>m</td>\n      <td>Tessin</td>\n      <td>TI</td>\n      <td>Nationalrat</td>\n      <td>Freisinnig-demokratische Fraktion</td>\n      <td>RL</td>\n      <td>Freisinnig-Demokratische Partei der Schweiz</td>\n      <td>FDP</td>\n      <td>NaN</td>\n      <td>Locarno</td>\n      <td>Tessin</td>\n      <td>incarichi esecutivi presso il comune di Locarn...</td>\n      <td>03.12.2007</td>\n      <td>04.12.2011</td>\n      <td>Cabbio (TI)</td>\n      <td>04.01.1966</td>\n      <td>NaN</td>\n    </tr>\n    <tr>\n      <th>3</th>\n      <td>False</td>\n      <td>Fabio</td>\n      <td>Abate</td>\n      <td>m</td>\n      <td>Tessin</td>\n      <td>TI</td>\n      <td>Nationalrat</td>\n      <td>Freisinnig-demokratische Fraktion</td>\n      <td>R</td>\n      <td>Freisinnig-Demokratische Partei der Schweiz</td>\n      <td>FDP</td>\n      <td>NaN</td>\n      <td>Locarno</td>\n      <td>Tessin</td>\n      <td>incarichi esecutivi presso il comune di Locarn...</td>\n      <td>25.09.2000</td>\n      <td>30.11.2003</td>\n      <td>Cabbio (TI)</td>\n      <td>04.01.1966</td>\n      <td>NaN</td>\n    </tr>\n    <tr>\n      <th>4</th>\n      <td>False</td>\n      <td>Fabio</td>\n      <td>Abate</td>\n      <td>m</td>\n      <td>Tessin</td>\n      <td>TI</td>\n      <td>Ständerat</td>\n      <td>FDP-Liberale Fraktion</td>\n      <td>RL</td>\n      <td>FDP.Die Liberalen</td>\n      <td>FDP-Liberale</td>\n      <td>NaN</td>\n      <td>Locarno</td>\n      <td>Tessin</td>\n      <td>incarichi esecutivi presso il comune di Locarn...</td>\n      <td>05.12.2011</td>\n      <td>29.11.2015</td>\n      <td>Cabbio (TI)</td>\n      <td>04.01.1966</td>\n      <td>NaN</td>\n    </tr>\n  </tbody>\n</table>\n</div>"
     },
     "execution_count": 75,
     "metadata": {},
     "output_type": "execute_result"
    }
   ],
   "source": [
    "# Excel-Datei in ein Dataframe einlesen\n",
    "df = pd.read_excel(files_xls)\n",
    "df.head()"
   ],
   "metadata": {
    "collapsed": false,
    "ExecuteTime": {
     "end_time": "2023-10-01T18:44:14.681144100Z",
     "start_time": "2023-10-01T18:44:13.638117500Z"
    }
   },
   "id": "c555d718329d6c8a"
  },
  {
   "cell_type": "code",
   "execution_count": 76,
   "outputs": [
    {
     "data": {
      "text/plain": "      Active      FirstName LastName GenderAsString CantonName  \\\n6425   False  Otto (senior)  Zwygart              m       Bern   \n6426   False           Otto  Zwygart              m       Bern   \n6427   False      Carl Sam.     Zyro              m       Bern   \n6428   False      Carl Sam.     Zyro              m       Bern   \n6429   False      Carl Sam.     Zyro              m       Bern   \n\n     CantonAbbreviation  CouncilName                            ParlGroupName  \\\n6425                 BE  Nationalrat  Demokratische und Evangelische Fraktion   \n6426                 BE  Nationalrat                         LdU/EVP-Fraktion   \n6427                 BE  Nationalrat                                    Linke   \n6428                 BE  Nationalrat                                    Linke   \n6429                 BE  Nationalrat                                    Linke   \n\n     ParlGroupAbbreviation                                    PartyName  \\\n6425                    DE         Evangelische Volkspartei der Schweiz   \n6426                     U         Evangelische Volkspartei der Schweiz   \n6427                    LG  Freisinnig-Demokratische Partei der Schweiz   \n6428                    LG  Freisinnig-Demokratische Partei der Schweiz   \n6429                    LG  Freisinnig-Demokratische Partei der Schweiz   \n\n     PartyAbbreviation MaritalStatusText BirthPlace_City BirthPlace_Canton  \\\n6425               EVP               NaN             NaN               NaN   \n6426               EVP               NaN        Schliern              Bern   \n6427               FDP               NaN             NaN               NaN   \n6428               FDP               NaN             NaN               NaN   \n6429               FDP               NaN             NaN               NaN   \n\n                                               Mandates DateJoining  \\\n6425                                                NaN  01.06.1971   \n6426  Grosser Gemeinderat Bolligen von 1970 bis 1974...  28.11.1983   \n6427                                                NaN  03.12.1866   \n6428                                                NaN  03.12.1866   \n6429                                                NaN  03.12.1866   \n\n     DateLeaving                  Citizenship DateOfBirth DateOfDeath  \n6425  27.11.1983                Meikirch (BE)  30.05.1911  05.04.1986  \n6426  03.12.1995  Bolligen (BE),Meikirch (BE)  16.01.1940         NaN  \n6427  03.12.1893                    Thun (BE)  17.07.1834  26.08.1896  \n6428  03.12.1893                    Thun (BE)  17.07.1834  26.08.1896  \n6429  03.12.1893                    Thun (BE)  17.07.1834  26.08.1896  ",
      "text/html": "<div>\n<style scoped>\n    .dataframe tbody tr th:only-of-type {\n        vertical-align: middle;\n    }\n\n    .dataframe tbody tr th {\n        vertical-align: top;\n    }\n\n    .dataframe thead th {\n        text-align: right;\n    }\n</style>\n<table border=\"1\" class=\"dataframe\">\n  <thead>\n    <tr style=\"text-align: right;\">\n      <th></th>\n      <th>Active</th>\n      <th>FirstName</th>\n      <th>LastName</th>\n      <th>GenderAsString</th>\n      <th>CantonName</th>\n      <th>CantonAbbreviation</th>\n      <th>CouncilName</th>\n      <th>ParlGroupName</th>\n      <th>ParlGroupAbbreviation</th>\n      <th>PartyName</th>\n      <th>PartyAbbreviation</th>\n      <th>MaritalStatusText</th>\n      <th>BirthPlace_City</th>\n      <th>BirthPlace_Canton</th>\n      <th>Mandates</th>\n      <th>DateJoining</th>\n      <th>DateLeaving</th>\n      <th>Citizenship</th>\n      <th>DateOfBirth</th>\n      <th>DateOfDeath</th>\n    </tr>\n  </thead>\n  <tbody>\n    <tr>\n      <th>6425</th>\n      <td>False</td>\n      <td>Otto (senior)</td>\n      <td>Zwygart</td>\n      <td>m</td>\n      <td>Bern</td>\n      <td>BE</td>\n      <td>Nationalrat</td>\n      <td>Demokratische und Evangelische Fraktion</td>\n      <td>DE</td>\n      <td>Evangelische Volkspartei der Schweiz</td>\n      <td>EVP</td>\n      <td>NaN</td>\n      <td>NaN</td>\n      <td>NaN</td>\n      <td>NaN</td>\n      <td>01.06.1971</td>\n      <td>27.11.1983</td>\n      <td>Meikirch (BE)</td>\n      <td>30.05.1911</td>\n      <td>05.04.1986</td>\n    </tr>\n    <tr>\n      <th>6426</th>\n      <td>False</td>\n      <td>Otto</td>\n      <td>Zwygart</td>\n      <td>m</td>\n      <td>Bern</td>\n      <td>BE</td>\n      <td>Nationalrat</td>\n      <td>LdU/EVP-Fraktion</td>\n      <td>U</td>\n      <td>Evangelische Volkspartei der Schweiz</td>\n      <td>EVP</td>\n      <td>NaN</td>\n      <td>Schliern</td>\n      <td>Bern</td>\n      <td>Grosser Gemeinderat Bolligen von 1970 bis 1974...</td>\n      <td>28.11.1983</td>\n      <td>03.12.1995</td>\n      <td>Bolligen (BE),Meikirch (BE)</td>\n      <td>16.01.1940</td>\n      <td>NaN</td>\n    </tr>\n    <tr>\n      <th>6427</th>\n      <td>False</td>\n      <td>Carl Sam.</td>\n      <td>Zyro</td>\n      <td>m</td>\n      <td>Bern</td>\n      <td>BE</td>\n      <td>Nationalrat</td>\n      <td>Linke</td>\n      <td>LG</td>\n      <td>Freisinnig-Demokratische Partei der Schweiz</td>\n      <td>FDP</td>\n      <td>NaN</td>\n      <td>NaN</td>\n      <td>NaN</td>\n      <td>NaN</td>\n      <td>03.12.1866</td>\n      <td>03.12.1893</td>\n      <td>Thun (BE)</td>\n      <td>17.07.1834</td>\n      <td>26.08.1896</td>\n    </tr>\n    <tr>\n      <th>6428</th>\n      <td>False</td>\n      <td>Carl Sam.</td>\n      <td>Zyro</td>\n      <td>m</td>\n      <td>Bern</td>\n      <td>BE</td>\n      <td>Nationalrat</td>\n      <td>Linke</td>\n      <td>LG</td>\n      <td>Freisinnig-Demokratische Partei der Schweiz</td>\n      <td>FDP</td>\n      <td>NaN</td>\n      <td>NaN</td>\n      <td>NaN</td>\n      <td>NaN</td>\n      <td>03.12.1866</td>\n      <td>03.12.1893</td>\n      <td>Thun (BE)</td>\n      <td>17.07.1834</td>\n      <td>26.08.1896</td>\n    </tr>\n    <tr>\n      <th>6429</th>\n      <td>False</td>\n      <td>Carl Sam.</td>\n      <td>Zyro</td>\n      <td>m</td>\n      <td>Bern</td>\n      <td>BE</td>\n      <td>Nationalrat</td>\n      <td>Linke</td>\n      <td>LG</td>\n      <td>Freisinnig-Demokratische Partei der Schweiz</td>\n      <td>FDP</td>\n      <td>NaN</td>\n      <td>NaN</td>\n      <td>NaN</td>\n      <td>NaN</td>\n      <td>03.12.1866</td>\n      <td>03.12.1893</td>\n      <td>Thun (BE)</td>\n      <td>17.07.1834</td>\n      <td>26.08.1896</td>\n    </tr>\n  </tbody>\n</table>\n</div>"
     },
     "execution_count": 76,
     "metadata": {},
     "output_type": "execute_result"
    }
   ],
   "source": [
    "df.tail()"
   ],
   "metadata": {
    "collapsed": false,
    "ExecuteTime": {
     "end_time": "2023-10-01T18:44:14.681144100Z",
     "start_time": "2023-10-01T18:44:14.581274600Z"
    }
   },
   "id": "43bb34dc3660b42e"
  },
  {
   "cell_type": "code",
   "execution_count": 77,
   "outputs": [
    {
     "name": "stdout",
     "output_type": "stream",
     "text": [
      "<class 'pandas.core.frame.DataFrame'>\n",
      "RangeIndex: 6430 entries, 0 to 6429\n",
      "Data columns (total 20 columns):\n",
      " #   Column                 Non-Null Count  Dtype \n",
      "---  ------                 --------------  ----- \n",
      " 0   Active                 6430 non-null   bool  \n",
      " 1   FirstName              6430 non-null   object\n",
      " 2   LastName               6430 non-null   object\n",
      " 3   GenderAsString         6430 non-null   object\n",
      " 4   CantonName             6428 non-null   object\n",
      " 5   CantonAbbreviation     6428 non-null   object\n",
      " 6   CouncilName            6425 non-null   object\n",
      " 7   ParlGroupName          4952 non-null   object\n",
      " 8   ParlGroupAbbreviation  4952 non-null   object\n",
      " 9   PartyName              6352 non-null   object\n",
      " 10  PartyAbbreviation      6350 non-null   object\n",
      " 11  MaritalStatusText      240 non-null    object\n",
      " 12  BirthPlace_City        2165 non-null   object\n",
      " 13  BirthPlace_Canton      2087 non-null   object\n",
      " 14  Mandates               1882 non-null   object\n",
      " 15  DateJoining            6430 non-null   object\n",
      " 16  DateLeaving            6174 non-null   object\n",
      " 17  Citizenship            6423 non-null   object\n",
      " 18  DateOfBirth            6430 non-null   object\n",
      " 19  DateOfDeath            4270 non-null   object\n",
      "dtypes: bool(1), object(19)\n",
      "memory usage: 960.9+ KB\n"
     ]
    }
   ],
   "source": [
    "df.info()"
   ],
   "metadata": {
    "collapsed": false,
    "ExecuteTime": {
     "end_time": "2023-10-01T18:44:14.691223900Z",
     "start_time": "2023-10-01T18:44:14.601302500Z"
    }
   },
   "id": "dc54e3f6bceead0e"
  },
  {
   "cell_type": "markdown",
   "source": [
    "Bei der Durchsicht der Datentypen fällt auf, dass es nur einen Boolean (Active) und die restlichen 19 Daten als object eingelesen hat. Es sind Datums-Variablen vorhanden, welche ins Datumsformat konvertiert werden müssen. Weiter sind kategoriale Variablen vorhanden, welche für eine Analyse konvertiert werden müssen.\n",
    "\n",
    "\n",
    "## Konvertierung der Datentypen\n",
    "In Datumsformate werden folgende Variablen konvertiert:\n",
    "- DateJoining\n",
    "- DateLeaving\n",
    "- DateOfBirth\n",
    "- DateOfDeath\n",
    "\n",
    "Kategoriale Variablen sind:\n",
    "- GenderAsString\n",
    "- CantonName\n",
    "- CantonAbbreviation\n",
    "- CouncilName\n",
    "- ParlGroupName\n",
    "- ParlGroupAbbreviation\n",
    "- PartyName\n",
    "- PartyAbbreviation\n",
    "- MartialStatusText\n",
    "- BirthPlace_Canton\n",
    "- Citizenship\n",
    "Diese werden erst zu einem späteren Zeitpunkt konvertiert. "
   ],
   "metadata": {
    "collapsed": false
   },
   "id": "61861b3581838994"
  },
  {
   "cell_type": "code",
   "execution_count": 78,
   "outputs": [
    {
     "name": "stdout",
     "output_type": "stream",
     "text": [
      "<class 'pandas.core.frame.DataFrame'>\n",
      "RangeIndex: 6430 entries, 0 to 6429\n",
      "Data columns (total 20 columns):\n",
      " #   Column                 Non-Null Count  Dtype         \n",
      "---  ------                 --------------  -----         \n",
      " 0   Active                 6430 non-null   bool          \n",
      " 1   FirstName              6430 non-null   object        \n",
      " 2   LastName               6430 non-null   object        \n",
      " 3   GenderAsString         6430 non-null   object        \n",
      " 4   CantonName             6428 non-null   object        \n",
      " 5   CantonAbbreviation     6428 non-null   object        \n",
      " 6   CouncilName            6425 non-null   object        \n",
      " 7   ParlGroupName          4952 non-null   object        \n",
      " 8   ParlGroupAbbreviation  4952 non-null   object        \n",
      " 9   PartyName              6352 non-null   object        \n",
      " 10  PartyAbbreviation      6350 non-null   object        \n",
      " 11  MaritalStatusText      240 non-null    object        \n",
      " 12  BirthPlace_City        2165 non-null   object        \n",
      " 13  BirthPlace_Canton      2087 non-null   object        \n",
      " 14  Mandates               1882 non-null   object        \n",
      " 15  DateJoining            6430 non-null   datetime64[ns]\n",
      " 16  DateLeaving            6174 non-null   datetime64[ns]\n",
      " 17  Citizenship            6423 non-null   object        \n",
      " 18  DateOfBirth            6430 non-null   datetime64[ns]\n",
      " 19  DateOfDeath            4270 non-null   datetime64[ns]\n",
      "dtypes: bool(1), datetime64[ns](4), object(15)\n",
      "memory usage: 960.9+ KB\n"
     ]
    }
   ],
   "source": [
    "# Datumsvariablen konvertieren\n",
    "columns_to_convert = ['DateJoining', 'DateLeaving', 'DateOfBirth', 'DateOfDeath']\n",
    "for col in columns_to_convert:\n",
    "    df[col] = pd.to_datetime(df[col], format= '%d.%m.%Y')\n",
    "\n",
    "df.info()"
   ],
   "metadata": {
    "collapsed": false,
    "ExecuteTime": {
     "end_time": "2023-10-01T18:44:14.691223900Z",
     "start_time": "2023-10-01T18:44:14.634312900Z"
    }
   },
   "id": "68e647dccbddbb50"
  },
  {
   "cell_type": "markdown",
   "source": [
    "Bevor die Kategorialen Variablen konvertiert werden, werden die fehlenden Werte behandelt.\n",
    "Dazu die erste übersicht über die fehlenden Werte:"
   ],
   "metadata": {
    "collapsed": false
   },
   "id": "84374363a6b46e5b"
  },
  {
   "cell_type": "code",
   "execution_count": 79,
   "outputs": [
    {
     "data": {
      "text/plain": "Active                      0\nFirstName                   0\nLastName                    0\nGenderAsString              0\nCantonName                  2\nCantonAbbreviation          2\nCouncilName                 5\nParlGroupName            1478\nParlGroupAbbreviation    1478\nPartyName                  78\nPartyAbbreviation          80\nMaritalStatusText        6190\nBirthPlace_City          4265\nBirthPlace_Canton        4343\nMandates                 4548\nDateJoining                 0\nDateLeaving               256\nCitizenship                 7\nDateOfBirth                 0\nDateOfDeath              2160\ndtype: int64"
     },
     "execution_count": 79,
     "metadata": {},
     "output_type": "execute_result"
    }
   ],
   "source": [
    "df.isna().sum()"
   ],
   "metadata": {
    "collapsed": false,
    "ExecuteTime": {
     "end_time": "2023-10-01T18:44:14.691223900Z",
     "start_time": "2023-10-01T18:44:14.665504200Z"
    }
   },
   "id": "8c86048e516519c4"
  },
  {
   "cell_type": "markdown",
   "source": [
    "Bei den Spalten 'CantonName' und 'CantonAbbreviation' fehlen jeweils 2 Werte. Mit der Filterfunktion kann bei einer so kleinen Menge sehr schnell herausgefunden werden, ob es sich um dieselben Reihen handelt, in denen beide Werte fehlen, oder ob es verschiedene Reihen sind. Im zweiten Fall könnten die fehlenden Werte ergänzt werden, indem die Werte aus der anderen Spalte übernommen werden."
   ],
   "metadata": {
    "collapsed": false
   },
   "id": "9bc45b467a2bf466"
  },
  {
   "cell_type": "code",
   "execution_count": 80,
   "outputs": [
    {
     "data": {
      "text/plain": "      Active FirstName   LastName GenderAsString CantonName  \\\n941    False    Walter      Buser              m        NaN   \n1233   False  François  Couchepin              m        NaN   \n\n     CantonAbbreviation CouncilName ParlGroupName ParlGroupAbbreviation  \\\n941                 NaN         NaN           NaN                   NaN   \n1233                NaN         NaN           NaN                   NaN   \n\n     PartyName PartyAbbreviation MaritalStatusText BirthPlace_City  \\\n941        NaN               NaN               NaN          Lausen   \n1233       NaN               NaN               NaN             NaN   \n\n     BirthPlace_Canton Mandates DateJoining DateLeaving Citizenship  \\\n941   Basel-Landschaft      NaN  1981-07-01  1991-06-30         NaN   \n1233               NaN      NaN  1991-12-04  1999-12-14         NaN   \n\n     DateOfBirth DateOfDeath  \n941   1926-04-14  2019-08-17  \n1233  1935-01-19         NaT  ",
      "text/html": "<div>\n<style scoped>\n    .dataframe tbody tr th:only-of-type {\n        vertical-align: middle;\n    }\n\n    .dataframe tbody tr th {\n        vertical-align: top;\n    }\n\n    .dataframe thead th {\n        text-align: right;\n    }\n</style>\n<table border=\"1\" class=\"dataframe\">\n  <thead>\n    <tr style=\"text-align: right;\">\n      <th></th>\n      <th>Active</th>\n      <th>FirstName</th>\n      <th>LastName</th>\n      <th>GenderAsString</th>\n      <th>CantonName</th>\n      <th>CantonAbbreviation</th>\n      <th>CouncilName</th>\n      <th>ParlGroupName</th>\n      <th>ParlGroupAbbreviation</th>\n      <th>PartyName</th>\n      <th>PartyAbbreviation</th>\n      <th>MaritalStatusText</th>\n      <th>BirthPlace_City</th>\n      <th>BirthPlace_Canton</th>\n      <th>Mandates</th>\n      <th>DateJoining</th>\n      <th>DateLeaving</th>\n      <th>Citizenship</th>\n      <th>DateOfBirth</th>\n      <th>DateOfDeath</th>\n    </tr>\n  </thead>\n  <tbody>\n    <tr>\n      <th>941</th>\n      <td>False</td>\n      <td>Walter</td>\n      <td>Buser</td>\n      <td>m</td>\n      <td>NaN</td>\n      <td>NaN</td>\n      <td>NaN</td>\n      <td>NaN</td>\n      <td>NaN</td>\n      <td>NaN</td>\n      <td>NaN</td>\n      <td>NaN</td>\n      <td>Lausen</td>\n      <td>Basel-Landschaft</td>\n      <td>NaN</td>\n      <td>1981-07-01</td>\n      <td>1991-06-30</td>\n      <td>NaN</td>\n      <td>1926-04-14</td>\n      <td>2019-08-17</td>\n    </tr>\n    <tr>\n      <th>1233</th>\n      <td>False</td>\n      <td>François</td>\n      <td>Couchepin</td>\n      <td>m</td>\n      <td>NaN</td>\n      <td>NaN</td>\n      <td>NaN</td>\n      <td>NaN</td>\n      <td>NaN</td>\n      <td>NaN</td>\n      <td>NaN</td>\n      <td>NaN</td>\n      <td>NaN</td>\n      <td>NaN</td>\n      <td>NaN</td>\n      <td>1991-12-04</td>\n      <td>1999-12-14</td>\n      <td>NaN</td>\n      <td>1935-01-19</td>\n      <td>NaT</td>\n    </tr>\n  </tbody>\n</table>\n</div>"
     },
     "execution_count": 80,
     "metadata": {},
     "output_type": "execute_result"
    }
   ],
   "source": [
    "df_canton_na = df[(df['CantonName'].isna()) | (df['CantonAbbreviation'].isna())]\n",
    "df_canton_na"
   ],
   "metadata": {
    "collapsed": false,
    "ExecuteTime": {
     "end_time": "2023-10-01T18:44:14.824136600Z",
     "start_time": "2023-10-01T18:44:14.681144100Z"
    }
   },
   "id": "b22c9d170ddf9498"
  },
  {
   "cell_type": "markdown",
   "source": [
    "Es handelt sich um zwei Reihen. Bei der Durchsicht dieser Observationen fällt sofort auf, dass beide sehr wenige Einträge aufweisen. Zudem sind essentielle Informationen zur Ratsmitgliedschaft nicht vorhanden. Diese Observationen sind mit den vorhandenen Informationen für unsere Fragestellungen nicht relevant. Aus diesem Grund werden sie aus dem Datenset entfernt."
   ],
   "metadata": {
    "collapsed": false
   },
   "id": "fa505bcdfe91ce57"
  },
  {
   "cell_type": "code",
   "execution_count": 81,
   "outputs": [
    {
     "data": {
      "text/plain": "Active                      0\nFirstName                   0\nLastName                    0\nGenderAsString              0\nCantonName                  0\nCantonAbbreviation          0\nCouncilName                 3\nParlGroupName            1476\nParlGroupAbbreviation    1476\nPartyName                  76\nPartyAbbreviation          78\nMaritalStatusText        6188\nBirthPlace_City          4264\nBirthPlace_Canton        4342\nMandates                 4546\nDateJoining                 0\nDateLeaving               256\nCitizenship                 5\nDateOfBirth                 0\nDateOfDeath              2159\ndtype: int64"
     },
     "execution_count": 81,
     "metadata": {},
     "output_type": "execute_result"
    }
   ],
   "source": [
    "df_mod = df.drop(df_canton_na.index)\n",
    "df_mod.isna().sum()"
   ],
   "metadata": {
    "collapsed": false,
    "ExecuteTime": {
     "end_time": "2023-10-01T18:44:14.923632300Z",
     "start_time": "2023-10-01T18:44:14.712494Z"
    }
   },
   "id": "236d0fe766093e48"
  },
  {
   "cell_type": "markdown",
   "source": [
    "Im nächsten Schritt werden die Einträge der Spalte 'CouncilName' untersucht. Dabei wird nach Hinweisen für die Gründe der fehlenden Werte gesucht."
   ],
   "metadata": {
    "collapsed": false
   },
   "id": "6215890b87ca8047"
  },
  {
   "cell_type": "code",
   "execution_count": 82,
   "outputs": [
    {
     "data": {
      "text/plain": "      Active  FirstName    LastName GenderAsString  CantonName  \\\n1027   False     Corina    Casanova              f  Graubünden   \n2837   False  Annemarie  Huber-Hotz              f        Bern   \n5692    True     Walter   Thurnherr              m      Aargau   \n\n     CantonAbbreviation CouncilName ParlGroupName ParlGroupAbbreviation  \\\n1027                 GR         NaN           NaN                   NaN   \n2837                 BE         NaN           NaN                   NaN   \n5692                 AG         NaN           NaN                   NaN   \n\n                                            PartyName PartyAbbreviation  \\\n1027  Christlichdemokratische Volkspartei der Schweiz               CVP   \n2837      Freisinnig-Demokratische Partei der Schweiz               FDP   \n5692  Christlichdemokratische Volkspartei der Schweiz               CVP   \n\n     MaritalStatusText BirthPlace_City BirthPlace_Canton Mandates DateJoining  \\\n1027               NaN           Ilanz        Graubünden      NaN  2008-01-01   \n2837               NaN            Baar               Zug      NaN  1999-12-15   \n5692               NaN            Muri            Aargau      NaN  2016-01-01   \n\n     DateLeaving               Citizenship DateOfBirth DateOfDeath  \n1027  2015-12-31   Ruschein (GR),Vrin (GR)  1956-01-04         NaT  \n2837  2007-12-31  Kirchberg (SG),Baar (ZG)  1948-08-16  2019-08-01  \n5692         NaT                       NaN  1963-07-11         NaT  ",
      "text/html": "<div>\n<style scoped>\n    .dataframe tbody tr th:only-of-type {\n        vertical-align: middle;\n    }\n\n    .dataframe tbody tr th {\n        vertical-align: top;\n    }\n\n    .dataframe thead th {\n        text-align: right;\n    }\n</style>\n<table border=\"1\" class=\"dataframe\">\n  <thead>\n    <tr style=\"text-align: right;\">\n      <th></th>\n      <th>Active</th>\n      <th>FirstName</th>\n      <th>LastName</th>\n      <th>GenderAsString</th>\n      <th>CantonName</th>\n      <th>CantonAbbreviation</th>\n      <th>CouncilName</th>\n      <th>ParlGroupName</th>\n      <th>ParlGroupAbbreviation</th>\n      <th>PartyName</th>\n      <th>PartyAbbreviation</th>\n      <th>MaritalStatusText</th>\n      <th>BirthPlace_City</th>\n      <th>BirthPlace_Canton</th>\n      <th>Mandates</th>\n      <th>DateJoining</th>\n      <th>DateLeaving</th>\n      <th>Citizenship</th>\n      <th>DateOfBirth</th>\n      <th>DateOfDeath</th>\n    </tr>\n  </thead>\n  <tbody>\n    <tr>\n      <th>1027</th>\n      <td>False</td>\n      <td>Corina</td>\n      <td>Casanova</td>\n      <td>f</td>\n      <td>Graubünden</td>\n      <td>GR</td>\n      <td>NaN</td>\n      <td>NaN</td>\n      <td>NaN</td>\n      <td>Christlichdemokratische Volkspartei der Schweiz</td>\n      <td>CVP</td>\n      <td>NaN</td>\n      <td>Ilanz</td>\n      <td>Graubünden</td>\n      <td>NaN</td>\n      <td>2008-01-01</td>\n      <td>2015-12-31</td>\n      <td>Ruschein (GR),Vrin (GR)</td>\n      <td>1956-01-04</td>\n      <td>NaT</td>\n    </tr>\n    <tr>\n      <th>2837</th>\n      <td>False</td>\n      <td>Annemarie</td>\n      <td>Huber-Hotz</td>\n      <td>f</td>\n      <td>Bern</td>\n      <td>BE</td>\n      <td>NaN</td>\n      <td>NaN</td>\n      <td>NaN</td>\n      <td>Freisinnig-Demokratische Partei der Schweiz</td>\n      <td>FDP</td>\n      <td>NaN</td>\n      <td>Baar</td>\n      <td>Zug</td>\n      <td>NaN</td>\n      <td>1999-12-15</td>\n      <td>2007-12-31</td>\n      <td>Kirchberg (SG),Baar (ZG)</td>\n      <td>1948-08-16</td>\n      <td>2019-08-01</td>\n    </tr>\n    <tr>\n      <th>5692</th>\n      <td>True</td>\n      <td>Walter</td>\n      <td>Thurnherr</td>\n      <td>m</td>\n      <td>Aargau</td>\n      <td>AG</td>\n      <td>NaN</td>\n      <td>NaN</td>\n      <td>NaN</td>\n      <td>Christlichdemokratische Volkspartei der Schweiz</td>\n      <td>CVP</td>\n      <td>NaN</td>\n      <td>Muri</td>\n      <td>Aargau</td>\n      <td>NaN</td>\n      <td>2016-01-01</td>\n      <td>NaT</td>\n      <td>NaN</td>\n      <td>1963-07-11</td>\n      <td>NaT</td>\n    </tr>\n  </tbody>\n</table>\n</div>"
     },
     "execution_count": 82,
     "metadata": {},
     "output_type": "execute_result"
    }
   ],
   "source": [
    "df_council_na = df_mod[df_mod['CouncilName'].isna()]\n",
    "df_council_na"
   ],
   "metadata": {
    "collapsed": false,
    "ExecuteTime": {
     "end_time": "2023-10-01T18:44:14.936830Z",
     "start_time": "2023-10-01T18:44:14.751259300Z"
    }
   },
   "id": "a7e1793e11197207"
  },
  {
   "cell_type": "markdown",
   "source": [
    "Bei diesen drei Personen handelt es sich offensichtlich um Personen, welche als Bundeskanzler im Amt waren oder sind. Da diese Information gesichert ist, werden die fehlenden Werte mit 'Bundeskanzler' ergänzt."
   ],
   "metadata": {
    "collapsed": false
   },
   "id": "475b21d18d5c68c2"
  },
  {
   "cell_type": "code",
   "execution_count": 83,
   "outputs": [
    {
     "data": {
      "text/plain": "Active                      0\nFirstName                   0\nLastName                    0\nGenderAsString              0\nCantonName                  0\nCantonAbbreviation          0\nCouncilName                 0\nParlGroupName            1476\nParlGroupAbbreviation    1476\nPartyName                  76\nPartyAbbreviation          78\nMaritalStatusText        6188\nBirthPlace_City          4264\nBirthPlace_Canton        4342\nMandates                 4546\nDateJoining                 0\nDateLeaving               256\nCitizenship                 5\nDateOfBirth                 0\nDateOfDeath              2159\ndtype: int64"
     },
     "execution_count": 83,
     "metadata": {},
     "output_type": "execute_result"
    }
   ],
   "source": [
    "df_mod['CouncilName'] = df_mod['CouncilName'].fillna('Bundeskanzler')\n",
    "df_mod.isna().sum()"
   ],
   "metadata": {
    "collapsed": false,
    "ExecuteTime": {
     "end_time": "2023-10-01T18:44:14.967855900Z",
     "start_time": "2023-10-01T18:44:14.782357400Z"
    }
   },
   "id": "df9c2dc833e30b12"
  },
  {
   "cell_type": "markdown",
   "source": [
    "Nun werden die Parteinamen genauer angeschaut. Konkret geht es hier wiederum als erstes um die fehlenden Werte. Da der Parteiname und die Partei-Abkürzung zusammenhängen, wird nach vorhandenen Werten in der einen oder anderen Spalte gesucht. Falls solche Observationen vorahnden sind, können die fehlenden Werte ergänzt werden."
   ],
   "metadata": {
    "collapsed": false
   },
   "id": "521e41b72b0b9b08"
  },
  {
   "cell_type": "code",
   "execution_count": 84,
   "outputs": [
    {
     "data": {
      "text/plain": "      Active     FirstName LastName GenderAsString CantonName  \\\n2641   False  Jean-Jacques     Hegg              m     Zürich   \n5449   False          Hans  Steffen              m     Zürich   \n\n     CantonAbbreviation  CouncilName  \\\n2641                 ZH  Nationalrat   \n5449                 ZH  Nationalrat   \n\n                                          ParlGroupName ParlGroupAbbreviation  \\\n2641                     Fraktion der Nationalen Aktion                     N   \n5449  Fraktion der Schweizer Demokraten und der Lega...                     D   \n\n             PartyName PartyAbbreviation MaritalStatusText BirthPlace_City  \\\n2641  Nationale Aktion               NaN               NaN             NaN   \n5449  Nationale Aktion               NaN               NaN          Zürich   \n\n     BirthPlace_Canton                       Mandates DateJoining DateLeaving  \\\n2641               NaN                            NaN  1983-11-28  1985-02-01   \n5449            Zürich  Gemeinderat von 1964 bis 1973  1985-02-04  1995-12-03   \n\n                                   Citizenship DateOfBirth DateOfDeath  \n2641                            Dübendorf (ZH)  1930-11-10  2021-03-24  \n5449  Zürich (ZH),Kloten (ZH),Fischenthal (ZH)  1931-09-29         NaT  ",
      "text/html": "<div>\n<style scoped>\n    .dataframe tbody tr th:only-of-type {\n        vertical-align: middle;\n    }\n\n    .dataframe tbody tr th {\n        vertical-align: top;\n    }\n\n    .dataframe thead th {\n        text-align: right;\n    }\n</style>\n<table border=\"1\" class=\"dataframe\">\n  <thead>\n    <tr style=\"text-align: right;\">\n      <th></th>\n      <th>Active</th>\n      <th>FirstName</th>\n      <th>LastName</th>\n      <th>GenderAsString</th>\n      <th>CantonName</th>\n      <th>CantonAbbreviation</th>\n      <th>CouncilName</th>\n      <th>ParlGroupName</th>\n      <th>ParlGroupAbbreviation</th>\n      <th>PartyName</th>\n      <th>PartyAbbreviation</th>\n      <th>MaritalStatusText</th>\n      <th>BirthPlace_City</th>\n      <th>BirthPlace_Canton</th>\n      <th>Mandates</th>\n      <th>DateJoining</th>\n      <th>DateLeaving</th>\n      <th>Citizenship</th>\n      <th>DateOfBirth</th>\n      <th>DateOfDeath</th>\n    </tr>\n  </thead>\n  <tbody>\n    <tr>\n      <th>2641</th>\n      <td>False</td>\n      <td>Jean-Jacques</td>\n      <td>Hegg</td>\n      <td>m</td>\n      <td>Zürich</td>\n      <td>ZH</td>\n      <td>Nationalrat</td>\n      <td>Fraktion der Nationalen Aktion</td>\n      <td>N</td>\n      <td>Nationale Aktion</td>\n      <td>NaN</td>\n      <td>NaN</td>\n      <td>NaN</td>\n      <td>NaN</td>\n      <td>NaN</td>\n      <td>1983-11-28</td>\n      <td>1985-02-01</td>\n      <td>Dübendorf (ZH)</td>\n      <td>1930-11-10</td>\n      <td>2021-03-24</td>\n    </tr>\n    <tr>\n      <th>5449</th>\n      <td>False</td>\n      <td>Hans</td>\n      <td>Steffen</td>\n      <td>m</td>\n      <td>Zürich</td>\n      <td>ZH</td>\n      <td>Nationalrat</td>\n      <td>Fraktion der Schweizer Demokraten und der Lega...</td>\n      <td>D</td>\n      <td>Nationale Aktion</td>\n      <td>NaN</td>\n      <td>NaN</td>\n      <td>Zürich</td>\n      <td>Zürich</td>\n      <td>Gemeinderat von 1964 bis 1973</td>\n      <td>1985-02-04</td>\n      <td>1995-12-03</td>\n      <td>Zürich (ZH),Kloten (ZH),Fischenthal (ZH)</td>\n      <td>1931-09-29</td>\n      <td>NaT</td>\n    </tr>\n  </tbody>\n</table>\n</div>"
     },
     "execution_count": 84,
     "metadata": {},
     "output_type": "execute_result"
    }
   ],
   "source": [
    "df_party_abbr_na = df_mod[df_mod['PartyName'].isna() & df_mod['PartyAbbreviation'].notna() | df_mod['PartyName'].notna() & df_mod['PartyAbbreviation'].isna()]\n",
    "df_party_abbr_na"
   ],
   "metadata": {
    "collapsed": false,
    "ExecuteTime": {
     "end_time": "2023-10-01T18:44:14.988484100Z",
     "start_time": "2023-10-01T18:44:14.811080500Z"
    }
   },
   "id": "c2c006cf6bd333b8"
  },
  {
   "cell_type": "markdown",
   "source": [
    "Die Abkürzung der Partei 'Nationale Aktion' ist NA. Dieser Wert kann bei der Spalte 'PartyAbbreviation' nicht verwendet werden, da er bereits für die fehlenden Werte steht. Aus diesem Grund wird der Parteiname ergänzt."
   ],
   "metadata": {
    "collapsed": false
   },
   "id": "8cf98900c86954c4"
  },
  {
   "cell_type": "code",
   "execution_count": 85,
   "outputs": [
    {
     "data": {
      "text/plain": "Active                      0\nFirstName                   0\nLastName                    0\nGenderAsString              0\nCantonName                  0\nCantonAbbreviation          0\nCouncilName                 0\nParlGroupName            1476\nParlGroupAbbreviation    1476\nPartyName                  76\nPartyAbbreviation          76\nMaritalStatusText        6188\nBirthPlace_City          4264\nBirthPlace_Canton        4342\nMandates                 4546\nDateJoining                 0\nDateLeaving               256\nCitizenship                 5\nDateOfBirth                 0\nDateOfDeath              2159\ndtype: int64"
     },
     "execution_count": 85,
     "metadata": {},
     "output_type": "execute_result"
    }
   ],
   "source": [
    "# Fehlende Werte in 'ParyAbbreviation' mit den Werten aus 'PartyName' ergänzen\n",
    "df_mod.loc[df_mod['PartyAbbreviation'].isna(), 'PartyAbbreviation'] = df_mod['PartyName']\n",
    "df_mod.isna().sum()"
   ],
   "metadata": {
    "collapsed": false,
    "ExecuteTime": {
     "end_time": "2023-10-01T18:44:15.076517100Z",
     "start_time": "2023-10-01T18:44:14.824136600Z"
    }
   },
   "id": "fc9fea2fbd283c6e"
  },
  {
   "cell_type": "markdown",
   "source": [
    "Die nächste Variable, die genauer angeschaut wird ist die Spalte 'Citizenship'."
   ],
   "metadata": {
    "collapsed": false
   },
   "id": "3b33515d62487de2"
  },
  {
   "cell_type": "code",
   "execution_count": 86,
   "outputs": [
    {
     "data": {
      "text/plain": "      Active      FirstName   LastName GenderAsString CantonName  \\\n1007   False  P. A. Edouard     Carlin              m       Bern   \n1133   False     Fr.-Joseph   Choquard              m       Bern   \n1134   False     Fr.-Joseph   Choquard              m       Bern   \n4435    True        Léonore    Porchet              f      Waadt   \n5692    True         Walter  Thurnherr              m     Aargau   \n\n     CantonAbbreviation    CouncilName   ParlGroupName ParlGroupAbbreviation  \\\n1007                 BE    Nationalrat           Linke                    LG   \n1133                 BE    Nationalrat             NaN                   NaN   \n1134                 BE    Nationalrat             NaN                   NaN   \n4435                 VD    Nationalrat  Grüne Fraktion                     G   \n5692                 AG  Bundeskanzler             NaN                   NaN   \n\n                                            PartyName PartyAbbreviation  \\\n1007      Freisinnig-Demokratische Partei der Schweiz               FDP   \n1133                                     Konservative             Kons*   \n1134                                     Konservative             Kons*   \n4435                         Grüne Partei der Schweiz               GPS   \n5692  Christlichdemokratische Volkspartei der Schweiz               CVP   \n\n     MaritalStatusText  BirthPlace_City BirthPlace_Canton  \\\n1007               NaN              NaN               NaN   \n1133               NaN              NaN               NaN   \n1134               NaN              NaN               NaN   \n4435               NaN  Châtel-St-Denis          Freiburg   \n5692               NaN             Muri            Aargau   \n\n                                               Mandates DateJoining  \\\n1007                                                NaN  1854-12-04   \n1133                                                NaN  1901-03-18   \n1134                                                NaN  1890-12-01   \n4435  Organe législatif de la Ville de Lausanne: de ...  2019-12-02   \n5692                                                NaN  2016-01-01   \n\n     DateLeaving Citizenship DateOfBirth DateOfDeath  \n1007  1870-06-21         NaN  1817-06-26  1870-06-21  \n1133  1928-12-02         NaN  1855-07-22  1937-10-24  \n1134  1895-10-01         NaN  1855-07-22  1937-10-24  \n4435         NaT         NaN  1989-07-09         NaT  \n5692         NaT         NaN  1963-07-11         NaT  ",
      "text/html": "<div>\n<style scoped>\n    .dataframe tbody tr th:only-of-type {\n        vertical-align: middle;\n    }\n\n    .dataframe tbody tr th {\n        vertical-align: top;\n    }\n\n    .dataframe thead th {\n        text-align: right;\n    }\n</style>\n<table border=\"1\" class=\"dataframe\">\n  <thead>\n    <tr style=\"text-align: right;\">\n      <th></th>\n      <th>Active</th>\n      <th>FirstName</th>\n      <th>LastName</th>\n      <th>GenderAsString</th>\n      <th>CantonName</th>\n      <th>CantonAbbreviation</th>\n      <th>CouncilName</th>\n      <th>ParlGroupName</th>\n      <th>ParlGroupAbbreviation</th>\n      <th>PartyName</th>\n      <th>PartyAbbreviation</th>\n      <th>MaritalStatusText</th>\n      <th>BirthPlace_City</th>\n      <th>BirthPlace_Canton</th>\n      <th>Mandates</th>\n      <th>DateJoining</th>\n      <th>DateLeaving</th>\n      <th>Citizenship</th>\n      <th>DateOfBirth</th>\n      <th>DateOfDeath</th>\n    </tr>\n  </thead>\n  <tbody>\n    <tr>\n      <th>1007</th>\n      <td>False</td>\n      <td>P. A. Edouard</td>\n      <td>Carlin</td>\n      <td>m</td>\n      <td>Bern</td>\n      <td>BE</td>\n      <td>Nationalrat</td>\n      <td>Linke</td>\n      <td>LG</td>\n      <td>Freisinnig-Demokratische Partei der Schweiz</td>\n      <td>FDP</td>\n      <td>NaN</td>\n      <td>NaN</td>\n      <td>NaN</td>\n      <td>NaN</td>\n      <td>1854-12-04</td>\n      <td>1870-06-21</td>\n      <td>NaN</td>\n      <td>1817-06-26</td>\n      <td>1870-06-21</td>\n    </tr>\n    <tr>\n      <th>1133</th>\n      <td>False</td>\n      <td>Fr.-Joseph</td>\n      <td>Choquard</td>\n      <td>m</td>\n      <td>Bern</td>\n      <td>BE</td>\n      <td>Nationalrat</td>\n      <td>NaN</td>\n      <td>NaN</td>\n      <td>Konservative</td>\n      <td>Kons*</td>\n      <td>NaN</td>\n      <td>NaN</td>\n      <td>NaN</td>\n      <td>NaN</td>\n      <td>1901-03-18</td>\n      <td>1928-12-02</td>\n      <td>NaN</td>\n      <td>1855-07-22</td>\n      <td>1937-10-24</td>\n    </tr>\n    <tr>\n      <th>1134</th>\n      <td>False</td>\n      <td>Fr.-Joseph</td>\n      <td>Choquard</td>\n      <td>m</td>\n      <td>Bern</td>\n      <td>BE</td>\n      <td>Nationalrat</td>\n      <td>NaN</td>\n      <td>NaN</td>\n      <td>Konservative</td>\n      <td>Kons*</td>\n      <td>NaN</td>\n      <td>NaN</td>\n      <td>NaN</td>\n      <td>NaN</td>\n      <td>1890-12-01</td>\n      <td>1895-10-01</td>\n      <td>NaN</td>\n      <td>1855-07-22</td>\n      <td>1937-10-24</td>\n    </tr>\n    <tr>\n      <th>4435</th>\n      <td>True</td>\n      <td>Léonore</td>\n      <td>Porchet</td>\n      <td>f</td>\n      <td>Waadt</td>\n      <td>VD</td>\n      <td>Nationalrat</td>\n      <td>Grüne Fraktion</td>\n      <td>G</td>\n      <td>Grüne Partei der Schweiz</td>\n      <td>GPS</td>\n      <td>NaN</td>\n      <td>Châtel-St-Denis</td>\n      <td>Freiburg</td>\n      <td>Organe législatif de la Ville de Lausanne: de ...</td>\n      <td>2019-12-02</td>\n      <td>NaT</td>\n      <td>NaN</td>\n      <td>1989-07-09</td>\n      <td>NaT</td>\n    </tr>\n    <tr>\n      <th>5692</th>\n      <td>True</td>\n      <td>Walter</td>\n      <td>Thurnherr</td>\n      <td>m</td>\n      <td>Aargau</td>\n      <td>AG</td>\n      <td>Bundeskanzler</td>\n      <td>NaN</td>\n      <td>NaN</td>\n      <td>Christlichdemokratische Volkspartei der Schweiz</td>\n      <td>CVP</td>\n      <td>NaN</td>\n      <td>Muri</td>\n      <td>Aargau</td>\n      <td>NaN</td>\n      <td>2016-01-01</td>\n      <td>NaT</td>\n      <td>NaN</td>\n      <td>1963-07-11</td>\n      <td>NaT</td>\n    </tr>\n  </tbody>\n</table>\n</div>"
     },
     "execution_count": 86,
     "metadata": {},
     "output_type": "execute_result"
    }
   ],
   "source": [
    "df_citizenship_na = df_mod[df_mod['Citizenship'].isna()]\n",
    "df_citizenship_na"
   ],
   "metadata": {
    "collapsed": false,
    "ExecuteTime": {
     "end_time": "2023-10-01T18:44:15.123819200Z",
     "start_time": "2023-10-01T18:44:14.859082100Z"
    }
   },
   "id": "9d8f734c309df17f"
  },
  {
   "cell_type": "markdown",
   "source": [
    "Es können keine Rückschlüsse auf diese fehlenden Werte gemacht werden, weshalb die Observationen so belassen werden.\n",
    "Bei der Spalte 'PartyAbbreviation' gibt es Werte, die am Schluss der Abkürzung ein * aufweisen. Diese Einträge werden genauer untersucht."
   ],
   "metadata": {
    "collapsed": false
   },
   "id": "9d2366baf6c3c0"
  },
  {
   "cell_type": "code",
   "execution_count": 87,
   "outputs": [
    {
     "data": {
      "text/plain": "                               PartyName PartyAbbreviation\n0                           Konservative             Kons*\n7                               Liberale              Lib*\n24                            Demokraten              Dem*\n190              Gemässigte Konservative            GKons*\n321                           Grütlianer             Grüt*\n407                          Mitte links           MitteL*\n513            Juste milieu/Zentrum (BS)        Zent (BS)*\n536              Reformiert Konservative            RKons*\n698        Demokraten und Arbeiterpartei              DAP*\n749   Kommunistische Partei - Opposition              KPO*\n819        Sozialist rechter Flügel (BS)         SRF (BS)*\n916                   Berner Volkspartei             BeVP*\n1210                        Mitte rechts           MitteR*\n1360          Partito dei Popolini ( TI)         PdP (TI)*\n1383    Föderaldemokratische Partei (GR)             FödP*\n1418        Indépendant (rad.diss.) (GE)         Ind (GE)*\n1554                          Unabhängig             Unab*\n1561                    Volkspartei (BE)          VP (BE)*\n1645     Grütlianer und Sozialdemokraten          Grut&SP*\n1651                Liberal-konservative          LibKons*\n1850            Bauernpartei (nicht BGB)               BP*\n2151                  Fortschrittspartei               FP*\n2633           Grütlianer und Demokraten         Grut&Dem*\n2646             Seele der Bewegung (AR)         SdB (AR)*\n3228           Demokratisch-konservative          DemKons*\n3793            Bauern- und Arbeiterbund              BAB*\n5142                     Grütlianer nahe         Grütnahe*\n5143               Sozialdemokratie nahe          Soznahe*\n5163              Bauernvereinigung (SZ)          BV (SZ)*\n5501                       Freisinn nahe        Freisnahe*\n5978        Vereinigte Konservative (BE)        VKons(BE)*\n6415           Alliance jurassienne (BE)         AJU (BE)*",
      "text/html": "<div>\n<style scoped>\n    .dataframe tbody tr th:only-of-type {\n        vertical-align: middle;\n    }\n\n    .dataframe tbody tr th {\n        vertical-align: top;\n    }\n\n    .dataframe thead th {\n        text-align: right;\n    }\n</style>\n<table border=\"1\" class=\"dataframe\">\n  <thead>\n    <tr style=\"text-align: right;\">\n      <th></th>\n      <th>PartyName</th>\n      <th>PartyAbbreviation</th>\n    </tr>\n  </thead>\n  <tbody>\n    <tr>\n      <th>0</th>\n      <td>Konservative</td>\n      <td>Kons*</td>\n    </tr>\n    <tr>\n      <th>7</th>\n      <td>Liberale</td>\n      <td>Lib*</td>\n    </tr>\n    <tr>\n      <th>24</th>\n      <td>Demokraten</td>\n      <td>Dem*</td>\n    </tr>\n    <tr>\n      <th>190</th>\n      <td>Gemässigte Konservative</td>\n      <td>GKons*</td>\n    </tr>\n    <tr>\n      <th>321</th>\n      <td>Grütlianer</td>\n      <td>Grüt*</td>\n    </tr>\n    <tr>\n      <th>407</th>\n      <td>Mitte links</td>\n      <td>MitteL*</td>\n    </tr>\n    <tr>\n      <th>513</th>\n      <td>Juste milieu/Zentrum (BS)</td>\n      <td>Zent (BS)*</td>\n    </tr>\n    <tr>\n      <th>536</th>\n      <td>Reformiert Konservative</td>\n      <td>RKons*</td>\n    </tr>\n    <tr>\n      <th>698</th>\n      <td>Demokraten und Arbeiterpartei</td>\n      <td>DAP*</td>\n    </tr>\n    <tr>\n      <th>749</th>\n      <td>Kommunistische Partei - Opposition</td>\n      <td>KPO*</td>\n    </tr>\n    <tr>\n      <th>819</th>\n      <td>Sozialist rechter Flügel (BS)</td>\n      <td>SRF (BS)*</td>\n    </tr>\n    <tr>\n      <th>916</th>\n      <td>Berner Volkspartei</td>\n      <td>BeVP*</td>\n    </tr>\n    <tr>\n      <th>1210</th>\n      <td>Mitte rechts</td>\n      <td>MitteR*</td>\n    </tr>\n    <tr>\n      <th>1360</th>\n      <td>Partito dei Popolini ( TI)</td>\n      <td>PdP (TI)*</td>\n    </tr>\n    <tr>\n      <th>1383</th>\n      <td>Föderaldemokratische Partei (GR)</td>\n      <td>FödP*</td>\n    </tr>\n    <tr>\n      <th>1418</th>\n      <td>Indépendant (rad.diss.) (GE)</td>\n      <td>Ind (GE)*</td>\n    </tr>\n    <tr>\n      <th>1554</th>\n      <td>Unabhängig</td>\n      <td>Unab*</td>\n    </tr>\n    <tr>\n      <th>1561</th>\n      <td>Volkspartei (BE)</td>\n      <td>VP (BE)*</td>\n    </tr>\n    <tr>\n      <th>1645</th>\n      <td>Grütlianer und Sozialdemokraten</td>\n      <td>Grut&amp;SP*</td>\n    </tr>\n    <tr>\n      <th>1651</th>\n      <td>Liberal-konservative</td>\n      <td>LibKons*</td>\n    </tr>\n    <tr>\n      <th>1850</th>\n      <td>Bauernpartei (nicht BGB)</td>\n      <td>BP*</td>\n    </tr>\n    <tr>\n      <th>2151</th>\n      <td>Fortschrittspartei</td>\n      <td>FP*</td>\n    </tr>\n    <tr>\n      <th>2633</th>\n      <td>Grütlianer und Demokraten</td>\n      <td>Grut&amp;Dem*</td>\n    </tr>\n    <tr>\n      <th>2646</th>\n      <td>Seele der Bewegung (AR)</td>\n      <td>SdB (AR)*</td>\n    </tr>\n    <tr>\n      <th>3228</th>\n      <td>Demokratisch-konservative</td>\n      <td>DemKons*</td>\n    </tr>\n    <tr>\n      <th>3793</th>\n      <td>Bauern- und Arbeiterbund</td>\n      <td>BAB*</td>\n    </tr>\n    <tr>\n      <th>5142</th>\n      <td>Grütlianer nahe</td>\n      <td>Grütnahe*</td>\n    </tr>\n    <tr>\n      <th>5143</th>\n      <td>Sozialdemokratie nahe</td>\n      <td>Soznahe*</td>\n    </tr>\n    <tr>\n      <th>5163</th>\n      <td>Bauernvereinigung (SZ)</td>\n      <td>BV (SZ)*</td>\n    </tr>\n    <tr>\n      <th>5501</th>\n      <td>Freisinn nahe</td>\n      <td>Freisnahe*</td>\n    </tr>\n    <tr>\n      <th>5978</th>\n      <td>Vereinigte Konservative (BE)</td>\n      <td>VKons(BE)*</td>\n    </tr>\n    <tr>\n      <th>6415</th>\n      <td>Alliance jurassienne (BE)</td>\n      <td>AJU (BE)*</td>\n    </tr>\n  </tbody>\n</table>\n</div>"
     },
     "execution_count": 87,
     "metadata": {},
     "output_type": "execute_result"
    }
   ],
   "source": [
    "df_notna = df_mod[df_mod['PartyAbbreviation'].notna()]\n",
    "df_party_abbr_star = df_notna[df_notna['PartyAbbreviation'].str.contains('\\*', regex=True)]\n",
    "df_party_abbr_star = df_party_abbr_star[['PartyName', 'PartyAbbreviation']].drop_duplicates()\n",
    "df_party_abbr_star"
   ],
   "metadata": {
    "collapsed": false,
    "ExecuteTime": {
     "end_time": "2023-10-01T18:44:15.123819200Z",
     "start_time": "2023-10-01T18:44:14.891638500Z"
    }
   },
   "id": "23cf01c1f96f61b1"
  },
  {
   "cell_type": "markdown",
   "source": [
    "Es betrifft 1401 Einträge, welche mit Stern versehen sind. Nun interessiert, ob es sich bei allen Abkürzungen zu den jeweiligen Parteinamen so verhält, oder ob gewisse Abkürzungen ohne Stern vorhanden sind.\n",
    "Dazu wird ein Datenset mit allen Parteinamen erstellt, welche auch im Datenset df_party_abbr_star vorhanden sind. Dieses neue Datenset wird nur mit dem Parteinamen und deren Abkürzung erstellt. Die Werte sollen auch nur einmal vorhanden sein."
   ],
   "metadata": {
    "collapsed": false
   },
   "id": "6c9daa17ac93f409"
  },
  {
   "cell_type": "code",
   "execution_count": 88,
   "outputs": [
    {
     "data": {
      "text/plain": "                               PartyName PartyAbbreviation\n0                           Konservative             Kons*\n7                               Liberale              Lib*\n24                            Demokraten              Dem*\n190              Gemässigte Konservative            GKons*\n321                           Grütlianer             Grüt*\n407                          Mitte links           MitteL*\n513            Juste milieu/Zentrum (BS)        Zent (BS)*\n536              Reformiert Konservative            RKons*\n698        Demokraten und Arbeiterpartei              DAP*\n749   Kommunistische Partei - Opposition              KPO*\n819        Sozialist rechter Flügel (BS)         SRF (BS)*\n916                   Berner Volkspartei             BeVP*\n1210                        Mitte rechts           MitteR*\n1360          Partito dei Popolini ( TI)         PdP (TI)*\n1383    Föderaldemokratische Partei (GR)             FödP*\n1418        Indépendant (rad.diss.) (GE)         Ind (GE)*\n1554                          Unabhängig             Unab*\n1561                    Volkspartei (BE)          VP (BE)*\n1645     Grütlianer und Sozialdemokraten          Grut&SP*\n1651                Liberal-konservative          LibKons*\n1850            Bauernpartei (nicht BGB)               BP*\n2151                  Fortschrittspartei               FP*\n2633           Grütlianer und Demokraten         Grut&Dem*\n2646             Seele der Bewegung (AR)         SdB (AR)*\n3228           Demokratisch-konservative          DemKons*\n3793            Bauern- und Arbeiterbund              BAB*\n5142                     Grütlianer nahe         Grütnahe*\n5143               Sozialdemokratie nahe          Soznahe*\n5163              Bauernvereinigung (SZ)          BV (SZ)*\n5501                       Freisinn nahe        Freisnahe*\n5978        Vereinigte Konservative (BE)        VKons(BE)*\n6415           Alliance jurassienne (BE)         AJU (BE)*",
      "text/html": "<div>\n<style scoped>\n    .dataframe tbody tr th:only-of-type {\n        vertical-align: middle;\n    }\n\n    .dataframe tbody tr th {\n        vertical-align: top;\n    }\n\n    .dataframe thead th {\n        text-align: right;\n    }\n</style>\n<table border=\"1\" class=\"dataframe\">\n  <thead>\n    <tr style=\"text-align: right;\">\n      <th></th>\n      <th>PartyName</th>\n      <th>PartyAbbreviation</th>\n    </tr>\n  </thead>\n  <tbody>\n    <tr>\n      <th>0</th>\n      <td>Konservative</td>\n      <td>Kons*</td>\n    </tr>\n    <tr>\n      <th>7</th>\n      <td>Liberale</td>\n      <td>Lib*</td>\n    </tr>\n    <tr>\n      <th>24</th>\n      <td>Demokraten</td>\n      <td>Dem*</td>\n    </tr>\n    <tr>\n      <th>190</th>\n      <td>Gemässigte Konservative</td>\n      <td>GKons*</td>\n    </tr>\n    <tr>\n      <th>321</th>\n      <td>Grütlianer</td>\n      <td>Grüt*</td>\n    </tr>\n    <tr>\n      <th>407</th>\n      <td>Mitte links</td>\n      <td>MitteL*</td>\n    </tr>\n    <tr>\n      <th>513</th>\n      <td>Juste milieu/Zentrum (BS)</td>\n      <td>Zent (BS)*</td>\n    </tr>\n    <tr>\n      <th>536</th>\n      <td>Reformiert Konservative</td>\n      <td>RKons*</td>\n    </tr>\n    <tr>\n      <th>698</th>\n      <td>Demokraten und Arbeiterpartei</td>\n      <td>DAP*</td>\n    </tr>\n    <tr>\n      <th>749</th>\n      <td>Kommunistische Partei - Opposition</td>\n      <td>KPO*</td>\n    </tr>\n    <tr>\n      <th>819</th>\n      <td>Sozialist rechter Flügel (BS)</td>\n      <td>SRF (BS)*</td>\n    </tr>\n    <tr>\n      <th>916</th>\n      <td>Berner Volkspartei</td>\n      <td>BeVP*</td>\n    </tr>\n    <tr>\n      <th>1210</th>\n      <td>Mitte rechts</td>\n      <td>MitteR*</td>\n    </tr>\n    <tr>\n      <th>1360</th>\n      <td>Partito dei Popolini ( TI)</td>\n      <td>PdP (TI)*</td>\n    </tr>\n    <tr>\n      <th>1383</th>\n      <td>Föderaldemokratische Partei (GR)</td>\n      <td>FödP*</td>\n    </tr>\n    <tr>\n      <th>1418</th>\n      <td>Indépendant (rad.diss.) (GE)</td>\n      <td>Ind (GE)*</td>\n    </tr>\n    <tr>\n      <th>1554</th>\n      <td>Unabhängig</td>\n      <td>Unab*</td>\n    </tr>\n    <tr>\n      <th>1561</th>\n      <td>Volkspartei (BE)</td>\n      <td>VP (BE)*</td>\n    </tr>\n    <tr>\n      <th>1645</th>\n      <td>Grütlianer und Sozialdemokraten</td>\n      <td>Grut&amp;SP*</td>\n    </tr>\n    <tr>\n      <th>1651</th>\n      <td>Liberal-konservative</td>\n      <td>LibKons*</td>\n    </tr>\n    <tr>\n      <th>1850</th>\n      <td>Bauernpartei (nicht BGB)</td>\n      <td>BP*</td>\n    </tr>\n    <tr>\n      <th>2151</th>\n      <td>Fortschrittspartei</td>\n      <td>FP*</td>\n    </tr>\n    <tr>\n      <th>2633</th>\n      <td>Grütlianer und Demokraten</td>\n      <td>Grut&amp;Dem*</td>\n    </tr>\n    <tr>\n      <th>2646</th>\n      <td>Seele der Bewegung (AR)</td>\n      <td>SdB (AR)*</td>\n    </tr>\n    <tr>\n      <th>3228</th>\n      <td>Demokratisch-konservative</td>\n      <td>DemKons*</td>\n    </tr>\n    <tr>\n      <th>3793</th>\n      <td>Bauern- und Arbeiterbund</td>\n      <td>BAB*</td>\n    </tr>\n    <tr>\n      <th>5142</th>\n      <td>Grütlianer nahe</td>\n      <td>Grütnahe*</td>\n    </tr>\n    <tr>\n      <th>5143</th>\n      <td>Sozialdemokratie nahe</td>\n      <td>Soznahe*</td>\n    </tr>\n    <tr>\n      <th>5163</th>\n      <td>Bauernvereinigung (SZ)</td>\n      <td>BV (SZ)*</td>\n    </tr>\n    <tr>\n      <th>5501</th>\n      <td>Freisinn nahe</td>\n      <td>Freisnahe*</td>\n    </tr>\n    <tr>\n      <th>5978</th>\n      <td>Vereinigte Konservative (BE)</td>\n      <td>VKons(BE)*</td>\n    </tr>\n    <tr>\n      <th>6415</th>\n      <td>Alliance jurassienne (BE)</td>\n      <td>AJU (BE)*</td>\n    </tr>\n  </tbody>\n</table>\n</div>"
     },
     "execution_count": 88,
     "metadata": {},
     "output_type": "execute_result"
    }
   ],
   "source": [
    "df_partyname_unique = df_notna[df_notna['PartyName'].isin(df_party_abbr_star['PartyName'])][['PartyName', 'PartyAbbreviation']].drop_duplicates()\n",
    "df_partyname_unique"
   ],
   "metadata": {
    "collapsed": false,
    "ExecuteTime": {
     "end_time": "2023-10-01T18:44:15.123819200Z",
     "start_time": "2023-10-01T18:44:14.907404700Z"
    }
   },
   "id": "c2119cf15d373aa2"
  },
  {
   "cell_type": "markdown",
   "source": [
    "Es sind auch 32 Reihen vorhanden, wie im Dateenset df_party_abbr_star. Eine Durchsicht von Hand (aufgrund der kleinen Datenmenge gut möglich) zeigt auch keine weiteren Auffälligkeiten. Die Abkürzungen mit Stern werden so belassen.\n",
    "\n",
    "Das Datenset df_mod weist noch Ungereimtheiten bei den Spalten 'BirthPlace_City' und 'BirthPlace_Canton' auf. Diese werden im nächsten Schritt genauer untersucht. Dazu wird zuerst eine Liste mit allen Geburtsorten erstellt."
   ],
   "metadata": {
    "collapsed": false
   },
   "id": "36f3ee5a0b3848cf"
  },
  {
   "cell_type": "code",
   "execution_count": 89,
   "outputs": [
    {
     "data": {
      "text/plain": "array(['Locarno', 'Lausanne', 'Burgdorf', 'Schwarzenburg', 'Bern',\n       'Winterthur', 'St. Gallen', 'Zug', 'Pompaples', 'Basel',\n       'Montevideo', 'Genève', 'Bienne', 'Brig-Glis', 'Altstätten',\n       'Schaffhausen', 'Sierre', 'Sigriswil', 'Freiburg', 'Siders',\n       'Hasle', 'Altdorf', 'Erzincan', 'Elbistan', 'Le Chenit',\n       'Mümliswil', 'Sumiswald', 'Sydney', 'Delémont', 'Aarberg',\n       'Bardonnex', 'Neuchâtel', 'Suberg', 'Zürich', 'Wassen',\n       'St. Imier', 'Thalwil', 'Genève 8', 'Biel', 'Boudry',\n       'La Chaux-de-Fonds', 'Lille', 'Neuenburg', 'Uznach', 'Thun',\n       'Scuol', 'Vilters', 'Lugano', 'Viganello', 'Illnau-Effretikon',\n       'Wölflinswil', 'Emmen', 'Solothurn', 'Heiden', 'Lachen',\n       'Laufen am Rheinfall', 'Stein am Rhein', 'Aigle',\n       'Affoltern am Albis', 'Horgen', 'Huttwil', 'Vnà', 'Visp',\n       'Binningen', 'Belp', 'Baden', 'Ruswil', 'Wattwil', 'Fribourg',\n       'Schänis', 'Yverdon-les-Bains', 'St-Prex', 'Sempach', 'Hofen',\n       'Zofingen', 'Frauenfeld', 'Monthey', 'Wolfwil', 'Cadenazzo',\n       'Cinuos-chel', 'Ilanz', 'Mendrisio', 'Bellinzona', 'Sessa',\n       'Brigels', 'Sorengo', 'Chur', 'Morges', 'Aubonne', 'Sitten',\n       'Untersiggenthal', 'Salgesch', 'Saxon', 'Billens', 'Muralto',\n       'Jaun', 'Martigny', 'Amsterdam', 'Le Pâquier', 'Andermatt',\n       'Savièse', 'Trun', 'St-Léonard', 'Schwyz', 'Einsiedeln',\n       'Attinghausen', 'Männedorf', 'Luzern', 'Vevey', 'Alpnach',\n       'Küssnacht am Rigi', 'Münsterlingen', 'Rorschach', 'Menziken',\n       'Ibach', 'Aarau', 'Appenzell', 'Bratislava', 'Sursee', 'Kerns',\n       'La Rippe', 'Comano', 'Alterswil', 'Villars-Bramard', 'Fleurier',\n       'Chêne-Bougeries', 'Berg am Irchel', 'Wallisellen', 'Rheinklingen',\n       'Genolier', 'Salins', 'Triengen', 'Hägglingen', 'Horw',\n       'Unterseen', 'Muotathal', 'Riddes', 'Metz', 'Glarus', 'Wittenbach',\n       'Schönenwerd', 'Moutier', 'Erlenbach im Simmental', 'Muri', 'Riaz',\n       'Langenthal', 'Herisau', 'Faido', 'Sion', 'Samedan', 'Rothrist',\n       'Baar', 'Oftringen', 'Sissach', 'Uster', 'Breslau',\n       'Valeyres-sous-Rances', 'New York', 'Flawil', 'Kobe', 'Frutigen',\n       'Kapstadt', 'Rüderswil', 'Porrentruy', 'Udupi', 'Uzwil',\n       'Wädenswil', 'Mettmenstetten', 'Wetzikon (ZH)', 'Grenchen',\n       'Montreal', 'Merishausen', 'Pratval', 'Donat', 'Ottenbach',\n       'Edlibach', 'Neuendorf', 'Budapest', 'Unterägeri', 'Roggwil',\n       'Niederuzwil', 'Dürrenroth', 'Degersheim', 'Niedergösgen',\n       'Buenos Aires', 'Mosnang', 'Haslen', 'Krauchthal', 'Schattdorf',\n       'Kreuzlingen', 'Breitenbach', 'Zwingen', 'Münster', 'Cresciano',\n       'Zimmerwald', 'Nebikon', 'Stalden', 'Lalden', 'Lenzburg',\n       'Ettiswil', 'Frenkendorf', 'Andelfingen', 'Gossau', 'Berne',\n       'Leuggern', 'Deitingen', 'Rapperswil', 'Grosswangen',\n       'Richterswil', 'Bonfol', 'Näfels', 'Aristau', 'Belfaux',\n       'Engelberg', 'Hohenrain', 'Kräiligen', 'Herzogenbuchsee',\n       'Pfäffikon', 'Rom', 'Merenschwand', 'La Tour-de-Trême', 'Berg',\n       'Leukerbad', 'Marbach', 'Krattigen', 'Lussenga', 'Romoos',\n       'Bülach', 'Monteggio', 'Champéry', 'Liestal',\n       'Chapelle-sur-Moudon', 'Kölliken', 'Uetikon am See',\n       'Beinwil am See', 'Le Locle', 'Riedt', 'Muttenz',\n       'Châtel-St-Denis', 'Thal', 'Grüsch', 'Titterten', 'Stäfa',\n       'Illhart', 'Azmoos', 'Brugg', 'Mogelsberg', 'Ermensee', 'Henau',\n       'Uccle', 'Lignerolle', 'Büren', 'Mulhouse', 'Reust', 'Kandersteg',\n       'Bursins', 'Soubey', 'Paris', 'Vuippens', 'Biasca', 'Davos',\n       'Balerna', 'Pully', 'Laufenburg', 'Bassecourt', 'Wiler (Lötschen)',\n       'Roveredo', 'Gland', 'Saillon', 'Grimisuat', 'Nyon', 'Wilderswil',\n       'Gurtendorf bei Wabern', 'Wald', 'Lyon', 'Bulle', 'Ennetmoos',\n       'Nottwil', 'Langnau im Emmental', 'Cham', 'Kirchberg',\n       'Udligenswil', 'Hagenbuch', 'Rüti b. Büren', 'Thusis', 'Binn',\n       'Galgenen', 'Grindelwald', 'Fahrwangen', 'Stans', 'Sevilla',\n       'Flüelen', 'Dielsdorf', 'Grosshöchstetten', 'Wattenwil', 'Gordola',\n       'Lauperswil', 'Fehren', 'Staad', 'Moukden', 'Bonau', 'Hagen',\n       'Triest', 'Saint-Aubin', 'Leysin', \"Château-d'Oex\", 'Pfeffikon',\n       'Oberkirch', 'Muri b. Bern', 'Sarnen', 'Gstaad', 'St. Antoni',\n       'Moudon', 'Waldkirch', 'Diemtigen', 'Carouge', 'Mörel',\n       'Volketswil', 'Bauma', 'Messen', 'Wohlen', 'Montreux',\n       'Romanshorn', 'Jegenstorf', 'Kriens', 'Hochdorf', 'Felsberg',\n       'Walenstadt', 'Schwerzenbach', 'Ebnat-Kappel', 'Schüpfheim',\n       'Grasswil', 'Lüsslingen', 'Häggenschwil', 'Rüschegg', 'Silenen',\n       'Istanbul', 'Glarus Süd', 'Schliern'], dtype=object)"
     },
     "execution_count": 89,
     "metadata": {},
     "output_type": "execute_result"
    }
   ],
   "source": [
    "list_city_of_birth = df_mod['BirthPlace_City'].dropna().unique()\n",
    "list_city_of_birth"
   ],
   "metadata": {
    "collapsed": false,
    "ExecuteTime": {
     "end_time": "2023-10-01T18:44:15.170888900Z",
     "start_time": "2023-10-01T18:44:14.929856700Z"
    }
   },
   "id": "5e2541cb1d827008"
  },
  {
   "cell_type": "code",
   "execution_count": 90,
   "outputs": [
    {
     "data": {
      "text/plain": "     BirthPlace_City BirthPlace_Canton\n2            Locarno            Tessin\n21          Lausanne             Waadt\n30          Burgdorf              Bern\n35     Schwarzenburg              Bern\n39              Bern              Bern\n...              ...               ...\n6317        Rüschegg              Bern\n6349         Silenen               Uri\n6375        Istanbul               NaN\n6382      Glarus Süd            Glarus\n6423        Schliern              Bern\n\n[339 rows x 2 columns]",
      "text/html": "<div>\n<style scoped>\n    .dataframe tbody tr th:only-of-type {\n        vertical-align: middle;\n    }\n\n    .dataframe tbody tr th {\n        vertical-align: top;\n    }\n\n    .dataframe thead th {\n        text-align: right;\n    }\n</style>\n<table border=\"1\" class=\"dataframe\">\n  <thead>\n    <tr style=\"text-align: right;\">\n      <th></th>\n      <th>BirthPlace_City</th>\n      <th>BirthPlace_Canton</th>\n    </tr>\n  </thead>\n  <tbody>\n    <tr>\n      <th>2</th>\n      <td>Locarno</td>\n      <td>Tessin</td>\n    </tr>\n    <tr>\n      <th>21</th>\n      <td>Lausanne</td>\n      <td>Waadt</td>\n    </tr>\n    <tr>\n      <th>30</th>\n      <td>Burgdorf</td>\n      <td>Bern</td>\n    </tr>\n    <tr>\n      <th>35</th>\n      <td>Schwarzenburg</td>\n      <td>Bern</td>\n    </tr>\n    <tr>\n      <th>39</th>\n      <td>Bern</td>\n      <td>Bern</td>\n    </tr>\n    <tr>\n      <th>...</th>\n      <td>...</td>\n      <td>...</td>\n    </tr>\n    <tr>\n      <th>6317</th>\n      <td>Rüschegg</td>\n      <td>Bern</td>\n    </tr>\n    <tr>\n      <th>6349</th>\n      <td>Silenen</td>\n      <td>Uri</td>\n    </tr>\n    <tr>\n      <th>6375</th>\n      <td>Istanbul</td>\n      <td>NaN</td>\n    </tr>\n    <tr>\n      <th>6382</th>\n      <td>Glarus Süd</td>\n      <td>Glarus</td>\n    </tr>\n    <tr>\n      <th>6423</th>\n      <td>Schliern</td>\n      <td>Bern</td>\n    </tr>\n  </tbody>\n</table>\n<p>339 rows × 2 columns</p>\n</div>"
     },
     "execution_count": 90,
     "metadata": {},
     "output_type": "execute_result"
    }
   ],
   "source": [
    "list_city_canton = df_mod[df_mod['BirthPlace_City'].isin(list_city_of_birth)][['BirthPlace_City', 'BirthPlace_Canton']].drop_duplicates()\n",
    "list_city_canton"
   ],
   "metadata": {
    "collapsed": false,
    "ExecuteTime": {
     "end_time": "2023-10-01T18:44:15.170888900Z",
     "start_time": "2023-10-01T18:44:14.945726Z"
    }
   },
   "id": "804618ef0bd49381"
  },
  {
   "cell_type": "code",
   "execution_count": 91,
   "outputs": [
    {
     "data": {
      "text/plain": "BirthPlace_City       0\nBirthPlace_Canton    28\ndtype: int64"
     },
     "execution_count": 91,
     "metadata": {},
     "output_type": "execute_result"
    }
   ],
   "source": [
    "# auf NA überprüfen\n",
    "list_city_canton.isna().sum()"
   ],
   "metadata": {
    "collapsed": false,
    "ExecuteTime": {
     "end_time": "2023-10-01T18:44:15.170888900Z",
     "start_time": "2023-10-01T18:44:14.973379500Z"
    }
   },
   "id": "e8ece4ef05efe08a"
  },
  {
   "cell_type": "markdown",
   "source": [
    "Es gibt 28 Ortschaften, die keinem Kanton zugeordnet sind. Es wird nun geschaut, um welche Ortschaften es sich handelt und ob diese auf einfache Weise einem Kanton zugeordnet werden können."
   ],
   "metadata": {
    "collapsed": false
   },
   "id": "5240e7f1caaadd2b"
  },
  {
   "cell_type": "code",
   "execution_count": 92,
   "outputs": [
    {
     "data": {
      "text/plain": "     BirthPlace_City BirthPlace_Canton\n110       Montevideo               NaN\n192         Erzincan               NaN\n195         Elbistan               NaN\n244           Sydney               NaN\n371            Lille               NaN\n729        Binningen               NaN\n1242       Amsterdam               NaN\n1682      Bratislava               NaN\n1945            Metz               NaN\n2362         Breslau               NaN\n2381        New York               NaN\n2393            Kobe               NaN\n2404        Kapstadt               NaN\n2427           Udupi               NaN\n2529        Montreal               NaN\n2671        Budapest               NaN\n2747    Buenos Aires               NaN\n3431             Rom               NaN\n3515        Lussenga               NaN\n4090           Uccle               NaN\n4142        Mulhouse               NaN\n4287           Paris               NaN\n4886            Lyon               NaN\n5362         Sevilla               NaN\n5694         Moukden               NaN\n5802           Hagen               NaN\n5806          Triest               NaN\n6375        Istanbul               NaN",
      "text/html": "<div>\n<style scoped>\n    .dataframe tbody tr th:only-of-type {\n        vertical-align: middle;\n    }\n\n    .dataframe tbody tr th {\n        vertical-align: top;\n    }\n\n    .dataframe thead th {\n        text-align: right;\n    }\n</style>\n<table border=\"1\" class=\"dataframe\">\n  <thead>\n    <tr style=\"text-align: right;\">\n      <th></th>\n      <th>BirthPlace_City</th>\n      <th>BirthPlace_Canton</th>\n    </tr>\n  </thead>\n  <tbody>\n    <tr>\n      <th>110</th>\n      <td>Montevideo</td>\n      <td>NaN</td>\n    </tr>\n    <tr>\n      <th>192</th>\n      <td>Erzincan</td>\n      <td>NaN</td>\n    </tr>\n    <tr>\n      <th>195</th>\n      <td>Elbistan</td>\n      <td>NaN</td>\n    </tr>\n    <tr>\n      <th>244</th>\n      <td>Sydney</td>\n      <td>NaN</td>\n    </tr>\n    <tr>\n      <th>371</th>\n      <td>Lille</td>\n      <td>NaN</td>\n    </tr>\n    <tr>\n      <th>729</th>\n      <td>Binningen</td>\n      <td>NaN</td>\n    </tr>\n    <tr>\n      <th>1242</th>\n      <td>Amsterdam</td>\n      <td>NaN</td>\n    </tr>\n    <tr>\n      <th>1682</th>\n      <td>Bratislava</td>\n      <td>NaN</td>\n    </tr>\n    <tr>\n      <th>1945</th>\n      <td>Metz</td>\n      <td>NaN</td>\n    </tr>\n    <tr>\n      <th>2362</th>\n      <td>Breslau</td>\n      <td>NaN</td>\n    </tr>\n    <tr>\n      <th>2381</th>\n      <td>New York</td>\n      <td>NaN</td>\n    </tr>\n    <tr>\n      <th>2393</th>\n      <td>Kobe</td>\n      <td>NaN</td>\n    </tr>\n    <tr>\n      <th>2404</th>\n      <td>Kapstadt</td>\n      <td>NaN</td>\n    </tr>\n    <tr>\n      <th>2427</th>\n      <td>Udupi</td>\n      <td>NaN</td>\n    </tr>\n    <tr>\n      <th>2529</th>\n      <td>Montreal</td>\n      <td>NaN</td>\n    </tr>\n    <tr>\n      <th>2671</th>\n      <td>Budapest</td>\n      <td>NaN</td>\n    </tr>\n    <tr>\n      <th>2747</th>\n      <td>Buenos Aires</td>\n      <td>NaN</td>\n    </tr>\n    <tr>\n      <th>3431</th>\n      <td>Rom</td>\n      <td>NaN</td>\n    </tr>\n    <tr>\n      <th>3515</th>\n      <td>Lussenga</td>\n      <td>NaN</td>\n    </tr>\n    <tr>\n      <th>4090</th>\n      <td>Uccle</td>\n      <td>NaN</td>\n    </tr>\n    <tr>\n      <th>4142</th>\n      <td>Mulhouse</td>\n      <td>NaN</td>\n    </tr>\n    <tr>\n      <th>4287</th>\n      <td>Paris</td>\n      <td>NaN</td>\n    </tr>\n    <tr>\n      <th>4886</th>\n      <td>Lyon</td>\n      <td>NaN</td>\n    </tr>\n    <tr>\n      <th>5362</th>\n      <td>Sevilla</td>\n      <td>NaN</td>\n    </tr>\n    <tr>\n      <th>5694</th>\n      <td>Moukden</td>\n      <td>NaN</td>\n    </tr>\n    <tr>\n      <th>5802</th>\n      <td>Hagen</td>\n      <td>NaN</td>\n    </tr>\n    <tr>\n      <th>5806</th>\n      <td>Triest</td>\n      <td>NaN</td>\n    </tr>\n    <tr>\n      <th>6375</th>\n      <td>Istanbul</td>\n      <td>NaN</td>\n    </tr>\n  </tbody>\n</table>\n</div>"
     },
     "execution_count": 92,
     "metadata": {},
     "output_type": "execute_result"
    }
   ],
   "source": [
    "list_city_canton_na = list_city_canton[list_city_canton['BirthPlace_Canton'].isna()]\n",
    "list_city_canton_na"
   ],
   "metadata": {
    "collapsed": false,
    "ExecuteTime": {
     "end_time": "2023-10-01T18:44:15.170888900Z",
     "start_time": "2023-10-01T18:44:14.989887800Z"
    }
   },
   "id": "e12baff13395d507"
  },
  {
   "cell_type": "markdown",
   "source": [
    "Bei der Durchsicht ist sofort ersichtlich, dass es sich um Ortschaften im Ausland handelt. Bis auf eine Ausnahme: Binningen liegt im Kanton Baselland. Da die Kantonsbezeichnung auf verschiedene Arten geschrieben wird, wird vor dem Ergänzen geschaut, wie die Kantonsbezeichnung bereits im Datanset vorhanden ist.\n",
    "\n",
    "Mit der String-Suche startswith() wird nach der Kantonsbezeichnung gesucht. Die Suche wird mit einem * abgeschlossen, damit auch die verschiedenen Schreibweisen gefunden werden."
   ],
   "metadata": {
    "collapsed": false
   },
   "id": "f57bf7446f2e4fca"
  },
  {
   "cell_type": "code",
   "execution_count": 93,
   "outputs": [
    {
     "data": {
      "text/plain": "     BirthPlace_Canton\n109        Basel-Stadt\n2324  Basel-Landschaft",
      "text/html": "<div>\n<style scoped>\n    .dataframe tbody tr th:only-of-type {\n        vertical-align: middle;\n    }\n\n    .dataframe tbody tr th {\n        vertical-align: top;\n    }\n\n    .dataframe thead th {\n        text-align: right;\n    }\n</style>\n<table border=\"1\" class=\"dataframe\">\n  <thead>\n    <tr style=\"text-align: right;\">\n      <th></th>\n      <th>BirthPlace_Canton</th>\n    </tr>\n  </thead>\n  <tbody>\n    <tr>\n      <th>109</th>\n      <td>Basel-Stadt</td>\n    </tr>\n    <tr>\n      <th>2324</th>\n      <td>Basel-Landschaft</td>\n    </tr>\n  </tbody>\n</table>\n</div>"
     },
     "execution_count": 93,
     "metadata": {},
     "output_type": "execute_result"
    }
   ],
   "source": [
    "df_notna = df_mod[df_mod['BirthPlace_Canton'].notna()]\n",
    "canton_bl = df_notna[df_notna['BirthPlace_Canton'].str.startswith('Basel')][['BirthPlace_Canton']].drop_duplicates()\n",
    "canton_bl"
   ],
   "metadata": {
    "collapsed": false,
    "ExecuteTime": {
     "end_time": "2023-10-01T18:44:15.170888900Z",
     "start_time": "2023-10-01T18:44:15.004286600Z"
    }
   },
   "id": "7740041be1b67e41"
  },
  {
   "cell_type": "markdown",
   "source": [
    "Der Wert für Binningen wird mit 'Basel-Landschaft' ergänzt."
   ],
   "metadata": {
    "collapsed": false
   },
   "id": "c916a6d0bdcf8514"
  },
  {
   "cell_type": "code",
   "execution_count": 94,
   "outputs": [
    {
     "data": {
      "text/plain": "     Active FirstName     LastName GenderAsString        CantonName  \\\n729    True  Florence  Brenzikofer              f  Basel-Landschaft   \n\n    CantonAbbreviation  CouncilName   ParlGroupName ParlGroupAbbreviation  \\\n729                 BL  Nationalrat  Grüne Fraktion                     G   \n\n                    PartyName PartyAbbreviation MaritalStatusText  \\\n729  Grüne Partei der Schweiz               GPS       verheiratet   \n\n    BirthPlace_City BirthPlace_Canton Mandates DateJoining DateLeaving  \\\n729       Binningen  Basel-Landschaft      NaN  2019-12-09         NaT   \n\n          Citizenship DateOfBirth DateOfDeath  \n729  Frenkendorf (BL)  1975-04-15         NaT  ",
      "text/html": "<div>\n<style scoped>\n    .dataframe tbody tr th:only-of-type {\n        vertical-align: middle;\n    }\n\n    .dataframe tbody tr th {\n        vertical-align: top;\n    }\n\n    .dataframe thead th {\n        text-align: right;\n    }\n</style>\n<table border=\"1\" class=\"dataframe\">\n  <thead>\n    <tr style=\"text-align: right;\">\n      <th></th>\n      <th>Active</th>\n      <th>FirstName</th>\n      <th>LastName</th>\n      <th>GenderAsString</th>\n      <th>CantonName</th>\n      <th>CantonAbbreviation</th>\n      <th>CouncilName</th>\n      <th>ParlGroupName</th>\n      <th>ParlGroupAbbreviation</th>\n      <th>PartyName</th>\n      <th>PartyAbbreviation</th>\n      <th>MaritalStatusText</th>\n      <th>BirthPlace_City</th>\n      <th>BirthPlace_Canton</th>\n      <th>Mandates</th>\n      <th>DateJoining</th>\n      <th>DateLeaving</th>\n      <th>Citizenship</th>\n      <th>DateOfBirth</th>\n      <th>DateOfDeath</th>\n    </tr>\n  </thead>\n  <tbody>\n    <tr>\n      <th>729</th>\n      <td>True</td>\n      <td>Florence</td>\n      <td>Brenzikofer</td>\n      <td>f</td>\n      <td>Basel-Landschaft</td>\n      <td>BL</td>\n      <td>Nationalrat</td>\n      <td>Grüne Fraktion</td>\n      <td>G</td>\n      <td>Grüne Partei der Schweiz</td>\n      <td>GPS</td>\n      <td>verheiratet</td>\n      <td>Binningen</td>\n      <td>Basel-Landschaft</td>\n      <td>NaN</td>\n      <td>2019-12-09</td>\n      <td>NaT</td>\n      <td>Frenkendorf (BL)</td>\n      <td>1975-04-15</td>\n      <td>NaT</td>\n    </tr>\n  </tbody>\n</table>\n</div>"
     },
     "execution_count": 94,
     "metadata": {},
     "output_type": "execute_result"
    }
   ],
   "source": [
    "df_mod.loc[df_mod['BirthPlace_City'] == 'Binningen', 'BirthPlace_Canton'] = 'Basel-Landschaft'\n",
    "\n",
    "# Kontrolle\n",
    "df_mod[df_mod['BirthPlace_City'] == 'Binningen']"
   ],
   "metadata": {
    "collapsed": false,
    "ExecuteTime": {
     "end_time": "2023-10-01T18:44:15.249694900Z",
     "start_time": "2023-10-01T18:44:15.018249Z"
    }
   },
   "id": "f7cd9d5b1e9b09ab"
  },
  {
   "cell_type": "code",
   "execution_count": 95,
   "outputs": [
    {
     "data": {
      "text/plain": "Active                      0\nFirstName                   0\nLastName                    0\nGenderAsString              0\nCantonName                  0\nCantonAbbreviation          0\nCouncilName                 0\nParlGroupName            1476\nParlGroupAbbreviation    1476\nPartyName                  76\nPartyAbbreviation          76\nMaritalStatusText        6188\nBirthPlace_City          4264\nBirthPlace_Canton        4341\nMandates                 4546\nDateJoining                 0\nDateLeaving               256\nCitizenship                 5\nDateOfBirth                 0\nDateOfDeath              2159\ndtype: int64"
     },
     "execution_count": 95,
     "metadata": {},
     "output_type": "execute_result"
    }
   ],
   "source": [
    "df_mod.isna().sum()"
   ],
   "metadata": {
    "collapsed": false,
    "ExecuteTime": {
     "end_time": "2023-10-01T18:44:15.280916400Z",
     "start_time": "2023-10-01T18:44:15.038090100Z"
    }
   },
   "id": "4d4c107b562ef319"
  },
  {
   "cell_type": "markdown",
   "source": [
    "Die Spalten 'ParlGroupName' und 'ParlGroupAbbreviation' hängen zusammen. Deshalb werden diese beiden Spalten zusammen untersucht. Sie weisen dieselbe Anzahl fehlender Werte auf. Darum wird untersucht, ob es sich dabei um dieselben Reihen handelt. Dazu wird wieder gleich vorgegangen wie bei der Spalte der Parteiabkürzungen.\n",
    " "
   ],
   "metadata": {
    "collapsed": false
   },
   "id": "4b744b14c0202510"
  },
  {
   "cell_type": "code",
   "execution_count": 96,
   "outputs": [
    {
     "data": {
      "text/plain": "     ParlGroupName ParlGroupAbbreviation\n9              NaN                   NaN\n18             NaN                   NaN\n23             NaN                   NaN\n25             NaN                   NaN\n26             NaN                   NaN\n...            ...                   ...\n6405           NaN                   NaN\n6406           NaN                   NaN\n6408           NaN                   NaN\n6410           NaN                   NaN\n6421           NaN                   NaN\n\n[1476 rows x 2 columns]",
      "text/html": "<div>\n<style scoped>\n    .dataframe tbody tr th:only-of-type {\n        vertical-align: middle;\n    }\n\n    .dataframe tbody tr th {\n        vertical-align: top;\n    }\n\n    .dataframe thead th {\n        text-align: right;\n    }\n</style>\n<table border=\"1\" class=\"dataframe\">\n  <thead>\n    <tr style=\"text-align: right;\">\n      <th></th>\n      <th>ParlGroupName</th>\n      <th>ParlGroupAbbreviation</th>\n    </tr>\n  </thead>\n  <tbody>\n    <tr>\n      <th>9</th>\n      <td>NaN</td>\n      <td>NaN</td>\n    </tr>\n    <tr>\n      <th>18</th>\n      <td>NaN</td>\n      <td>NaN</td>\n    </tr>\n    <tr>\n      <th>23</th>\n      <td>NaN</td>\n      <td>NaN</td>\n    </tr>\n    <tr>\n      <th>25</th>\n      <td>NaN</td>\n      <td>NaN</td>\n    </tr>\n    <tr>\n      <th>26</th>\n      <td>NaN</td>\n      <td>NaN</td>\n    </tr>\n    <tr>\n      <th>...</th>\n      <td>...</td>\n      <td>...</td>\n    </tr>\n    <tr>\n      <th>6405</th>\n      <td>NaN</td>\n      <td>NaN</td>\n    </tr>\n    <tr>\n      <th>6406</th>\n      <td>NaN</td>\n      <td>NaN</td>\n    </tr>\n    <tr>\n      <th>6408</th>\n      <td>NaN</td>\n      <td>NaN</td>\n    </tr>\n    <tr>\n      <th>6410</th>\n      <td>NaN</td>\n      <td>NaN</td>\n    </tr>\n    <tr>\n      <th>6421</th>\n      <td>NaN</td>\n      <td>NaN</td>\n    </tr>\n  </tbody>\n</table>\n<p>1476 rows × 2 columns</p>\n</div>"
     },
     "execution_count": 96,
     "metadata": {},
     "output_type": "execute_result"
    }
   ],
   "source": [
    "df_parlgroup = df_mod[df_mod['ParlGroupName'].notna() & df_mod['ParlGroupAbbreviation'].isna() | df_mod['ParlGroupName'].isna() & df_mod['ParlGroupAbbreviation'].notna()]\n",
    "df_parlgroup\n",
    "\n",
    "df_parlgroup = df_mod[df_mod['ParlGroupName'].isna()][['ParlGroupName', 'ParlGroupAbbreviation']]\n",
    "df_parlgroup"
   ],
   "metadata": {
    "collapsed": false,
    "ExecuteTime": {
     "end_time": "2023-10-01T18:44:15.280916400Z",
     "start_time": "2023-10-01T18:44:15.057553Z"
    }
   },
   "id": "df0bdab115014ce7"
  },
  {
   "cell_type": "code",
   "execution_count": 97,
   "outputs": [
    {
     "data": {
      "text/plain": "ParlGroupName            1476\nParlGroupAbbreviation    1476\ndtype: int64"
     },
     "execution_count": 97,
     "metadata": {},
     "output_type": "execute_result"
    }
   ],
   "source": [
    "df_parlgroup.isna().sum()"
   ],
   "metadata": {
    "collapsed": false,
    "ExecuteTime": {
     "end_time": "2023-10-01T18:44:15.296536400Z",
     "start_time": "2023-10-01T18:44:15.071887200Z"
    }
   },
   "id": "d08185683f23a31a"
  },
  {
   "cell_type": "markdown",
   "source": [
    "Es sind dieselben Reihen mit fehlenden Werten. Nun fehlt nur noch die Spalte 'Mandates'. Bei dieser Spalte handelt es sich um Werte, die nicht durch Vergleiche ergänzt werden können. Auch ist hier keine Imputation möglich. Ein weitere Untersuch dieser fehlenden Werte erübrigt sich.\n",
    "\n",
    "Die Bearbeitung der fehlenden Werte ist abgeschlossen. Nun werden die Datums-Variablen genauer untersucht.\n",
    "Dazu macht es Sinn, neue Spalten zu erstellen.\n",
    "- AgeJoining: Alter bei Amtsantritt\n",
    "- AgeLeaving: Alter bei Amtsaustritt\n",
    "- Age: Alter bei Tod oder wenn kein Todesdatum angegeben ist, dann das aktuelle Alter\n",
    "- YearsInOffice: Anzahl Jahre im Amt"
   ],
   "metadata": {
    "collapsed": false
   },
   "id": "a333ebe5a75b47c4"
  },
  {
   "cell_type": "code",
   "execution_count": 98,
   "outputs": [
    {
     "data": {
      "text/plain": "0    50\n1    50\n2    41\n3    34\n4    45\nName: AgeJoining, dtype: int32"
     },
     "execution_count": 98,
     "metadata": {},
     "output_type": "execute_result"
    }
   ],
   "source": [
    "# Alter bei Amtsantritt\n",
    "df_mod['AgeJoining'] = df_mod['DateJoining'].dt.year - df_mod['DateOfBirth'].dt.year\n",
    "df_mod['AgeJoining'].head()"
   ],
   "metadata": {
    "collapsed": false,
    "ExecuteTime": {
     "end_time": "2023-10-01T18:44:15.430365300Z",
     "start_time": "2023-10-01T18:44:15.092286500Z"
    }
   },
   "id": "a0bbb3fd3f12f57c"
  },
  {
   "cell_type": "markdown",
   "source": [
    "Die neue Spalte wird nun in einem Barplot visualisiert. Dafür soll die Anzahl Vorkommen der einzelnen Alter auf der y-Achse und das Alter in aufsteigender Reihenfolge auf der x-Achse angezeigt werden. "
   ],
   "metadata": {
    "collapsed": false
   },
   "id": "8241285ed59c5853"
  },
  {
   "cell_type": "code",
   "execution_count": 99,
   "outputs": [
    {
     "data": {
      "text/plain": "AgeJoining\n21      1\n24      6\n25     11\n26      8\n27     13\n28     34\n29     51\n30     52\n31     70\n32     94\n33     76\n34     93\n35    136\n36    132\n37    149\n38    173\n39    206\n40    196\n41    186\n42    213\n43    244\n44    199\n45    213\n46    242\n47    235\n48    220\n49    251\n50    221\n51    277\n52    217\n53    265\n54    267\n55    223\n56    194\n57    186\n58    182\n59    167\n60    130\n61    134\n62    103\n63     88\n64     81\n65     49\n66     45\n67     31\n68     20\n69     10\n70     11\n71      4\n72      4\n73      5\n74      1\n75      1\n76      3\n77      1\n78      1\n80      1\n81      1\n85      1\nName: count, dtype: int64"
     },
     "execution_count": 99,
     "metadata": {},
     "output_type": "execute_result"
    }
   ],
   "source": [
    "age_count = df_mod['AgeJoining'].value_counts().sort_index()\n",
    "age_count"
   ],
   "metadata": {
    "collapsed": false,
    "ExecuteTime": {
     "end_time": "2023-10-01T18:44:15.430365300Z",
     "start_time": "2023-10-01T18:44:15.111191500Z"
    }
   },
   "id": "684e63b73fb04495"
  },
  {
   "cell_type": "code",
   "execution_count": 100,
   "outputs": [
    {
     "data": {
      "text/plain": "<Figure size 640x480 with 1 Axes>",
      "image/png": "[encoded data removed]"
     },
     "metadata": {},
     "output_type": "display_data"
    }
   ],
   "source": [
    "age_count.plot(kind = 'bar')\n",
    "# age_max = age_count.index.max()\n",
    "# age_min = age_count.index.min()\n",
    "# xticks = list(range(age_min, age_max + 1, 5))\n",
    "# plt.xticks(ticks=xticks, labels=xticks)\n",
    "plt.title('Verteilung Alter bei Amtsantritt')\n",
    "plt.xlabel('Alter')\n",
    "plt.ylabel('Häufigkeit')\n",
    "plt.grid(axis='y')\n"
   ],
   "metadata": {
    "collapsed": false,
    "ExecuteTime": {
     "end_time": "2023-10-01T18:44:15.677609700Z",
     "start_time": "2023-10-01T18:44:15.123819200Z"
    }
   },
   "id": "6f1d5ec4d393439a"
  },
  {
   "cell_type": "code",
   "execution_count": 101,
   "outputs": [
    {
     "data": {
      "text/plain": "0    52.0\n1    57.0\n2    45.0\n3    37.0\n4    49.0\nName: AgeLeaving, dtype: float64"
     },
     "execution_count": 101,
     "metadata": {},
     "output_type": "execute_result"
    }
   ],
   "source": [
    "# Alter bei Amtsaustritt\n",
    "df_mod['AgeLeaving'] = df_mod['DateLeaving'].dt.year - df_mod['DateOfBirth'].dt.year\n",
    "df_mod['AgeLeaving'].head()"
   ],
   "metadata": {
    "collapsed": false,
    "ExecuteTime": {
     "end_time": "2023-10-01T18:44:15.715271500Z",
     "start_time": "2023-10-01T18:44:15.392058400Z"
    }
   },
   "id": "6f50eb6ae2e8fa9"
  },
  {
   "cell_type": "code",
   "execution_count": 102,
   "outputs": [
    {
     "data": {
      "text/plain": "Text(0, 0.5, 'Häufigkeit')"
     },
     "execution_count": 102,
     "metadata": {},
     "output_type": "execute_result"
    },
    {
     "data": {
      "text/plain": "<Figure size 640x480 with 1 Axes>",
      "image/png": "[encoded data removed]"
     },
     "metadata": {},
     "output_type": "display_data"
    }
   ],
   "source": [
    "age_count = df_mod['AgeLeaving'].value_counts().sort_index()\n",
    "age_count.plot()\n",
    "plt.title('Verteilung des Alters bei Amtsende')\n",
    "plt.xlabel('Alter')\n",
    "plt.ylabel('Häufigkeit')"
   ],
   "metadata": {
    "collapsed": false,
    "ExecuteTime": {
     "end_time": "2023-10-01T18:44:15.891085800Z",
     "start_time": "2023-10-01T18:44:15.406068500Z"
    }
   },
   "id": "650f0dba8d08940c"
  },
  {
   "cell_type": "code",
   "execution_count": 103,
   "outputs": [
    {
     "data": {
      "text/plain": "   Active FirstName  LastName GenderAsString  CantonName CantonAbbreviation  \\\n0   False  Giuseppe   a Marca              m  Graubünden                 GR   \n1   False     Alois  Ab Yberg              m      Schwyz                 SZ   \n2   False     Fabio     Abate              m      Tessin                 TI   \n3   False     Fabio     Abate              m      Tessin                 TI   \n4   False     Fabio     Abate              m      Tessin                 TI   \n\n   CouncilName                      ParlGroupName ParlGroupAbbreviation  \\\n0    Ständerat                              Mitte                    MC   \n1  Nationalrat     Radikal-demokratische Fraktion                     R   \n2  Nationalrat  Freisinnig-demokratische Fraktion                    RL   \n3  Nationalrat  Freisinnig-demokratische Fraktion                     R   \n4    Ständerat              FDP-Liberale Fraktion                    RL   \n\n                                     PartyName  ... BirthPlace_Canton  \\\n0                                 Konservative  ...               NaN   \n1  Freisinnig-Demokratische Partei der Schweiz  ...               NaN   \n2  Freisinnig-Demokratische Partei der Schweiz  ...            Tessin   \n3  Freisinnig-Demokratische Partei der Schweiz  ...            Tessin   \n4                            FDP.Die Liberalen  ...            Tessin   \n\n                                            Mandates DateJoining DateLeaving  \\\n0                                                NaN  1849-12-01  1851-07-01   \n1                                                NaN  1928-12-03  1935-12-01   \n2  incarichi esecutivi presso il comune di Locarn...  2007-12-03  2011-12-04   \n3  incarichi esecutivi presso il comune di Locarn...  2000-09-25  2003-11-30   \n4  incarichi esecutivi presso il comune di Locarn...  2011-12-05  2015-11-29   \n\n   Citizenship DateOfBirth DateOfDeath AgeJoining AgeLeaving   Age  \n0  Soazza (GR)  1799-07-29  1866-07-16         50       52.0  67.0  \n1  Schwyz (SZ)  1878-10-06  1959-10-17         50       57.0  81.0  \n2  Cabbio (TI)  1966-01-04         NaT         41       45.0  57.0  \n3  Cabbio (TI)  1966-01-04         NaT         34       37.0  57.0  \n4  Cabbio (TI)  1966-01-04         NaT         45       49.0  57.0  \n\n[5 rows x 23 columns]",
      "text/html": "<div>\n<style scoped>\n    .dataframe tbody tr th:only-of-type {\n        vertical-align: middle;\n    }\n\n    .dataframe tbody tr th {\n        vertical-align: top;\n    }\n\n    .dataframe thead th {\n        text-align: right;\n    }\n</style>\n<table border=\"1\" class=\"dataframe\">\n  <thead>\n    <tr style=\"text-align: right;\">\n      <th></th>\n      <th>Active</th>\n      <th>FirstName</th>\n      <th>LastName</th>\n      <th>GenderAsString</th>\n      <th>CantonName</th>\n      <th>CantonAbbreviation</th>\n      <th>CouncilName</th>\n      <th>ParlGroupName</th>\n      <th>ParlGroupAbbreviation</th>\n      <th>PartyName</th>\n      <th>...</th>\n      <th>BirthPlace_Canton</th>\n      <th>Mandates</th>\n      <th>DateJoining</th>\n      <th>DateLeaving</th>\n      <th>Citizenship</th>\n      <th>DateOfBirth</th>\n      <th>DateOfDeath</th>\n      <th>AgeJoining</th>\n      <th>AgeLeaving</th>\n      <th>Age</th>\n    </tr>\n  </thead>\n  <tbody>\n    <tr>\n      <th>0</th>\n      <td>False</td>\n      <td>Giuseppe</td>\n      <td>a Marca</td>\n      <td>m</td>\n      <td>Graubünden</td>\n      <td>GR</td>\n      <td>Ständerat</td>\n      <td>Mitte</td>\n      <td>MC</td>\n      <td>Konservative</td>\n      <td>...</td>\n      <td>NaN</td>\n      <td>NaN</td>\n      <td>1849-12-01</td>\n      <td>1851-07-01</td>\n      <td>Soazza (GR)</td>\n      <td>1799-07-29</td>\n      <td>1866-07-16</td>\n      <td>50</td>\n      <td>52.0</td>\n      <td>67.0</td>\n    </tr>\n    <tr>\n      <th>1</th>\n      <td>False</td>\n      <td>Alois</td>\n      <td>Ab Yberg</td>\n      <td>m</td>\n      <td>Schwyz</td>\n      <td>SZ</td>\n      <td>Nationalrat</td>\n      <td>Radikal-demokratische Fraktion</td>\n      <td>R</td>\n      <td>Freisinnig-Demokratische Partei der Schweiz</td>\n      <td>...</td>\n      <td>NaN</td>\n      <td>NaN</td>\n      <td>1928-12-03</td>\n      <td>1935-12-01</td>\n      <td>Schwyz (SZ)</td>\n      <td>1878-10-06</td>\n      <td>1959-10-17</td>\n      <td>50</td>\n      <td>57.0</td>\n      <td>81.0</td>\n    </tr>\n    <tr>\n      <th>2</th>\n      <td>False</td>\n      <td>Fabio</td>\n      <td>Abate</td>\n      <td>m</td>\n      <td>Tessin</td>\n      <td>TI</td>\n      <td>Nationalrat</td>\n      <td>Freisinnig-demokratische Fraktion</td>\n      <td>RL</td>\n      <td>Freisinnig-Demokratische Partei der Schweiz</td>\n      <td>...</td>\n      <td>Tessin</td>\n      <td>incarichi esecutivi presso il comune di Locarn...</td>\n      <td>2007-12-03</td>\n      <td>2011-12-04</td>\n      <td>Cabbio (TI)</td>\n      <td>1966-01-04</td>\n      <td>NaT</td>\n      <td>41</td>\n      <td>45.0</td>\n      <td>57.0</td>\n    </tr>\n    <tr>\n      <th>3</th>\n      <td>False</td>\n      <td>Fabio</td>\n      <td>Abate</td>\n      <td>m</td>\n      <td>Tessin</td>\n      <td>TI</td>\n      <td>Nationalrat</td>\n      <td>Freisinnig-demokratische Fraktion</td>\n      <td>R</td>\n      <td>Freisinnig-Demokratische Partei der Schweiz</td>\n      <td>...</td>\n      <td>Tessin</td>\n      <td>incarichi esecutivi presso il comune di Locarn...</td>\n      <td>2000-09-25</td>\n      <td>2003-11-30</td>\n      <td>Cabbio (TI)</td>\n      <td>1966-01-04</td>\n      <td>NaT</td>\n      <td>34</td>\n      <td>37.0</td>\n      <td>57.0</td>\n    </tr>\n    <tr>\n      <th>4</th>\n      <td>False</td>\n      <td>Fabio</td>\n      <td>Abate</td>\n      <td>m</td>\n      <td>Tessin</td>\n      <td>TI</td>\n      <td>Ständerat</td>\n      <td>FDP-Liberale Fraktion</td>\n      <td>RL</td>\n      <td>FDP.Die Liberalen</td>\n      <td>...</td>\n      <td>Tessin</td>\n      <td>incarichi esecutivi presso il comune di Locarn...</td>\n      <td>2011-12-05</td>\n      <td>2015-11-29</td>\n      <td>Cabbio (TI)</td>\n      <td>1966-01-04</td>\n      <td>NaT</td>\n      <td>45</td>\n      <td>49.0</td>\n      <td>57.0</td>\n    </tr>\n  </tbody>\n</table>\n<p>5 rows × 23 columns</p>\n</div>"
     },
     "execution_count": 103,
     "metadata": {},
     "output_type": "execute_result"
    }
   ],
   "source": [
    "# Alter der Ratsmitglieder\n",
    "df_mod['Age'] = df_mod['DateOfDeath'].dt.year - df_mod['DateOfBirth'].dt.year\n",
    "df_mod['Age'] = df_mod['Age'].fillna(2023 - df_mod['DateOfBirth'].dt.year)   \n",
    "df_mod.head()"
   ],
   "metadata": {
    "collapsed": false,
    "ExecuteTime": {
     "end_time": "2023-10-01T18:44:15.978740400Z",
     "start_time": "2023-10-01T18:44:15.530434700Z"
    }
   },
   "id": "5a777dafc55f96a7"
  },
  {
   "cell_type": "code",
   "execution_count": 104,
   "outputs": [
    {
     "data": {
      "text/plain": "<Axes: xlabel='Age'>"
     },
     "execution_count": 104,
     "metadata": {},
     "output_type": "execute_result"
    },
    {
     "data": {
      "text/plain": "<Figure size 640x480 with 1 Axes>",
      "image/png": "[encoded data removed]"
     },
     "metadata": {},
     "output_type": "display_data"
    }
   ],
   "source": [
    "age_count = df_mod['Age'].value_counts().sort_index()\n",
    "age_count.plot()"
   ],
   "metadata": {
    "collapsed": false,
    "ExecuteTime": {
     "end_time": "2023-10-01T18:44:16.224131100Z",
     "start_time": "2023-10-01T18:44:15.561941500Z"
    }
   },
   "id": "91f780e395bb964d"
  },
  {
   "cell_type": "code",
   "execution_count": 105,
   "outputs": [
    {
     "data": {
      "text/plain": "   Active FirstName  LastName GenderAsString  CantonName CantonAbbreviation  \\\n0   False  Giuseppe   a Marca              m  Graubünden                 GR   \n1   False     Alois  Ab Yberg              m      Schwyz                 SZ   \n2   False     Fabio     Abate              m      Tessin                 TI   \n3   False     Fabio     Abate              m      Tessin                 TI   \n4   False     Fabio     Abate              m      Tessin                 TI   \n\n   CouncilName                      ParlGroupName ParlGroupAbbreviation  \\\n0    Ständerat                              Mitte                    MC   \n1  Nationalrat     Radikal-demokratische Fraktion                     R   \n2  Nationalrat  Freisinnig-demokratische Fraktion                    RL   \n3  Nationalrat  Freisinnig-demokratische Fraktion                     R   \n4    Ständerat              FDP-Liberale Fraktion                    RL   \n\n                                     PartyName  ...  \\\n0                                 Konservative  ...   \n1  Freisinnig-Demokratische Partei der Schweiz  ...   \n2  Freisinnig-Demokratische Partei der Schweiz  ...   \n3  Freisinnig-Demokratische Partei der Schweiz  ...   \n4                            FDP.Die Liberalen  ...   \n\n                                            Mandates DateJoining DateLeaving  \\\n0                                                NaN  1849-12-01  1851-07-01   \n1                                                NaN  1928-12-03  1935-12-01   \n2  incarichi esecutivi presso il comune di Locarn...  2007-12-03  2011-12-04   \n3  incarichi esecutivi presso il comune di Locarn...  2000-09-25  2003-11-30   \n4  incarichi esecutivi presso il comune di Locarn...  2011-12-05  2015-11-29   \n\n   Citizenship DateOfBirth DateOfDeath AgeJoining AgeLeaving   Age  \\\n0  Soazza (GR)  1799-07-29  1866-07-16         50       52.0  67.0   \n1  Schwyz (SZ)  1878-10-06  1959-10-17         50       57.0  81.0   \n2  Cabbio (TI)  1966-01-04         NaT         41       45.0  57.0   \n3  Cabbio (TI)  1966-01-04         NaT         34       37.0  57.0   \n4  Cabbio (TI)  1966-01-04         NaT         45       49.0  57.0   \n\n  YearsInOffice  \n0           2.0  \n1           7.0  \n2           4.0  \n3           3.0  \n4           4.0  \n\n[5 rows x 24 columns]",
      "text/html": "<div>\n<style scoped>\n    .dataframe tbody tr th:only-of-type {\n        vertical-align: middle;\n    }\n\n    .dataframe tbody tr th {\n        vertical-align: top;\n    }\n\n    .dataframe thead th {\n        text-align: right;\n    }\n</style>\n<table border=\"1\" class=\"dataframe\">\n  <thead>\n    <tr style=\"text-align: right;\">\n      <th></th>\n      <th>Active</th>\n      <th>FirstName</th>\n      <th>LastName</th>\n      <th>GenderAsString</th>\n      <th>CantonName</th>\n      <th>CantonAbbreviation</th>\n      <th>CouncilName</th>\n      <th>ParlGroupName</th>\n      <th>ParlGroupAbbreviation</th>\n      <th>PartyName</th>\n      <th>...</th>\n      <th>Mandates</th>\n      <th>DateJoining</th>\n      <th>DateLeaving</th>\n      <th>Citizenship</th>\n      <th>DateOfBirth</th>\n      <th>DateOfDeath</th>\n      <th>AgeJoining</th>\n      <th>AgeLeaving</th>\n      <th>Age</th>\n      <th>YearsInOffice</th>\n    </tr>\n  </thead>\n  <tbody>\n    <tr>\n      <th>0</th>\n      <td>False</td>\n      <td>Giuseppe</td>\n      <td>a Marca</td>\n      <td>m</td>\n      <td>Graubünden</td>\n      <td>GR</td>\n      <td>Ständerat</td>\n      <td>Mitte</td>\n      <td>MC</td>\n      <td>Konservative</td>\n      <td>...</td>\n      <td>NaN</td>\n      <td>1849-12-01</td>\n      <td>1851-07-01</td>\n      <td>Soazza (GR)</td>\n      <td>1799-07-29</td>\n      <td>1866-07-16</td>\n      <td>50</td>\n      <td>52.0</td>\n      <td>67.0</td>\n      <td>2.0</td>\n    </tr>\n    <tr>\n      <th>1</th>\n      <td>False</td>\n      <td>Alois</td>\n      <td>Ab Yberg</td>\n      <td>m</td>\n      <td>Schwyz</td>\n      <td>SZ</td>\n      <td>Nationalrat</td>\n      <td>Radikal-demokratische Fraktion</td>\n      <td>R</td>\n      <td>Freisinnig-Demokratische Partei der Schweiz</td>\n      <td>...</td>\n      <td>NaN</td>\n      <td>1928-12-03</td>\n      <td>1935-12-01</td>\n      <td>Schwyz (SZ)</td>\n      <td>1878-10-06</td>\n      <td>1959-10-17</td>\n      <td>50</td>\n      <td>57.0</td>\n      <td>81.0</td>\n      <td>7.0</td>\n    </tr>\n    <tr>\n      <th>2</th>\n      <td>False</td>\n      <td>Fabio</td>\n      <td>Abate</td>\n      <td>m</td>\n      <td>Tessin</td>\n      <td>TI</td>\n      <td>Nationalrat</td>\n      <td>Freisinnig-demokratische Fraktion</td>\n      <td>RL</td>\n      <td>Freisinnig-Demokratische Partei der Schweiz</td>\n      <td>...</td>\n      <td>incarichi esecutivi presso il comune di Locarn...</td>\n      <td>2007-12-03</td>\n      <td>2011-12-04</td>\n      <td>Cabbio (TI)</td>\n      <td>1966-01-04</td>\n      <td>NaT</td>\n      <td>41</td>\n      <td>45.0</td>\n      <td>57.0</td>\n      <td>4.0</td>\n    </tr>\n    <tr>\n      <th>3</th>\n      <td>False</td>\n      <td>Fabio</td>\n      <td>Abate</td>\n      <td>m</td>\n      <td>Tessin</td>\n      <td>TI</td>\n      <td>Nationalrat</td>\n      <td>Freisinnig-demokratische Fraktion</td>\n      <td>R</td>\n      <td>Freisinnig-Demokratische Partei der Schweiz</td>\n      <td>...</td>\n      <td>incarichi esecutivi presso il comune di Locarn...</td>\n      <td>2000-09-25</td>\n      <td>2003-11-30</td>\n      <td>Cabbio (TI)</td>\n      <td>1966-01-04</td>\n      <td>NaT</td>\n      <td>34</td>\n      <td>37.0</td>\n      <td>57.0</td>\n      <td>3.0</td>\n    </tr>\n    <tr>\n      <th>4</th>\n      <td>False</td>\n      <td>Fabio</td>\n      <td>Abate</td>\n      <td>m</td>\n      <td>Tessin</td>\n      <td>TI</td>\n      <td>Ständerat</td>\n      <td>FDP-Liberale Fraktion</td>\n      <td>RL</td>\n      <td>FDP.Die Liberalen</td>\n      <td>...</td>\n      <td>incarichi esecutivi presso il comune di Locarn...</td>\n      <td>2011-12-05</td>\n      <td>2015-11-29</td>\n      <td>Cabbio (TI)</td>\n      <td>1966-01-04</td>\n      <td>NaT</td>\n      <td>45</td>\n      <td>49.0</td>\n      <td>57.0</td>\n      <td>4.0</td>\n    </tr>\n  </tbody>\n</table>\n<p>5 rows × 24 columns</p>\n</div>"
     },
     "execution_count": 105,
     "metadata": {},
     "output_type": "execute_result"
    }
   ],
   "source": [
    "# Anzahl Jahre im Amt\n",
    "df_mod['YearsInOffice'] = df_mod['DateLeaving'].dt.year - df_mod['DateJoining'].dt.year\n",
    "df_mod['YearsInOffice'] = df_mod['YearsInOffice'].fillna(2023 - df_mod['DateJoining'].dt.year)\n",
    "df_mod.head()"
   ],
   "metadata": {
    "collapsed": false,
    "ExecuteTime": {
     "end_time": "2023-10-01T18:44:16.289637800Z",
     "start_time": "2023-10-01T18:44:15.654459500Z"
    }
   },
   "id": "f788c8c823466804"
  },
  {
   "cell_type": "code",
   "execution_count": 106,
   "outputs": [
    {
     "name": "stdout",
     "output_type": "stream",
     "text": [
      "<class 'pandas.core.frame.DataFrame'>\n",
      "Index: 6428 entries, 0 to 6429\n",
      "Data columns (total 24 columns):\n",
      " #   Column                 Non-Null Count  Dtype         \n",
      "---  ------                 --------------  -----         \n",
      " 0   Active                 6428 non-null   bool          \n",
      " 1   FirstName              6428 non-null   object        \n",
      " 2   LastName               6428 non-null   object        \n",
      " 3   GenderAsString         6428 non-null   object        \n",
      " 4   CantonName             6428 non-null   object        \n",
      " 5   CantonAbbreviation     6428 non-null   object        \n",
      " 6   CouncilName            6428 non-null   object        \n",
      " 7   ParlGroupName          4952 non-null   object        \n",
      " 8   ParlGroupAbbreviation  4952 non-null   object        \n",
      " 9   PartyName              6352 non-null   object        \n",
      " 10  PartyAbbreviation      6352 non-null   object        \n",
      " 11  MaritalStatusText      240 non-null    object        \n",
      " 12  BirthPlace_City        2164 non-null   object        \n",
      " 13  BirthPlace_Canton      2087 non-null   object        \n",
      " 14  Mandates               1882 non-null   object        \n",
      " 15  DateJoining            6428 non-null   datetime64[ns]\n",
      " 16  DateLeaving            6172 non-null   datetime64[ns]\n",
      " 17  Citizenship            6423 non-null   object        \n",
      " 18  DateOfBirth            6428 non-null   datetime64[ns]\n",
      " 19  DateOfDeath            4269 non-null   datetime64[ns]\n",
      " 20  AgeJoining             6428 non-null   int32         \n",
      " 21  AgeLeaving             6172 non-null   float64       \n",
      " 22  Age                    6428 non-null   float64       \n",
      " 23  YearsInOffice          6428 non-null   float64       \n",
      "dtypes: bool(1), datetime64[ns](4), float64(3), int32(1), object(15)\n",
      "memory usage: 1.4+ MB\n"
     ]
    }
   ],
   "source": [
    "df_mod.info()"
   ],
   "metadata": {
    "collapsed": false,
    "ExecuteTime": {
     "end_time": "2023-10-01T18:44:16.289637800Z",
     "start_time": "2023-10-01T18:44:15.696855800Z"
    }
   },
   "id": "ea2983acec8bd726"
  },
  {
   "cell_type": "markdown",
   "source": [
    "Die neuen Spalten wurden mit dem Datentyp float64 erstellt. Dieser Datentyp wird in den nächsten Schritten in integer angepasst."
   ],
   "metadata": {
    "collapsed": false
   },
   "id": "f4193043adc3907f"
  },
  {
   "cell_type": "code",
   "execution_count": 107,
   "outputs": [
    {
     "name": "stdout",
     "output_type": "stream",
     "text": [
      "<class 'pandas.core.frame.DataFrame'>\n",
      "Index: 6428 entries, 0 to 6429\n",
      "Data columns (total 24 columns):\n",
      " #   Column                 Non-Null Count  Dtype         \n",
      "---  ------                 --------------  -----         \n",
      " 0   Active                 6428 non-null   bool          \n",
      " 1   FirstName              6428 non-null   object        \n",
      " 2   LastName               6428 non-null   object        \n",
      " 3   GenderAsString         6428 non-null   object        \n",
      " 4   CantonName             6428 non-null   object        \n",
      " 5   CantonAbbreviation     6428 non-null   object        \n",
      " 6   CouncilName            6428 non-null   object        \n",
      " 7   ParlGroupName          4952 non-null   object        \n",
      " 8   ParlGroupAbbreviation  4952 non-null   object        \n",
      " 9   PartyName              6352 non-null   object        \n",
      " 10  PartyAbbreviation      6352 non-null   object        \n",
      " 11  MaritalStatusText      240 non-null    object        \n",
      " 12  BirthPlace_City        2164 non-null   object        \n",
      " 13  BirthPlace_Canton      2087 non-null   object        \n",
      " 14  Mandates               1882 non-null   object        \n",
      " 15  DateJoining            6428 non-null   datetime64[ns]\n",
      " 16  DateLeaving            6172 non-null   datetime64[ns]\n",
      " 17  Citizenship            6423 non-null   object        \n",
      " 18  DateOfBirth            6428 non-null   datetime64[ns]\n",
      " 19  DateOfDeath            4269 non-null   datetime64[ns]\n",
      " 20  AgeJoining             6428 non-null   int32         \n",
      " 21  AgeLeaving             6172 non-null   float64       \n",
      " 22  Age                    6428 non-null   int8          \n",
      " 23  YearsInOffice          6428 non-null   int8          \n",
      "dtypes: bool(1), datetime64[ns](4), float64(1), int32(1), int8(2), object(15)\n",
      "memory usage: 1.3+ MB\n"
     ]
    }
   ],
   "source": [
    "# Datentypen anpassen\n",
    "columns_to_convert = ['AgeLeaving', 'Age', 'YearsInOffice']\n",
    "for col in columns_to_convert:\n",
    "    df_mod[col] = pd.to_numeric(df_mod[col], downcast='integer')     \n",
    "    \n",
    "df_mod.info()"
   ],
   "metadata": {
    "collapsed": false,
    "ExecuteTime": {
     "end_time": "2023-10-01T18:44:16.289637800Z",
     "start_time": "2023-10-01T18:44:15.715483400Z"
    }
   },
   "id": "e09091bfb4df7cc7"
  },
  {
   "cell_type": "code",
   "execution_count": 108,
   "outputs": [
    {
     "data": {
      "text/plain": "                         DateJoining                    DateLeaving  \\\ncount                           6428                           6172   \nmean   1943-05-28 04:49:52.906035968  1948-04-29 17:47:52.067401088   \nmin              1848-11-06 00:00:00            1848-11-16 00:00:00   \n25%              1890-06-02 00:00:00            1898-04-01 00:00:00   \n50%              1947-12-01 00:00:00            1955-12-04 00:00:00   \n75%              1999-12-06 00:00:00            2000-12-31 00:00:00   \nmax              2021-11-29 00:00:00            2021-11-28 00:00:00   \nstd                              NaN                            NaN   \n\n                         DateOfBirth                    DateOfDeath  \\\ncount                           6428                           4269   \nmean   1895-02-13 21:37:58.282514432  1936-08-25 15:43:08.053408256   \nmin              1773-04-22 00:00:00            1848-12-31 00:00:00   \n25%              1845-02-09 00:00:00            1896-01-24 00:00:00   \n50%              1898-03-02 12:00:00            1934-10-30 00:00:00   \n75%              1947-06-03 00:00:00            1975-09-03 00:00:00   \nmax              1994-02-26 00:00:00            2021-10-10 00:00:00   \nstd                              NaN                            NaN   \n\n        AgeJoining   AgeLeaving          Age  YearsInOffice  \ncount  6428.000000  6172.000000  6428.000000    6428.000000  \nmean     48.019757    55.998704    70.694617       7.894524  \nmin      21.000000    25.000000    29.000000       0.000000  \n25%      41.000000    49.000000    63.000000       3.000000  \n50%      48.000000    57.000000    71.000000       4.000000  \n75%      55.000000    63.000000    80.000000      11.000000  \nmax      85.000000    87.000000   104.000000      48.000000  \nstd       9.336628    10.117556    12.282092       7.505327  ",
      "text/html": "<div>\n<style scoped>\n    .dataframe tbody tr th:only-of-type {\n        vertical-align: middle;\n    }\n\n    .dataframe tbody tr th {\n        vertical-align: top;\n    }\n\n    .dataframe thead th {\n        text-align: right;\n    }\n</style>\n<table border=\"1\" class=\"dataframe\">\n  <thead>\n    <tr style=\"text-align: right;\">\n      <th></th>\n      <th>DateJoining</th>\n      <th>DateLeaving</th>\n      <th>DateOfBirth</th>\n      <th>DateOfDeath</th>\n      <th>AgeJoining</th>\n      <th>AgeLeaving</th>\n      <th>Age</th>\n      <th>YearsInOffice</th>\n    </tr>\n  </thead>\n  <tbody>\n    <tr>\n      <th>count</th>\n      <td>6428</td>\n      <td>6172</td>\n      <td>6428</td>\n      <td>4269</td>\n      <td>6428.000000</td>\n      <td>6172.000000</td>\n      <td>6428.000000</td>\n      <td>6428.000000</td>\n    </tr>\n    <tr>\n      <th>mean</th>\n      <td>1943-05-28 04:49:52.906035968</td>\n      <td>1948-04-29 17:47:52.067401088</td>\n      <td>1895-02-13 21:37:58.282514432</td>\n      <td>1936-08-25 15:43:08.053408256</td>\n      <td>48.019757</td>\n      <td>55.998704</td>\n      <td>70.694617</td>\n      <td>7.894524</td>\n    </tr>\n    <tr>\n      <th>min</th>\n      <td>1848-11-06 00:00:00</td>\n      <td>1848-11-16 00:00:00</td>\n      <td>1773-04-22 00:00:00</td>\n      <td>1848-12-31 00:00:00</td>\n      <td>21.000000</td>\n      <td>25.000000</td>\n      <td>29.000000</td>\n      <td>0.000000</td>\n    </tr>\n    <tr>\n      <th>25%</th>\n      <td>1890-06-02 00:00:00</td>\n      <td>1898-04-01 00:00:00</td>\n      <td>1845-02-09 00:00:00</td>\n      <td>1896-01-24 00:00:00</td>\n      <td>41.000000</td>\n      <td>49.000000</td>\n      <td>63.000000</td>\n      <td>3.000000</td>\n    </tr>\n    <tr>\n      <th>50%</th>\n      <td>1947-12-01 00:00:00</td>\n      <td>1955-12-04 00:00:00</td>\n      <td>1898-03-02 12:00:00</td>\n      <td>1934-10-30 00:00:00</td>\n      <td>48.000000</td>\n      <td>57.000000</td>\n      <td>71.000000</td>\n      <td>4.000000</td>\n    </tr>\n    <tr>\n      <th>75%</th>\n      <td>1999-12-06 00:00:00</td>\n      <td>2000-12-31 00:00:00</td>\n      <td>1947-06-03 00:00:00</td>\n      <td>1975-09-03 00:00:00</td>\n      <td>55.000000</td>\n      <td>63.000000</td>\n      <td>80.000000</td>\n      <td>11.000000</td>\n    </tr>\n    <tr>\n      <th>max</th>\n      <td>2021-11-29 00:00:00</td>\n      <td>2021-11-28 00:00:00</td>\n      <td>1994-02-26 00:00:00</td>\n      <td>2021-10-10 00:00:00</td>\n      <td>85.000000</td>\n      <td>87.000000</td>\n      <td>104.000000</td>\n      <td>48.000000</td>\n    </tr>\n    <tr>\n      <th>std</th>\n      <td>NaN</td>\n      <td>NaN</td>\n      <td>NaN</td>\n      <td>NaN</td>\n      <td>9.336628</td>\n      <td>10.117556</td>\n      <td>12.282092</td>\n      <td>7.505327</td>\n    </tr>\n  </tbody>\n</table>\n</div>"
     },
     "execution_count": 108,
     "metadata": {},
     "output_type": "execute_result"
    }
   ],
   "source": [
    "df_mod.describe()"
   ],
   "metadata": {
    "collapsed": false,
    "ExecuteTime": {
     "end_time": "2023-10-01T18:44:16.289637800Z",
     "start_time": "2023-10-01T18:44:15.745562200Z"
    }
   },
   "id": "4676fdabb5e3ad4e"
  },
  {
   "cell_type": "markdown",
   "source": [],
   "metadata": {
    "collapsed": false
   },
   "id": "8f72d3df701321d7"
  },
  {
   "cell_type": "markdown",
   "source": [
    "Bei dieser Übersicht stechen 2 Werte ins Auge: \n",
    "- Maximalwert bei 'Age' von 104 Jahren\n",
    "- Minimalwert bei 'YearsInOffice' von 0 Jahren\n",
    "\n",
    "Beim Alter werden alle Werte über 100 Jahren genauer untersucht.\n",
    "Bei der Anzahl Jahre im Amt wird zuerst geschaut, ob es sich um einen Fehler handelt oder ob es sich um eine Person handelt, welche nur sehr kurz im Amt war und ob es noch mehrere Personen mit einer Amtszeit von 0 Jahren gibt."
   ],
   "metadata": {
    "collapsed": false
   },
   "id": "56a0211cf30669fa"
  },
  {
   "cell_type": "code",
   "execution_count": 109,
   "outputs": [
    {
     "data": {
      "text/plain": "      Active FirstName   LastName GenderAsString CantonName  \\\n154    False    Othmar  Andermatt              m        Zug   \n706    False    Samuel    Brawand              m       Bern   \n708    False    Samuel    Brawand              m       Bern   \n2653   False     Albin    Heimann              m     Zürich   \n3738   False    Armand      Melly              m      Waadt   \n\n     CantonAbbreviation  CouncilName                   ParlGroupName  \\\n154                  ZG    Ständerat  Radikal-demokratische Fraktion   \n706                  BE  Nationalrat    Sozialdemokratische Fraktion   \n708                  BE  Nationalrat    Sozialdemokratische Fraktion   \n2653                 ZH    Ständerat        Fraktion des Landesrings   \n3738                 VD  Nationalrat  Radikal-demokratische Fraktion   \n\n     ParlGroupAbbreviation                                    PartyName  ...  \\\n154                      R  Freisinnig-Demokratische Partei der Schweiz  ...   \n706                      S       Sozialdemokratische Partei der Schweiz  ...   \n708                      S       Sozialdemokratische Partei der Schweiz  ...   \n2653                     U                  Landesring der Unabhängigen  ...   \n3738                     R  Freisinnig-Demokratische Partei der Schweiz  ...   \n\n     Mandates DateJoining DateLeaving                 Citizenship DateOfBirth  \\\n154       NaN  1971-01-25  1986-12-01       Luzern (LU),Baar (ZG)  1922-11-08   \n706       NaN  1955-12-05  1967-12-03            Grindelwald (BE)  1898-05-18   \n708       NaN  1935-12-02  1947-11-30            Grindelwald (BE)  1898-05-18   \n2653      NaN  1967-12-04  1979-11-25  Zürich (ZH),Hasliberg (BE)  1914-03-16   \n3738      NaN  1939-12-04  1947-11-30               La Rippe (VD)  1882-06-20   \n\n     DateOfDeath AgeJoining AgeLeaving  Age YearsInOffice  \n154          NaT         49       64.0  101            15  \n706   2001-07-11         57       69.0  103            12  \n708   2001-07-11         37       49.0  103            12  \n2653  2015-12-19         53       65.0  101            12  \n3738  1986-01-18         57       65.0  104             8  \n\n[5 rows x 24 columns]",
      "text/html": "<div>\n<style scoped>\n    .dataframe tbody tr th:only-of-type {\n        vertical-align: middle;\n    }\n\n    .dataframe tbody tr th {\n        vertical-align: top;\n    }\n\n    .dataframe thead th {\n        text-align: right;\n    }\n</style>\n<table border=\"1\" class=\"dataframe\">\n  <thead>\n    <tr style=\"text-align: right;\">\n      <th></th>\n      <th>Active</th>\n      <th>FirstName</th>\n      <th>LastName</th>\n      <th>GenderAsString</th>\n      <th>CantonName</th>\n      <th>CantonAbbreviation</th>\n      <th>CouncilName</th>\n      <th>ParlGroupName</th>\n      <th>ParlGroupAbbreviation</th>\n      <th>PartyName</th>\n      <th>...</th>\n      <th>Mandates</th>\n      <th>DateJoining</th>\n      <th>DateLeaving</th>\n      <th>Citizenship</th>\n      <th>DateOfBirth</th>\n      <th>DateOfDeath</th>\n      <th>AgeJoining</th>\n      <th>AgeLeaving</th>\n      <th>Age</th>\n      <th>YearsInOffice</th>\n    </tr>\n  </thead>\n  <tbody>\n    <tr>\n      <th>154</th>\n      <td>False</td>\n      <td>Othmar</td>\n      <td>Andermatt</td>\n      <td>m</td>\n      <td>Zug</td>\n      <td>ZG</td>\n      <td>Ständerat</td>\n      <td>Radikal-demokratische Fraktion</td>\n      <td>R</td>\n      <td>Freisinnig-Demokratische Partei der Schweiz</td>\n      <td>...</td>\n      <td>NaN</td>\n      <td>1971-01-25</td>\n      <td>1986-12-01</td>\n      <td>Luzern (LU),Baar (ZG)</td>\n      <td>1922-11-08</td>\n      <td>NaT</td>\n      <td>49</td>\n      <td>64.0</td>\n      <td>101</td>\n      <td>15</td>\n    </tr>\n    <tr>\n      <th>706</th>\n      <td>False</td>\n      <td>Samuel</td>\n      <td>Brawand</td>\n      <td>m</td>\n      <td>Bern</td>\n      <td>BE</td>\n      <td>Nationalrat</td>\n      <td>Sozialdemokratische Fraktion</td>\n      <td>S</td>\n      <td>Sozialdemokratische Partei der Schweiz</td>\n      <td>...</td>\n      <td>NaN</td>\n      <td>1955-12-05</td>\n      <td>1967-12-03</td>\n      <td>Grindelwald (BE)</td>\n      <td>1898-05-18</td>\n      <td>2001-07-11</td>\n      <td>57</td>\n      <td>69.0</td>\n      <td>103</td>\n      <td>12</td>\n    </tr>\n    <tr>\n      <th>708</th>\n      <td>False</td>\n      <td>Samuel</td>\n      <td>Brawand</td>\n      <td>m</td>\n      <td>Bern</td>\n      <td>BE</td>\n      <td>Nationalrat</td>\n      <td>Sozialdemokratische Fraktion</td>\n      <td>S</td>\n      <td>Sozialdemokratische Partei der Schweiz</td>\n      <td>...</td>\n      <td>NaN</td>\n      <td>1935-12-02</td>\n      <td>1947-11-30</td>\n      <td>Grindelwald (BE)</td>\n      <td>1898-05-18</td>\n      <td>2001-07-11</td>\n      <td>37</td>\n      <td>49.0</td>\n      <td>103</td>\n      <td>12</td>\n    </tr>\n    <tr>\n      <th>2653</th>\n      <td>False</td>\n      <td>Albin</td>\n      <td>Heimann</td>\n      <td>m</td>\n      <td>Zürich</td>\n      <td>ZH</td>\n      <td>Ständerat</td>\n      <td>Fraktion des Landesrings</td>\n      <td>U</td>\n      <td>Landesring der Unabhängigen</td>\n      <td>...</td>\n      <td>NaN</td>\n      <td>1967-12-04</td>\n      <td>1979-11-25</td>\n      <td>Zürich (ZH),Hasliberg (BE)</td>\n      <td>1914-03-16</td>\n      <td>2015-12-19</td>\n      <td>53</td>\n      <td>65.0</td>\n      <td>101</td>\n      <td>12</td>\n    </tr>\n    <tr>\n      <th>3738</th>\n      <td>False</td>\n      <td>Armand</td>\n      <td>Melly</td>\n      <td>m</td>\n      <td>Waadt</td>\n      <td>VD</td>\n      <td>Nationalrat</td>\n      <td>Radikal-demokratische Fraktion</td>\n      <td>R</td>\n      <td>Freisinnig-Demokratische Partei der Schweiz</td>\n      <td>...</td>\n      <td>NaN</td>\n      <td>1939-12-04</td>\n      <td>1947-11-30</td>\n      <td>La Rippe (VD)</td>\n      <td>1882-06-20</td>\n      <td>1986-01-18</td>\n      <td>57</td>\n      <td>65.0</td>\n      <td>104</td>\n      <td>8</td>\n    </tr>\n  </tbody>\n</table>\n<p>5 rows × 24 columns</p>\n</div>"
     },
     "execution_count": 109,
     "metadata": {},
     "output_type": "execute_result"
    }
   ],
   "source": [
    "# Alter über 100 Jahre\n",
    "df_mod[df_mod['Age'] > 100]"
   ],
   "metadata": {
    "collapsed": false,
    "ExecuteTime": {
     "end_time": "2023-10-01T18:44:16.289637800Z",
     "start_time": "2023-10-01T18:44:15.790964800Z"
    }
   },
   "id": "927cc99e57c7a600"
  },
  {
   "cell_type": "markdown",
   "source": [
    "Eine Überprüfung des Alters von Armand Melly ergibt, dass er tatsächlich 104 Jahre alt wurde.\n",
    "Othmar Andermatt lebt heute noch und bei den weiteren Personen dürfte das Alte ebefalls stimmen. "
   ],
   "metadata": {
    "collapsed": false
   },
   "id": "ff0dacb84130340"
  },
  {
   "cell_type": "markdown",
   "source": [
    "Um die Zeit weniger als 1 Jahr zu untersuchen, wird eine neue Spalte mit den Tagen im Amt erstellt."
   ],
   "metadata": {
    "collapsed": false
   },
   "id": "7191e9b90d101777"
  },
  {
   "cell_type": "code",
   "execution_count": 110,
   "outputs": [
    {
     "data": {
      "text/plain": "      Active      FirstName  LastName GenderAsString  CantonName  \\\n0      False       Giuseppe   a Marca              m  Graubünden   \n1      False          Alois  Ab Yberg              m      Schwyz   \n2      False          Fabio     Abate              m      Tessin   \n3      False          Fabio     Abate              m      Tessin   \n4      False          Fabio     Abate              m      Tessin   \n...      ...            ...       ...            ...         ...   \n6425   False  Otto (senior)   Zwygart              m        Bern   \n6426   False           Otto   Zwygart              m        Bern   \n6427   False      Carl Sam.      Zyro              m        Bern   \n6428   False      Carl Sam.      Zyro              m        Bern   \n6429   False      Carl Sam.      Zyro              m        Bern   \n\n     CantonAbbreviation  CouncilName                            ParlGroupName  \\\n0                    GR    Ständerat                                    Mitte   \n1                    SZ  Nationalrat           Radikal-demokratische Fraktion   \n2                    TI  Nationalrat        Freisinnig-demokratische Fraktion   \n3                    TI  Nationalrat        Freisinnig-demokratische Fraktion   \n4                    TI    Ständerat                    FDP-Liberale Fraktion   \n...                 ...          ...                                      ...   \n6425                 BE  Nationalrat  Demokratische und Evangelische Fraktion   \n6426                 BE  Nationalrat                         LdU/EVP-Fraktion   \n6427                 BE  Nationalrat                                    Linke   \n6428                 BE  Nationalrat                                    Linke   \n6429                 BE  Nationalrat                                    Linke   \n\n     ParlGroupAbbreviation                                    PartyName  ...  \\\n0                       MC                                 Konservative  ...   \n1                        R  Freisinnig-Demokratische Partei der Schweiz  ...   \n2                       RL  Freisinnig-Demokratische Partei der Schweiz  ...   \n3                        R  Freisinnig-Demokratische Partei der Schweiz  ...   \n4                       RL                            FDP.Die Liberalen  ...   \n...                    ...                                          ...  ...   \n6425                    DE         Evangelische Volkspartei der Schweiz  ...   \n6426                     U         Evangelische Volkspartei der Schweiz  ...   \n6427                    LG  Freisinnig-Demokratische Partei der Schweiz  ...   \n6428                    LG  Freisinnig-Demokratische Partei der Schweiz  ...   \n6429                    LG  Freisinnig-Demokratische Partei der Schweiz  ...   \n\n     DateJoining DateLeaving                  Citizenship DateOfBirth  \\\n0     1849-12-01  1851-07-01                  Soazza (GR)  1799-07-29   \n1     1928-12-03  1935-12-01                  Schwyz (SZ)  1878-10-06   \n2     2007-12-03  2011-12-04                  Cabbio (TI)  1966-01-04   \n3     2000-09-25  2003-11-30                  Cabbio (TI)  1966-01-04   \n4     2011-12-05  2015-11-29                  Cabbio (TI)  1966-01-04   \n...          ...         ...                          ...         ...   \n6425  1971-06-01  1983-11-27                Meikirch (BE)  1911-05-30   \n6426  1983-11-28  1995-12-03  Bolligen (BE),Meikirch (BE)  1940-01-16   \n6427  1866-12-03  1893-12-03                    Thun (BE)  1834-07-17   \n6428  1866-12-03  1893-12-03                    Thun (BE)  1834-07-17   \n6429  1866-12-03  1893-12-03                    Thun (BE)  1834-07-17   \n\n     DateOfDeath AgeJoining AgeLeaving Age YearsInOffice DaysInOffice  \n0     1866-07-16         50       52.0  67             2     577 days  \n1     1959-10-17         50       57.0  81             7    2554 days  \n2            NaT         41       45.0  57             4    1462 days  \n3            NaT         34       37.0  57             3    1161 days  \n4            NaT         45       49.0  57             4    1455 days  \n...          ...        ...        ...  ..           ...          ...  \n6425  1986-04-05         60       72.0  75            12    4562 days  \n6426         NaT         43       55.0  83            12    4388 days  \n6427  1896-08-26         32       59.0  62            27    9862 days  \n6428  1896-08-26         32       59.0  62            27    9862 days  \n6429  1896-08-26         32       59.0  62            27    9862 days  \n\n[6428 rows x 25 columns]",
      "text/html": "<div>\n<style scoped>\n    .dataframe tbody tr th:only-of-type {\n        vertical-align: middle;\n    }\n\n    .dataframe tbody tr th {\n        vertical-align: top;\n    }\n\n    .dataframe thead th {\n        text-align: right;\n    }\n</style>\n<table border=\"1\" class=\"dataframe\">\n  <thead>\n    <tr style=\"text-align: right;\">\n      <th></th>\n      <th>Active</th>\n      <th>FirstName</th>\n      <th>LastName</th>\n      <th>GenderAsString</th>\n      <th>CantonName</th>\n      <th>CantonAbbreviation</th>\n      <th>CouncilName</th>\n      <th>ParlGroupName</th>\n      <th>ParlGroupAbbreviation</th>\n      <th>PartyName</th>\n      <th>...</th>\n      <th>DateJoining</th>\n      <th>DateLeaving</th>\n      <th>Citizenship</th>\n      <th>DateOfBirth</th>\n      <th>DateOfDeath</th>\n      <th>AgeJoining</th>\n      <th>AgeLeaving</th>\n      <th>Age</th>\n      <th>YearsInOffice</th>\n      <th>DaysInOffice</th>\n    </tr>\n  </thead>\n  <tbody>\n    <tr>\n      <th>0</th>\n      <td>False</td>\n      <td>Giuseppe</td>\n      <td>a Marca</td>\n      <td>m</td>\n      <td>Graubünden</td>\n      <td>GR</td>\n      <td>Ständerat</td>\n      <td>Mitte</td>\n      <td>MC</td>\n      <td>Konservative</td>\n      <td>...</td>\n      <td>1849-12-01</td>\n      <td>1851-07-01</td>\n      <td>Soazza (GR)</td>\n      <td>1799-07-29</td>\n      <td>1866-07-16</td>\n      <td>50</td>\n      <td>52.0</td>\n      <td>67</td>\n      <td>2</td>\n      <td>577 days</td>\n    </tr>\n    <tr>\n      <th>1</th>\n      <td>False</td>\n      <td>Alois</td>\n      <td>Ab Yberg</td>\n      <td>m</td>\n      <td>Schwyz</td>\n      <td>SZ</td>\n      <td>Nationalrat</td>\n      <td>Radikal-demokratische Fraktion</td>\n      <td>R</td>\n      <td>Freisinnig-Demokratische Partei der Schweiz</td>\n      <td>...</td>\n      <td>1928-12-03</td>\n      <td>1935-12-01</td>\n      <td>Schwyz (SZ)</td>\n      <td>1878-10-06</td>\n      <td>1959-10-17</td>\n      <td>50</td>\n      <td>57.0</td>\n      <td>81</td>\n      <td>7</td>\n      <td>2554 days</td>\n    </tr>\n    <tr>\n      <th>2</th>\n      <td>False</td>\n      <td>Fabio</td>\n      <td>Abate</td>\n      <td>m</td>\n      <td>Tessin</td>\n      <td>TI</td>\n      <td>Nationalrat</td>\n      <td>Freisinnig-demokratische Fraktion</td>\n      <td>RL</td>\n      <td>Freisinnig-Demokratische Partei der Schweiz</td>\n      <td>...</td>\n      <td>2007-12-03</td>\n      <td>2011-12-04</td>\n      <td>Cabbio (TI)</td>\n      <td>1966-01-04</td>\n      <td>NaT</td>\n      <td>41</td>\n      <td>45.0</td>\n      <td>57</td>\n      <td>4</td>\n      <td>1462 days</td>\n    </tr>\n    <tr>\n      <th>3</th>\n      <td>False</td>\n      <td>Fabio</td>\n      <td>Abate</td>\n      <td>m</td>\n      <td>Tessin</td>\n      <td>TI</td>\n      <td>Nationalrat</td>\n      <td>Freisinnig-demokratische Fraktion</td>\n      <td>R</td>\n      <td>Freisinnig-Demokratische Partei der Schweiz</td>\n      <td>...</td>\n      <td>2000-09-25</td>\n      <td>2003-11-30</td>\n      <td>Cabbio (TI)</td>\n      <td>1966-01-04</td>\n      <td>NaT</td>\n      <td>34</td>\n      <td>37.0</td>\n      <td>57</td>\n      <td>3</td>\n      <td>1161 days</td>\n    </tr>\n    <tr>\n      <th>4</th>\n      <td>False</td>\n      <td>Fabio</td>\n      <td>Abate</td>\n      <td>m</td>\n      <td>Tessin</td>\n      <td>TI</td>\n      <td>Ständerat</td>\n      <td>FDP-Liberale Fraktion</td>\n      <td>RL</td>\n      <td>FDP.Die Liberalen</td>\n      <td>...</td>\n      <td>2011-12-05</td>\n      <td>2015-11-29</td>\n      <td>Cabbio (TI)</td>\n      <td>1966-01-04</td>\n      <td>NaT</td>\n      <td>45</td>\n      <td>49.0</td>\n      <td>57</td>\n      <td>4</td>\n      <td>1455 days</td>\n    </tr>\n    <tr>\n      <th>...</th>\n      <td>...</td>\n      <td>...</td>\n      <td>...</td>\n      <td>...</td>\n      <td>...</td>\n      <td>...</td>\n      <td>...</td>\n      <td>...</td>\n      <td>...</td>\n      <td>...</td>\n      <td>...</td>\n      <td>...</td>\n      <td>...</td>\n      <td>...</td>\n      <td>...</td>\n      <td>...</td>\n      <td>...</td>\n      <td>...</td>\n      <td>...</td>\n      <td>...</td>\n      <td>...</td>\n    </tr>\n    <tr>\n      <th>6425</th>\n      <td>False</td>\n      <td>Otto (senior)</td>\n      <td>Zwygart</td>\n      <td>m</td>\n      <td>Bern</td>\n      <td>BE</td>\n      <td>Nationalrat</td>\n      <td>Demokratische und Evangelische Fraktion</td>\n      <td>DE</td>\n      <td>Evangelische Volkspartei der Schweiz</td>\n      <td>...</td>\n      <td>1971-06-01</td>\n      <td>1983-11-27</td>\n      <td>Meikirch (BE)</td>\n      <td>1911-05-30</td>\n      <td>1986-04-05</td>\n      <td>60</td>\n      <td>72.0</td>\n      <td>75</td>\n      <td>12</td>\n      <td>4562 days</td>\n    </tr>\n    <tr>\n      <th>6426</th>\n      <td>False</td>\n      <td>Otto</td>\n      <td>Zwygart</td>\n      <td>m</td>\n      <td>Bern</td>\n      <td>BE</td>\n      <td>Nationalrat</td>\n      <td>LdU/EVP-Fraktion</td>\n      <td>U</td>\n      <td>Evangelische Volkspartei der Schweiz</td>\n      <td>...</td>\n      <td>1983-11-28</td>\n      <td>1995-12-03</td>\n      <td>Bolligen (BE),Meikirch (BE)</td>\n      <td>1940-01-16</td>\n      <td>NaT</td>\n      <td>43</td>\n      <td>55.0</td>\n      <td>83</td>\n      <td>12</td>\n      <td>4388 days</td>\n    </tr>\n    <tr>\n      <th>6427</th>\n      <td>False</td>\n      <td>Carl Sam.</td>\n      <td>Zyro</td>\n      <td>m</td>\n      <td>Bern</td>\n      <td>BE</td>\n      <td>Nationalrat</td>\n      <td>Linke</td>\n      <td>LG</td>\n      <td>Freisinnig-Demokratische Partei der Schweiz</td>\n      <td>...</td>\n      <td>1866-12-03</td>\n      <td>1893-12-03</td>\n      <td>Thun (BE)</td>\n      <td>1834-07-17</td>\n      <td>1896-08-26</td>\n      <td>32</td>\n      <td>59.0</td>\n      <td>62</td>\n      <td>27</td>\n      <td>9862 days</td>\n    </tr>\n    <tr>\n      <th>6428</th>\n      <td>False</td>\n      <td>Carl Sam.</td>\n      <td>Zyro</td>\n      <td>m</td>\n      <td>Bern</td>\n      <td>BE</td>\n      <td>Nationalrat</td>\n      <td>Linke</td>\n      <td>LG</td>\n      <td>Freisinnig-Demokratische Partei der Schweiz</td>\n      <td>...</td>\n      <td>1866-12-03</td>\n      <td>1893-12-03</td>\n      <td>Thun (BE)</td>\n      <td>1834-07-17</td>\n      <td>1896-08-26</td>\n      <td>32</td>\n      <td>59.0</td>\n      <td>62</td>\n      <td>27</td>\n      <td>9862 days</td>\n    </tr>\n    <tr>\n      <th>6429</th>\n      <td>False</td>\n      <td>Carl Sam.</td>\n      <td>Zyro</td>\n      <td>m</td>\n      <td>Bern</td>\n      <td>BE</td>\n      <td>Nationalrat</td>\n      <td>Linke</td>\n      <td>LG</td>\n      <td>Freisinnig-Demokratische Partei der Schweiz</td>\n      <td>...</td>\n      <td>1866-12-03</td>\n      <td>1893-12-03</td>\n      <td>Thun (BE)</td>\n      <td>1834-07-17</td>\n      <td>1896-08-26</td>\n      <td>32</td>\n      <td>59.0</td>\n      <td>62</td>\n      <td>27</td>\n      <td>9862 days</td>\n    </tr>\n  </tbody>\n</table>\n<p>6428 rows × 25 columns</p>\n</div>"
     },
     "execution_count": 110,
     "metadata": {},
     "output_type": "execute_result"
    }
   ],
   "source": [
    "# Anzahl Tage im Amt\n",
    "df_mod['DaysInOffice'] = df_mod['DateLeaving'] - df_mod['DateJoining']\n",
    "df_mod['DaysInOffice'] = df_mod['DaysInOffice'].fillna(pd.Timestamp('2023-12-31') - df_mod['DateJoining'])\n",
    "df_mod"
   ],
   "metadata": {
    "collapsed": false,
    "ExecuteTime": {
     "end_time": "2023-10-01T18:44:16.436867900Z",
     "start_time": "2023-10-01T18:44:15.823979Z"
    }
   },
   "id": "bf06d15e2f1a5c3e"
  },
  {
   "cell_type": "code",
   "execution_count": 111,
   "outputs": [
    {
     "data": {
      "text/plain": "      Active      FirstName LastName GenderAsString  CantonName  \\\n28     False        Gustave     Ador              m        Genf   \n41     False           Paul     Aeby              m    Freiburg   \n50     False    Arnold Otto    Aepli              m  St. Gallen   \n55     False    Arnold Otto    Aepli              m  St. Gallen   \n130    False  Johann-Kaspar   Ammann              m      Zürich   \n...      ...            ...      ...            ...         ...   \n6249   False           Hans     Wirz              m      Zürich   \n6273   False       Benedikt    Würth              m  St. Gallen   \n6335   False         Joseph     Zemp              m      Luzern   \n6338   False         Joseph     Zemp              m      Luzern   \n6353   False        Theodor  Ziegler              m      Zürich   \n\n     CantonAbbreviation  CouncilName                 ParlGroupName  \\\n28                   GE    Bundesrat                           NaN   \n41                   FR  Nationalrat                           NaN   \n50                   SG    Ständerat                         Mitte   \n55                   SG    Ständerat                         Mitte   \n130                  ZH    Ständerat                         Linke   \n...                 ...          ...                           ...   \n6249                 ZH  Nationalrat  Sozialdemokratische Fraktion   \n6273                 SG    Ständerat                  CVP-Fraktion   \n6335                 LU    Bundesrat                           NaN   \n6338                 LU    Bundesrat                           NaN   \n6353                 ZH    Ständerat                           NaN   \n\n     ParlGroupAbbreviation                                        PartyName  \\\n28                     NaN                      Liberale Partei der Schweiz   \n41                     NaN                                     Konservative   \n50                      MC                                         Liberale   \n55                      MC                                         Liberale   \n130                     LG                                         Liberale   \n...                    ...                                              ...   \n6249                     S           Sozialdemokratische Partei der Schweiz   \n6273                     C  Christlichdemokratische Volkspartei der Schweiz   \n6335                   NaN                                     Konservative   \n6338                   NaN                                     Konservative   \n6353                   NaN      Freisinnig-Demokratische Partei der Schweiz   \n\n      ... DateJoining DateLeaving  \\\n28    ...  1919-01-01  1919-12-31   \n41    ...  1881-02-14  1881-10-01   \n50    ...  1853-07-04  1853-12-01   \n55    ...  1849-04-16  1849-11-01   \n130   ...  1849-04-16  1849-08-01   \n...   ...         ...         ...   \n6249  ...  1919-01-27  1919-10-01   \n6273  ...  2019-06-03  2019-12-01   \n6335  ...  1902-01-01  1902-12-31   \n6338  ...  1895-01-01  1895-12-31   \n6353  ...  1869-07-05  1869-12-05   \n\n                                      Citizenship DateOfBirth DateOfDeath  \\\n28                      Vuiteboeuf (VD),Genf (GE)  1845-12-23  1928-03-31   \n41                                  Freiburg (FR)  1841-11-13  1898-07-18   \n50              St. Gallen (SG),Diessenhofen (TG)  1816-08-22  1897-12-04   \n55              St. Gallen (SG),Diessenhofen (TG)  1816-08-22  1897-12-04   \n130   Unterstrass bei Zürich (ZH),Aussersihl (ZH)  1803-11-12  1870-11-06   \n...                                           ...         ...         ...   \n6249                                  Gossau (ZH)  1873-05-21  1943-01-16   \n6273               Berg (SG),Rapperswil-Jona (SG)  1968-01-20         NaT   \n6335                               Entlebuch (LU)  1834-11-03  1908-12-08   \n6338                               Entlebuch (LU)  1834-11-03  1908-12-08   \n6353                              Winterthur (ZH)  1832-09-03  1917-12-09   \n\n     AgeJoining AgeLeaving Age YearsInOffice DaysInOffice  \n28           74       74.0  83             0     364 days  \n41           40       40.0  57             0     229 days  \n50           37       37.0  81             0     150 days  \n55           33       33.0  81             0     199 days  \n130          46       46.0  67             0     107 days  \n...         ...        ...  ..           ...          ...  \n6249         46       46.0  70             0     247 days  \n6273         51       51.0  55             0     181 days  \n6335         68       68.0  74             0     364 days  \n6338         61       61.0  74             0     364 days  \n6353         37       37.0  85             0     153 days  \n\n[366 rows x 25 columns]",
      "text/html": "<div>\n<style scoped>\n    .dataframe tbody tr th:only-of-type {\n        vertical-align: middle;\n    }\n\n    .dataframe tbody tr th {\n        vertical-align: top;\n    }\n\n    .dataframe thead th {\n        text-align: right;\n    }\n</style>\n<table border=\"1\" class=\"dataframe\">\n  <thead>\n    <tr style=\"text-align: right;\">\n      <th></th>\n      <th>Active</th>\n      <th>FirstName</th>\n      <th>LastName</th>\n      <th>GenderAsString</th>\n      <th>CantonName</th>\n      <th>CantonAbbreviation</th>\n      <th>CouncilName</th>\n      <th>ParlGroupName</th>\n      <th>ParlGroupAbbreviation</th>\n      <th>PartyName</th>\n      <th>...</th>\n      <th>DateJoining</th>\n      <th>DateLeaving</th>\n      <th>Citizenship</th>\n      <th>DateOfBirth</th>\n      <th>DateOfDeath</th>\n      <th>AgeJoining</th>\n      <th>AgeLeaving</th>\n      <th>Age</th>\n      <th>YearsInOffice</th>\n      <th>DaysInOffice</th>\n    </tr>\n  </thead>\n  <tbody>\n    <tr>\n      <th>28</th>\n      <td>False</td>\n      <td>Gustave</td>\n      <td>Ador</td>\n      <td>m</td>\n      <td>Genf</td>\n      <td>GE</td>\n      <td>Bundesrat</td>\n      <td>NaN</td>\n      <td>NaN</td>\n      <td>Liberale Partei der Schweiz</td>\n      <td>...</td>\n      <td>1919-01-01</td>\n      <td>1919-12-31</td>\n      <td>Vuiteboeuf (VD),Genf (GE)</td>\n      <td>1845-12-23</td>\n      <td>1928-03-31</td>\n      <td>74</td>\n      <td>74.0</td>\n      <td>83</td>\n      <td>0</td>\n      <td>364 days</td>\n    </tr>\n    <tr>\n      <th>41</th>\n      <td>False</td>\n      <td>Paul</td>\n      <td>Aeby</td>\n      <td>m</td>\n      <td>Freiburg</td>\n      <td>FR</td>\n      <td>Nationalrat</td>\n      <td>NaN</td>\n      <td>NaN</td>\n      <td>Konservative</td>\n      <td>...</td>\n      <td>1881-02-14</td>\n      <td>1881-10-01</td>\n      <td>Freiburg (FR)</td>\n      <td>1841-11-13</td>\n      <td>1898-07-18</td>\n      <td>40</td>\n      <td>40.0</td>\n      <td>57</td>\n      <td>0</td>\n      <td>229 days</td>\n    </tr>\n    <tr>\n      <th>50</th>\n      <td>False</td>\n      <td>Arnold Otto</td>\n      <td>Aepli</td>\n      <td>m</td>\n      <td>St. Gallen</td>\n      <td>SG</td>\n      <td>Ständerat</td>\n      <td>Mitte</td>\n      <td>MC</td>\n      <td>Liberale</td>\n      <td>...</td>\n      <td>1853-07-04</td>\n      <td>1853-12-01</td>\n      <td>St. Gallen (SG),Diessenhofen (TG)</td>\n      <td>1816-08-22</td>\n      <td>1897-12-04</td>\n      <td>37</td>\n      <td>37.0</td>\n      <td>81</td>\n      <td>0</td>\n      <td>150 days</td>\n    </tr>\n    <tr>\n      <th>55</th>\n      <td>False</td>\n      <td>Arnold Otto</td>\n      <td>Aepli</td>\n      <td>m</td>\n      <td>St. Gallen</td>\n      <td>SG</td>\n      <td>Ständerat</td>\n      <td>Mitte</td>\n      <td>MC</td>\n      <td>Liberale</td>\n      <td>...</td>\n      <td>1849-04-16</td>\n      <td>1849-11-01</td>\n      <td>St. Gallen (SG),Diessenhofen (TG)</td>\n      <td>1816-08-22</td>\n      <td>1897-12-04</td>\n      <td>33</td>\n      <td>33.0</td>\n      <td>81</td>\n      <td>0</td>\n      <td>199 days</td>\n    </tr>\n    <tr>\n      <th>130</th>\n      <td>False</td>\n      <td>Johann-Kaspar</td>\n      <td>Ammann</td>\n      <td>m</td>\n      <td>Zürich</td>\n      <td>ZH</td>\n      <td>Ständerat</td>\n      <td>Linke</td>\n      <td>LG</td>\n      <td>Liberale</td>\n      <td>...</td>\n      <td>1849-04-16</td>\n      <td>1849-08-01</td>\n      <td>Unterstrass bei Zürich (ZH),Aussersihl (ZH)</td>\n      <td>1803-11-12</td>\n      <td>1870-11-06</td>\n      <td>46</td>\n      <td>46.0</td>\n      <td>67</td>\n      <td>0</td>\n      <td>107 days</td>\n    </tr>\n    <tr>\n      <th>...</th>\n      <td>...</td>\n      <td>...</td>\n      <td>...</td>\n      <td>...</td>\n      <td>...</td>\n      <td>...</td>\n      <td>...</td>\n      <td>...</td>\n      <td>...</td>\n      <td>...</td>\n      <td>...</td>\n      <td>...</td>\n      <td>...</td>\n      <td>...</td>\n      <td>...</td>\n      <td>...</td>\n      <td>...</td>\n      <td>...</td>\n      <td>...</td>\n      <td>...</td>\n      <td>...</td>\n    </tr>\n    <tr>\n      <th>6249</th>\n      <td>False</td>\n      <td>Hans</td>\n      <td>Wirz</td>\n      <td>m</td>\n      <td>Zürich</td>\n      <td>ZH</td>\n      <td>Nationalrat</td>\n      <td>Sozialdemokratische Fraktion</td>\n      <td>S</td>\n      <td>Sozialdemokratische Partei der Schweiz</td>\n      <td>...</td>\n      <td>1919-01-27</td>\n      <td>1919-10-01</td>\n      <td>Gossau (ZH)</td>\n      <td>1873-05-21</td>\n      <td>1943-01-16</td>\n      <td>46</td>\n      <td>46.0</td>\n      <td>70</td>\n      <td>0</td>\n      <td>247 days</td>\n    </tr>\n    <tr>\n      <th>6273</th>\n      <td>False</td>\n      <td>Benedikt</td>\n      <td>Würth</td>\n      <td>m</td>\n      <td>St. Gallen</td>\n      <td>SG</td>\n      <td>Ständerat</td>\n      <td>CVP-Fraktion</td>\n      <td>C</td>\n      <td>Christlichdemokratische Volkspartei der Schweiz</td>\n      <td>...</td>\n      <td>2019-06-03</td>\n      <td>2019-12-01</td>\n      <td>Berg (SG),Rapperswil-Jona (SG)</td>\n      <td>1968-01-20</td>\n      <td>NaT</td>\n      <td>51</td>\n      <td>51.0</td>\n      <td>55</td>\n      <td>0</td>\n      <td>181 days</td>\n    </tr>\n    <tr>\n      <th>6335</th>\n      <td>False</td>\n      <td>Joseph</td>\n      <td>Zemp</td>\n      <td>m</td>\n      <td>Luzern</td>\n      <td>LU</td>\n      <td>Bundesrat</td>\n      <td>NaN</td>\n      <td>NaN</td>\n      <td>Konservative</td>\n      <td>...</td>\n      <td>1902-01-01</td>\n      <td>1902-12-31</td>\n      <td>Entlebuch (LU)</td>\n      <td>1834-11-03</td>\n      <td>1908-12-08</td>\n      <td>68</td>\n      <td>68.0</td>\n      <td>74</td>\n      <td>0</td>\n      <td>364 days</td>\n    </tr>\n    <tr>\n      <th>6338</th>\n      <td>False</td>\n      <td>Joseph</td>\n      <td>Zemp</td>\n      <td>m</td>\n      <td>Luzern</td>\n      <td>LU</td>\n      <td>Bundesrat</td>\n      <td>NaN</td>\n      <td>NaN</td>\n      <td>Konservative</td>\n      <td>...</td>\n      <td>1895-01-01</td>\n      <td>1895-12-31</td>\n      <td>Entlebuch (LU)</td>\n      <td>1834-11-03</td>\n      <td>1908-12-08</td>\n      <td>61</td>\n      <td>61.0</td>\n      <td>74</td>\n      <td>0</td>\n      <td>364 days</td>\n    </tr>\n    <tr>\n      <th>6353</th>\n      <td>False</td>\n      <td>Theodor</td>\n      <td>Ziegler</td>\n      <td>m</td>\n      <td>Zürich</td>\n      <td>ZH</td>\n      <td>Ständerat</td>\n      <td>NaN</td>\n      <td>NaN</td>\n      <td>Freisinnig-Demokratische Partei der Schweiz</td>\n      <td>...</td>\n      <td>1869-07-05</td>\n      <td>1869-12-05</td>\n      <td>Winterthur (ZH)</td>\n      <td>1832-09-03</td>\n      <td>1917-12-09</td>\n      <td>37</td>\n      <td>37.0</td>\n      <td>85</td>\n      <td>0</td>\n      <td>153 days</td>\n    </tr>\n  </tbody>\n</table>\n<p>366 rows × 25 columns</p>\n</div>"
     },
     "execution_count": 111,
     "metadata": {},
     "output_type": "execute_result"
    }
   ],
   "source": [
    "# Anzahl Jahre im Amt   \n",
    "df_one_year = df_mod[df_mod['YearsInOffice'] == 0]\n",
    "df_one_year"
   ],
   "metadata": {
    "collapsed": false,
    "ExecuteTime": {
     "end_time": "2023-10-01T18:44:16.452870500Z",
     "start_time": "2023-10-01T18:44:15.906456200Z"
    }
   },
   "id": "feaaf3e5f4fa5088"
  },
  {
   "cell_type": "markdown",
   "source": [
    "Bei den Datumsformaten und den daraus berechneten zusätzlichen Spalten sind keine weiteren ungereimtheiten mehr ersichtlich. \n",
    "Nun fehlt noch die Überprüfung auf doppelte Einträge. \n",
    "Für den ersten Überblick wird über alle Spalten nach doppelten Einträgen gesucht. Beim Vorahndensein solcher Duplikate werden diese entfernt.  "
   ],
   "metadata": {
    "collapsed": false
   },
   "id": "f1a4489761551e2f"
  },
  {
   "cell_type": "code",
   "execution_count": 112,
   "outputs": [
    {
     "data": {
      "text/plain": "      Active  FirstName   LastName GenderAsString        CantonName  \\\n11     False   H. Roman        Abt              m            Aargau   \n12     False   H. Roman        Abt              m            Aargau   \n15     False     Walter  Ackermann              m  Appenzell A.-Rh.   \n16     False     Walter  Ackermann              m  Appenzell A.-Rh.   \n26     False    Gustave       Ador              m              Genf   \n...      ...        ...        ...            ...               ...   \n6419   False      Esaja    Zweifel              m            Glarus   \n6420   False      Esaja    Zweifel              m            Glarus   \n6424   False       Otto    Zwygart              m              Bern   \n6428   False  Carl Sam.       Zyro              m              Bern   \n6429   False  Carl Sam.       Zyro              m              Bern   \n\n     CantonAbbreviation  CouncilName                        ParlGroupName  \\\n11                   AG  Nationalrat  Bauern,-Gewerbe- und Bürgerfraktion   \n12                   AG  Nationalrat  Bauern,-Gewerbe- und Bürgerfraktion   \n15                   AR    Ständerat       Radikal-demokratische Fraktion   \n16                   AR    Ständerat       Radikal-demokratische Fraktion   \n26                   GE  Nationalrat                                  NaN   \n...                 ...          ...                                  ...   \n6419                 GL    Ständerat                                Mitte   \n6420                 GL    Ständerat                                Mitte   \n6424                 BE  Nationalrat                     LdU/EVP-Fraktion   \n6428                 BE  Nationalrat                                Linke   \n6429                 BE  Nationalrat                                Linke   \n\n     ParlGroupAbbreviation                                    PartyName  ...  \\\n11                     BGB           Bauern-, Gewerbe- und Bürgerpartei  ...   \n12                     BGB           Bauern-, Gewerbe- und Bürgerpartei  ...   \n15                       R  Freisinnig-Demokratische Partei der Schweiz  ...   \n16                       R  Freisinnig-Demokratische Partei der Schweiz  ...   \n26                     NaN                  Liberale Partei der Schweiz  ...   \n...                    ...                                          ...  ...   \n6419                    MC                                     Liberale  ...   \n6420                    MC                                     Liberale  ...   \n6424                     U         Evangelische Volkspartei der Schweiz  ...   \n6428                    LG  Freisinnig-Demokratische Partei der Schweiz  ...   \n6429                    LG  Freisinnig-Demokratische Partei der Schweiz  ...   \n\n     DateJoining DateLeaving                  Citizenship DateOfBirth  \\\n11    1919-01-01  1942-03-27                  Bünzen (AG)  1883-01-15   \n12    1919-01-01  1942-03-27                  Bünzen (AG)  1883-01-15   \n15    1935-12-02  1963-12-01                 Herisau (AR)  1890-11-15   \n16    1935-12-02  1963-12-01                 Herisau (AR)  1890-11-15   \n26    1889-03-25  1902-02-01    Vuiteboeuf (VD),Genf (GE)  1845-12-23   \n...          ...         ...                          ...         ...   \n6419  1884-06-04  1893-05-01                 Linthal (GL)  1827-03-27   \n6420  1884-06-04  1893-05-01                 Linthal (GL)  1827-03-27   \n6424  1995-12-04  2000-09-18  Bolligen (BE),Meikirch (BE)  1940-01-16   \n6428  1866-12-03  1893-12-03                    Thun (BE)  1834-07-17   \n6429  1866-12-03  1893-12-03                    Thun (BE)  1834-07-17   \n\n     DateOfDeath AgeJoining AgeLeaving Age YearsInOffice DaysInOffice  \n11    1942-03-27         36       59.0  59            23    8486 days  \n12    1942-03-27         36       59.0  59            23    8486 days  \n15    1969-01-31         45       73.0  79            28   10226 days  \n16    1969-01-31         45       73.0  79            28   10226 days  \n26    1928-03-31         44       57.0  83            13    4695 days  \n...          ...        ...        ...  ..           ...          ...  \n6419  1904-02-27         57       66.0  77             9    3253 days  \n6420  1904-02-27         57       66.0  77             9    3253 days  \n6424         NaT         55       60.0  83             5    1750 days  \n6428  1896-08-26         32       59.0  62            27    9862 days  \n6429  1896-08-26         32       59.0  62            27    9862 days  \n\n[732 rows x 25 columns]",
      "text/html": "<div>\n<style scoped>\n    .dataframe tbody tr th:only-of-type {\n        vertical-align: middle;\n    }\n\n    .dataframe tbody tr th {\n        vertical-align: top;\n    }\n\n    .dataframe thead th {\n        text-align: right;\n    }\n</style>\n<table border=\"1\" class=\"dataframe\">\n  <thead>\n    <tr style=\"text-align: right;\">\n      <th></th>\n      <th>Active</th>\n      <th>FirstName</th>\n      <th>LastName</th>\n      <th>GenderAsString</th>\n      <th>CantonName</th>\n      <th>CantonAbbreviation</th>\n      <th>CouncilName</th>\n      <th>ParlGroupName</th>\n      <th>ParlGroupAbbreviation</th>\n      <th>PartyName</th>\n      <th>...</th>\n      <th>DateJoining</th>\n      <th>DateLeaving</th>\n      <th>Citizenship</th>\n      <th>DateOfBirth</th>\n      <th>DateOfDeath</th>\n      <th>AgeJoining</th>\n      <th>AgeLeaving</th>\n      <th>Age</th>\n      <th>YearsInOffice</th>\n      <th>DaysInOffice</th>\n    </tr>\n  </thead>\n  <tbody>\n    <tr>\n      <th>11</th>\n      <td>False</td>\n      <td>H. Roman</td>\n      <td>Abt</td>\n      <td>m</td>\n      <td>Aargau</td>\n      <td>AG</td>\n      <td>Nationalrat</td>\n      <td>Bauern,-Gewerbe- und Bürgerfraktion</td>\n      <td>BGB</td>\n      <td>Bauern-, Gewerbe- und Bürgerpartei</td>\n      <td>...</td>\n      <td>1919-01-01</td>\n      <td>1942-03-27</td>\n      <td>Bünzen (AG)</td>\n      <td>1883-01-15</td>\n      <td>1942-03-27</td>\n      <td>36</td>\n      <td>59.0</td>\n      <td>59</td>\n      <td>23</td>\n      <td>8486 days</td>\n    </tr>\n    <tr>\n      <th>12</th>\n      <td>False</td>\n      <td>H. Roman</td>\n      <td>Abt</td>\n      <td>m</td>\n      <td>Aargau</td>\n      <td>AG</td>\n      <td>Nationalrat</td>\n      <td>Bauern,-Gewerbe- und Bürgerfraktion</td>\n      <td>BGB</td>\n      <td>Bauern-, Gewerbe- und Bürgerpartei</td>\n      <td>...</td>\n      <td>1919-01-01</td>\n      <td>1942-03-27</td>\n      <td>Bünzen (AG)</td>\n      <td>1883-01-15</td>\n      <td>1942-03-27</td>\n      <td>36</td>\n      <td>59.0</td>\n      <td>59</td>\n      <td>23</td>\n      <td>8486 days</td>\n    </tr>\n    <tr>\n      <th>15</th>\n      <td>False</td>\n      <td>Walter</td>\n      <td>Ackermann</td>\n      <td>m</td>\n      <td>Appenzell A.-Rh.</td>\n      <td>AR</td>\n      <td>Ständerat</td>\n      <td>Radikal-demokratische Fraktion</td>\n      <td>R</td>\n      <td>Freisinnig-Demokratische Partei der Schweiz</td>\n      <td>...</td>\n      <td>1935-12-02</td>\n      <td>1963-12-01</td>\n      <td>Herisau (AR)</td>\n      <td>1890-11-15</td>\n      <td>1969-01-31</td>\n      <td>45</td>\n      <td>73.0</td>\n      <td>79</td>\n      <td>28</td>\n      <td>10226 days</td>\n    </tr>\n    <tr>\n      <th>16</th>\n      <td>False</td>\n      <td>Walter</td>\n      <td>Ackermann</td>\n      <td>m</td>\n      <td>Appenzell A.-Rh.</td>\n      <td>AR</td>\n      <td>Ständerat</td>\n      <td>Radikal-demokratische Fraktion</td>\n      <td>R</td>\n      <td>Freisinnig-Demokratische Partei der Schweiz</td>\n      <td>...</td>\n      <td>1935-12-02</td>\n      <td>1963-12-01</td>\n      <td>Herisau (AR)</td>\n      <td>1890-11-15</td>\n      <td>1969-01-31</td>\n      <td>45</td>\n      <td>73.0</td>\n      <td>79</td>\n      <td>28</td>\n      <td>10226 days</td>\n    </tr>\n    <tr>\n      <th>26</th>\n      <td>False</td>\n      <td>Gustave</td>\n      <td>Ador</td>\n      <td>m</td>\n      <td>Genf</td>\n      <td>GE</td>\n      <td>Nationalrat</td>\n      <td>NaN</td>\n      <td>NaN</td>\n      <td>Liberale Partei der Schweiz</td>\n      <td>...</td>\n      <td>1889-03-25</td>\n      <td>1902-02-01</td>\n      <td>Vuiteboeuf (VD),Genf (GE)</td>\n      <td>1845-12-23</td>\n      <td>1928-03-31</td>\n      <td>44</td>\n      <td>57.0</td>\n      <td>83</td>\n      <td>13</td>\n      <td>4695 days</td>\n    </tr>\n    <tr>\n      <th>...</th>\n      <td>...</td>\n      <td>...</td>\n      <td>...</td>\n      <td>...</td>\n      <td>...</td>\n      <td>...</td>\n      <td>...</td>\n      <td>...</td>\n      <td>...</td>\n      <td>...</td>\n      <td>...</td>\n      <td>...</td>\n      <td>...</td>\n      <td>...</td>\n      <td>...</td>\n      <td>...</td>\n      <td>...</td>\n      <td>...</td>\n      <td>...</td>\n      <td>...</td>\n      <td>...</td>\n    </tr>\n    <tr>\n      <th>6419</th>\n      <td>False</td>\n      <td>Esaja</td>\n      <td>Zweifel</td>\n      <td>m</td>\n      <td>Glarus</td>\n      <td>GL</td>\n      <td>Ständerat</td>\n      <td>Mitte</td>\n      <td>MC</td>\n      <td>Liberale</td>\n      <td>...</td>\n      <td>1884-06-04</td>\n      <td>1893-05-01</td>\n      <td>Linthal (GL)</td>\n      <td>1827-03-27</td>\n      <td>1904-02-27</td>\n      <td>57</td>\n      <td>66.0</td>\n      <td>77</td>\n      <td>9</td>\n      <td>3253 days</td>\n    </tr>\n    <tr>\n      <th>6420</th>\n      <td>False</td>\n      <td>Esaja</td>\n      <td>Zweifel</td>\n      <td>m</td>\n      <td>Glarus</td>\n      <td>GL</td>\n      <td>Ständerat</td>\n      <td>Mitte</td>\n      <td>MC</td>\n      <td>Liberale</td>\n      <td>...</td>\n      <td>1884-06-04</td>\n      <td>1893-05-01</td>\n      <td>Linthal (GL)</td>\n      <td>1827-03-27</td>\n      <td>1904-02-27</td>\n      <td>57</td>\n      <td>66.0</td>\n      <td>77</td>\n      <td>9</td>\n      <td>3253 days</td>\n    </tr>\n    <tr>\n      <th>6424</th>\n      <td>False</td>\n      <td>Otto</td>\n      <td>Zwygart</td>\n      <td>m</td>\n      <td>Bern</td>\n      <td>BE</td>\n      <td>Nationalrat</td>\n      <td>LdU/EVP-Fraktion</td>\n      <td>U</td>\n      <td>Evangelische Volkspartei der Schweiz</td>\n      <td>...</td>\n      <td>1995-12-04</td>\n      <td>2000-09-18</td>\n      <td>Bolligen (BE),Meikirch (BE)</td>\n      <td>1940-01-16</td>\n      <td>NaT</td>\n      <td>55</td>\n      <td>60.0</td>\n      <td>83</td>\n      <td>5</td>\n      <td>1750 days</td>\n    </tr>\n    <tr>\n      <th>6428</th>\n      <td>False</td>\n      <td>Carl Sam.</td>\n      <td>Zyro</td>\n      <td>m</td>\n      <td>Bern</td>\n      <td>BE</td>\n      <td>Nationalrat</td>\n      <td>Linke</td>\n      <td>LG</td>\n      <td>Freisinnig-Demokratische Partei der Schweiz</td>\n      <td>...</td>\n      <td>1866-12-03</td>\n      <td>1893-12-03</td>\n      <td>Thun (BE)</td>\n      <td>1834-07-17</td>\n      <td>1896-08-26</td>\n      <td>32</td>\n      <td>59.0</td>\n      <td>62</td>\n      <td>27</td>\n      <td>9862 days</td>\n    </tr>\n    <tr>\n      <th>6429</th>\n      <td>False</td>\n      <td>Carl Sam.</td>\n      <td>Zyro</td>\n      <td>m</td>\n      <td>Bern</td>\n      <td>BE</td>\n      <td>Nationalrat</td>\n      <td>Linke</td>\n      <td>LG</td>\n      <td>Freisinnig-Demokratische Partei der Schweiz</td>\n      <td>...</td>\n      <td>1866-12-03</td>\n      <td>1893-12-03</td>\n      <td>Thun (BE)</td>\n      <td>1834-07-17</td>\n      <td>1896-08-26</td>\n      <td>32</td>\n      <td>59.0</td>\n      <td>62</td>\n      <td>27</td>\n      <td>9862 days</td>\n    </tr>\n  </tbody>\n</table>\n<p>732 rows × 25 columns</p>\n</div>"
     },
     "execution_count": 112,
     "metadata": {},
     "output_type": "execute_result"
    }
   ],
   "source": [
    "# doppelte Einträge\n",
    "df_mod[df_mod.duplicated()]"
   ],
   "metadata": {
    "collapsed": false,
    "ExecuteTime": {
     "end_time": "2023-10-01T18:44:16.452870500Z",
     "start_time": "2023-10-01T18:44:15.939878500Z"
    }
   },
   "id": "32391caa291e0cc5"
  },
  {
   "cell_type": "code",
   "execution_count": 113,
   "outputs": [
    {
     "data": {
      "text/plain": "   Active FirstName  LastName GenderAsString  CantonName CantonAbbreviation  \\\n0   False  Giuseppe   a Marca              m  Graubünden                 GR   \n1   False     Alois  Ab Yberg              m      Schwyz                 SZ   \n2   False     Fabio     Abate              m      Tessin                 TI   \n3   False     Fabio     Abate              m      Tessin                 TI   \n4   False     Fabio     Abate              m      Tessin                 TI   \n\n   CouncilName                      ParlGroupName ParlGroupAbbreviation  \\\n0    Ständerat                              Mitte                    MC   \n1  Nationalrat     Radikal-demokratische Fraktion                     R   \n2  Nationalrat  Freisinnig-demokratische Fraktion                    RL   \n3  Nationalrat  Freisinnig-demokratische Fraktion                     R   \n4    Ständerat              FDP-Liberale Fraktion                    RL   \n\n                                     PartyName  ... DateJoining DateLeaving  \\\n0                                 Konservative  ...  1849-12-01  1851-07-01   \n1  Freisinnig-Demokratische Partei der Schweiz  ...  1928-12-03  1935-12-01   \n2  Freisinnig-Demokratische Partei der Schweiz  ...  2007-12-03  2011-12-04   \n3  Freisinnig-Demokratische Partei der Schweiz  ...  2000-09-25  2003-11-30   \n4                            FDP.Die Liberalen  ...  2011-12-05  2015-11-29   \n\n   Citizenship DateOfBirth DateOfDeath AgeJoining AgeLeaving Age  \\\n0  Soazza (GR)  1799-07-29  1866-07-16         50       52.0  67   \n1  Schwyz (SZ)  1878-10-06  1959-10-17         50       57.0  81   \n2  Cabbio (TI)  1966-01-04         NaT         41       45.0  57   \n3  Cabbio (TI)  1966-01-04         NaT         34       37.0  57   \n4  Cabbio (TI)  1966-01-04         NaT         45       49.0  57   \n\n  YearsInOffice DaysInOffice  \n0             2     577 days  \n1             7    2554 days  \n2             4    1462 days  \n3             3    1161 days  \n4             4    1455 days  \n\n[5 rows x 25 columns]",
      "text/html": "<div>\n<style scoped>\n    .dataframe tbody tr th:only-of-type {\n        vertical-align: middle;\n    }\n\n    .dataframe tbody tr th {\n        vertical-align: top;\n    }\n\n    .dataframe thead th {\n        text-align: right;\n    }\n</style>\n<table border=\"1\" class=\"dataframe\">\n  <thead>\n    <tr style=\"text-align: right;\">\n      <th></th>\n      <th>Active</th>\n      <th>FirstName</th>\n      <th>LastName</th>\n      <th>GenderAsString</th>\n      <th>CantonName</th>\n      <th>CantonAbbreviation</th>\n      <th>CouncilName</th>\n      <th>ParlGroupName</th>\n      <th>ParlGroupAbbreviation</th>\n      <th>PartyName</th>\n      <th>...</th>\n      <th>DateJoining</th>\n      <th>DateLeaving</th>\n      <th>Citizenship</th>\n      <th>DateOfBirth</th>\n      <th>DateOfDeath</th>\n      <th>AgeJoining</th>\n      <th>AgeLeaving</th>\n      <th>Age</th>\n      <th>YearsInOffice</th>\n      <th>DaysInOffice</th>\n    </tr>\n  </thead>\n  <tbody>\n    <tr>\n      <th>0</th>\n      <td>False</td>\n      <td>Giuseppe</td>\n      <td>a Marca</td>\n      <td>m</td>\n      <td>Graubünden</td>\n      <td>GR</td>\n      <td>Ständerat</td>\n      <td>Mitte</td>\n      <td>MC</td>\n      <td>Konservative</td>\n      <td>...</td>\n      <td>1849-12-01</td>\n      <td>1851-07-01</td>\n      <td>Soazza (GR)</td>\n      <td>1799-07-29</td>\n      <td>1866-07-16</td>\n      <td>50</td>\n      <td>52.0</td>\n      <td>67</td>\n      <td>2</td>\n      <td>577 days</td>\n    </tr>\n    <tr>\n      <th>1</th>\n      <td>False</td>\n      <td>Alois</td>\n      <td>Ab Yberg</td>\n      <td>m</td>\n      <td>Schwyz</td>\n      <td>SZ</td>\n      <td>Nationalrat</td>\n      <td>Radikal-demokratische Fraktion</td>\n      <td>R</td>\n      <td>Freisinnig-Demokratische Partei der Schweiz</td>\n      <td>...</td>\n      <td>1928-12-03</td>\n      <td>1935-12-01</td>\n      <td>Schwyz (SZ)</td>\n      <td>1878-10-06</td>\n      <td>1959-10-17</td>\n      <td>50</td>\n      <td>57.0</td>\n      <td>81</td>\n      <td>7</td>\n      <td>2554 days</td>\n    </tr>\n    <tr>\n      <th>2</th>\n      <td>False</td>\n      <td>Fabio</td>\n      <td>Abate</td>\n      <td>m</td>\n      <td>Tessin</td>\n      <td>TI</td>\n      <td>Nationalrat</td>\n      <td>Freisinnig-demokratische Fraktion</td>\n      <td>RL</td>\n      <td>Freisinnig-Demokratische Partei der Schweiz</td>\n      <td>...</td>\n      <td>2007-12-03</td>\n      <td>2011-12-04</td>\n      <td>Cabbio (TI)</td>\n      <td>1966-01-04</td>\n      <td>NaT</td>\n      <td>41</td>\n      <td>45.0</td>\n      <td>57</td>\n      <td>4</td>\n      <td>1462 days</td>\n    </tr>\n    <tr>\n      <th>3</th>\n      <td>False</td>\n      <td>Fabio</td>\n      <td>Abate</td>\n      <td>m</td>\n      <td>Tessin</td>\n      <td>TI</td>\n      <td>Nationalrat</td>\n      <td>Freisinnig-demokratische Fraktion</td>\n      <td>R</td>\n      <td>Freisinnig-Demokratische Partei der Schweiz</td>\n      <td>...</td>\n      <td>2000-09-25</td>\n      <td>2003-11-30</td>\n      <td>Cabbio (TI)</td>\n      <td>1966-01-04</td>\n      <td>NaT</td>\n      <td>34</td>\n      <td>37.0</td>\n      <td>57</td>\n      <td>3</td>\n      <td>1161 days</td>\n    </tr>\n    <tr>\n      <th>4</th>\n      <td>False</td>\n      <td>Fabio</td>\n      <td>Abate</td>\n      <td>m</td>\n      <td>Tessin</td>\n      <td>TI</td>\n      <td>Ständerat</td>\n      <td>FDP-Liberale Fraktion</td>\n      <td>RL</td>\n      <td>FDP.Die Liberalen</td>\n      <td>...</td>\n      <td>2011-12-05</td>\n      <td>2015-11-29</td>\n      <td>Cabbio (TI)</td>\n      <td>1966-01-04</td>\n      <td>NaT</td>\n      <td>45</td>\n      <td>49.0</td>\n      <td>57</td>\n      <td>4</td>\n      <td>1455 days</td>\n    </tr>\n  </tbody>\n</table>\n<p>5 rows × 25 columns</p>\n</div>"
     },
     "execution_count": 113,
     "metadata": {},
     "output_type": "execute_result"
    }
   ],
   "source": [
    "# doppelte Einträge entfernen\n",
    "df_mod = df_mod.drop_duplicates()\n",
    "df_mod.head()"
   ],
   "metadata": {
    "collapsed": false,
    "ExecuteTime": {
     "end_time": "2023-10-01T18:44:16.452870500Z",
     "start_time": "2023-10-01T18:44:16.052336600Z"
    }
   },
   "id": "4de8cdf88a411aef"
  },
  {
   "cell_type": "markdown",
   "source": [
    "Nach dem Entfernen der doppelten Einträge sind gewisse Namen immer noch mehrfach vorhanden. Bei der genaueren Untersuchung stellt man fest, dass diese Personen mehrere Ämter inne hatten oder verschiedenen Parteien angehörten. Um die Personen eindeutig zu identifizieren, wird eine neue Spalte mit den Personalien erstellt. Für die eindeutige Identifikation wird der Vorname, der Nachname, das Geburtsdatum und der Geburtsort verwendet."
   ],
   "metadata": {
    "collapsed": false
   },
   "id": "df79f16063d9b716"
  },
  {
   "cell_type": "code",
   "execution_count": 114,
   "outputs": [
    {
     "name": "stderr",
     "output_type": "stream",
     "text": [
      "C:\\Users\\lbz\\AppData\\Local\\Temp\\ipykernel_35408\\2290433615.py:2: SettingWithCopyWarning: \n",
      "A value is trying to be set on a copy of a slice from a DataFrame.\n",
      "Try using .loc[row_indexer,col_indexer] = value instead\n",
      "\n",
      "See the caveats in the documentation: https://pandas.pydata.org/pandas-docs/stable/user_guide/indexing.html#returning-a-view-versus-a-copy\n",
      "  df_mod['Personalien'] = df_mod['FirstName'] + ' ' + df_mod['LastName'] + ' ' + df_mod['DateOfBirth'].dt.strftime('%d.%m.%Y') + ' ' + df_mod['BirthPlace_City']\n"
     ]
    },
    {
     "data": {
      "text/plain": "   Active FirstName  LastName GenderAsString  CantonName CantonAbbreviation  \\\n0   False  Giuseppe   a Marca              m  Graubünden                 GR   \n1   False     Alois  Ab Yberg              m      Schwyz                 SZ   \n2   False     Fabio     Abate              m      Tessin                 TI   \n3   False     Fabio     Abate              m      Tessin                 TI   \n4   False     Fabio     Abate              m      Tessin                 TI   \n\n   CouncilName                      ParlGroupName ParlGroupAbbreviation  \\\n0    Ständerat                              Mitte                    MC   \n1  Nationalrat     Radikal-demokratische Fraktion                     R   \n2  Nationalrat  Freisinnig-demokratische Fraktion                    RL   \n3  Nationalrat  Freisinnig-demokratische Fraktion                     R   \n4    Ständerat              FDP-Liberale Fraktion                    RL   \n\n                                     PartyName  ... DateLeaving  Citizenship  \\\n0                                 Konservative  ...  1851-07-01  Soazza (GR)   \n1  Freisinnig-Demokratische Partei der Schweiz  ...  1935-12-01  Schwyz (SZ)   \n2  Freisinnig-Demokratische Partei der Schweiz  ...  2011-12-04  Cabbio (TI)   \n3  Freisinnig-Demokratische Partei der Schweiz  ...  2003-11-30  Cabbio (TI)   \n4                            FDP.Die Liberalen  ...  2015-11-29  Cabbio (TI)   \n\n  DateOfBirth DateOfDeath AgeJoining AgeLeaving Age YearsInOffice  \\\n0  1799-07-29  1866-07-16         50       52.0  67             2   \n1  1878-10-06  1959-10-17         50       57.0  81             7   \n2  1966-01-04         NaT         41       45.0  57             4   \n3  1966-01-04         NaT         34       37.0  57             3   \n4  1966-01-04         NaT         45       49.0  57             4   \n\n  DaysInOffice                     Personalien  \n0     577 days                             NaN  \n1    2554 days                             NaN  \n2    1462 days  Fabio Abate 04.01.1966 Locarno  \n3    1161 days  Fabio Abate 04.01.1966 Locarno  \n4    1455 days  Fabio Abate 04.01.1966 Locarno  \n\n[5 rows x 26 columns]",
      "text/html": "<div>\n<style scoped>\n    .dataframe tbody tr th:only-of-type {\n        vertical-align: middle;\n    }\n\n    .dataframe tbody tr th {\n        vertical-align: top;\n    }\n\n    .dataframe thead th {\n        text-align: right;\n    }\n</style>\n<table border=\"1\" class=\"dataframe\">\n  <thead>\n    <tr style=\"text-align: right;\">\n      <th></th>\n      <th>Active</th>\n      <th>FirstName</th>\n      <th>LastName</th>\n      <th>GenderAsString</th>\n      <th>CantonName</th>\n      <th>CantonAbbreviation</th>\n      <th>CouncilName</th>\n      <th>ParlGroupName</th>\n      <th>ParlGroupAbbreviation</th>\n      <th>PartyName</th>\n      <th>...</th>\n      <th>DateLeaving</th>\n      <th>Citizenship</th>\n      <th>DateOfBirth</th>\n      <th>DateOfDeath</th>\n      <th>AgeJoining</th>\n      <th>AgeLeaving</th>\n      <th>Age</th>\n      <th>YearsInOffice</th>\n      <th>DaysInOffice</th>\n      <th>Personalien</th>\n    </tr>\n  </thead>\n  <tbody>\n    <tr>\n      <th>0</th>\n      <td>False</td>\n      <td>Giuseppe</td>\n      <td>a Marca</td>\n      <td>m</td>\n      <td>Graubünden</td>\n      <td>GR</td>\n      <td>Ständerat</td>\n      <td>Mitte</td>\n      <td>MC</td>\n      <td>Konservative</td>\n      <td>...</td>\n      <td>1851-07-01</td>\n      <td>Soazza (GR)</td>\n      <td>1799-07-29</td>\n      <td>1866-07-16</td>\n      <td>50</td>\n      <td>52.0</td>\n      <td>67</td>\n      <td>2</td>\n      <td>577 days</td>\n      <td>NaN</td>\n    </tr>\n    <tr>\n      <th>1</th>\n      <td>False</td>\n      <td>Alois</td>\n      <td>Ab Yberg</td>\n      <td>m</td>\n      <td>Schwyz</td>\n      <td>SZ</td>\n      <td>Nationalrat</td>\n      <td>Radikal-demokratische Fraktion</td>\n      <td>R</td>\n      <td>Freisinnig-Demokratische Partei der Schweiz</td>\n      <td>...</td>\n      <td>1935-12-01</td>\n      <td>Schwyz (SZ)</td>\n      <td>1878-10-06</td>\n      <td>1959-10-17</td>\n      <td>50</td>\n      <td>57.0</td>\n      <td>81</td>\n      <td>7</td>\n      <td>2554 days</td>\n      <td>NaN</td>\n    </tr>\n    <tr>\n      <th>2</th>\n      <td>False</td>\n      <td>Fabio</td>\n      <td>Abate</td>\n      <td>m</td>\n      <td>Tessin</td>\n      <td>TI</td>\n      <td>Nationalrat</td>\n      <td>Freisinnig-demokratische Fraktion</td>\n      <td>RL</td>\n      <td>Freisinnig-Demokratische Partei der Schweiz</td>\n      <td>...</td>\n      <td>2011-12-04</td>\n      <td>Cabbio (TI)</td>\n      <td>1966-01-04</td>\n      <td>NaT</td>\n      <td>41</td>\n      <td>45.0</td>\n      <td>57</td>\n      <td>4</td>\n      <td>1462 days</td>\n      <td>Fabio Abate 04.01.1966 Locarno</td>\n    </tr>\n    <tr>\n      <th>3</th>\n      <td>False</td>\n      <td>Fabio</td>\n      <td>Abate</td>\n      <td>m</td>\n      <td>Tessin</td>\n      <td>TI</td>\n      <td>Nationalrat</td>\n      <td>Freisinnig-demokratische Fraktion</td>\n      <td>R</td>\n      <td>Freisinnig-Demokratische Partei der Schweiz</td>\n      <td>...</td>\n      <td>2003-11-30</td>\n      <td>Cabbio (TI)</td>\n      <td>1966-01-04</td>\n      <td>NaT</td>\n      <td>34</td>\n      <td>37.0</td>\n      <td>57</td>\n      <td>3</td>\n      <td>1161 days</td>\n      <td>Fabio Abate 04.01.1966 Locarno</td>\n    </tr>\n    <tr>\n      <th>4</th>\n      <td>False</td>\n      <td>Fabio</td>\n      <td>Abate</td>\n      <td>m</td>\n      <td>Tessin</td>\n      <td>TI</td>\n      <td>Ständerat</td>\n      <td>FDP-Liberale Fraktion</td>\n      <td>RL</td>\n      <td>FDP.Die Liberalen</td>\n      <td>...</td>\n      <td>2015-11-29</td>\n      <td>Cabbio (TI)</td>\n      <td>1966-01-04</td>\n      <td>NaT</td>\n      <td>45</td>\n      <td>49.0</td>\n      <td>57</td>\n      <td>4</td>\n      <td>1455 days</td>\n      <td>Fabio Abate 04.01.1966 Locarno</td>\n    </tr>\n  </tbody>\n</table>\n<p>5 rows × 26 columns</p>\n</div>"
     },
     "execution_count": 114,
     "metadata": {},
     "output_type": "execute_result"
    }
   ],
   "source": [
    "# neue Spalte mit Personalien erstellen\n",
    "df_mod['Personalien'] = df_mod['FirstName'] + ' ' + df_mod['LastName'] + ' ' + df_mod['DateOfBirth'].dt.strftime('%d.%m.%Y') + ' ' + df_mod['BirthPlace_City']\n",
    "df_mod.head()"
   ],
   "metadata": {
    "collapsed": false,
    "ExecuteTime": {
     "end_time": "2023-10-01T18:44:16.452870500Z",
     "start_time": "2023-10-01T18:44:16.052336600Z"
    }
   },
   "id": "f6664beeb6225683"
  },
  {
   "cell_type": "code",
   "execution_count": 115,
   "outputs": [
    {
     "name": "stderr",
     "output_type": "stream",
     "text": [
      "C:\\Users\\lbz\\AppData\\Local\\Temp\\ipykernel_35408\\3631610636.py:1: SettingWithCopyWarning: \n",
      "A value is trying to be set on a copy of a slice from a DataFrame.\n",
      "Try using .loc[row_indexer,col_indexer] = value instead\n",
      "\n",
      "See the caveats in the documentation: https://pandas.pydata.org/pandas-docs/stable/user_guide/indexing.html#returning-a-view-versus-a-copy\n",
      "  df_mod['Personalien'] = df_mod['Personalien'].fillna(df_mod['FirstName'] + ' ' + df_mod['LastName'] + ' ' + df_mod['DateOfBirth'].dt.strftime('%d.%m.%Y'))\n"
     ]
    },
    {
     "data": {
      "text/plain": "   Active FirstName  LastName GenderAsString  CantonName CantonAbbreviation  \\\n0   False  Giuseppe   a Marca              m  Graubünden                 GR   \n1   False     Alois  Ab Yberg              m      Schwyz                 SZ   \n2   False     Fabio     Abate              m      Tessin                 TI   \n3   False     Fabio     Abate              m      Tessin                 TI   \n4   False     Fabio     Abate              m      Tessin                 TI   \n\n   CouncilName                      ParlGroupName ParlGroupAbbreviation  \\\n0    Ständerat                              Mitte                    MC   \n1  Nationalrat     Radikal-demokratische Fraktion                     R   \n2  Nationalrat  Freisinnig-demokratische Fraktion                    RL   \n3  Nationalrat  Freisinnig-demokratische Fraktion                     R   \n4    Ständerat              FDP-Liberale Fraktion                    RL   \n\n                                     PartyName  ... DateLeaving  Citizenship  \\\n0                                 Konservative  ...  1851-07-01  Soazza (GR)   \n1  Freisinnig-Demokratische Partei der Schweiz  ...  1935-12-01  Schwyz (SZ)   \n2  Freisinnig-Demokratische Partei der Schweiz  ...  2011-12-04  Cabbio (TI)   \n3  Freisinnig-Demokratische Partei der Schweiz  ...  2003-11-30  Cabbio (TI)   \n4                            FDP.Die Liberalen  ...  2015-11-29  Cabbio (TI)   \n\n  DateOfBirth DateOfDeath AgeJoining AgeLeaving Age YearsInOffice  \\\n0  1799-07-29  1866-07-16         50       52.0  67             2   \n1  1878-10-06  1959-10-17         50       57.0  81             7   \n2  1966-01-04         NaT         41       45.0  57             4   \n3  1966-01-04         NaT         34       37.0  57             3   \n4  1966-01-04         NaT         45       49.0  57             4   \n\n  DaysInOffice                     Personalien  \n0     577 days     Giuseppe a Marca 29.07.1799  \n1    2554 days       Alois Ab Yberg 06.10.1878  \n2    1462 days  Fabio Abate 04.01.1966 Locarno  \n3    1161 days  Fabio Abate 04.01.1966 Locarno  \n4    1455 days  Fabio Abate 04.01.1966 Locarno  \n\n[5 rows x 26 columns]",
      "text/html": "<div>\n<style scoped>\n    .dataframe tbody tr th:only-of-type {\n        vertical-align: middle;\n    }\n\n    .dataframe tbody tr th {\n        vertical-align: top;\n    }\n\n    .dataframe thead th {\n        text-align: right;\n    }\n</style>\n<table border=\"1\" class=\"dataframe\">\n  <thead>\n    <tr style=\"text-align: right;\">\n      <th></th>\n      <th>Active</th>\n      <th>FirstName</th>\n      <th>LastName</th>\n      <th>GenderAsString</th>\n      <th>CantonName</th>\n      <th>CantonAbbreviation</th>\n      <th>CouncilName</th>\n      <th>ParlGroupName</th>\n      <th>ParlGroupAbbreviation</th>\n      <th>PartyName</th>\n      <th>...</th>\n      <th>DateLeaving</th>\n      <th>Citizenship</th>\n      <th>DateOfBirth</th>\n      <th>DateOfDeath</th>\n      <th>AgeJoining</th>\n      <th>AgeLeaving</th>\n      <th>Age</th>\n      <th>YearsInOffice</th>\n      <th>DaysInOffice</th>\n      <th>Personalien</th>\n    </tr>\n  </thead>\n  <tbody>\n    <tr>\n      <th>0</th>\n      <td>False</td>\n      <td>Giuseppe</td>\n      <td>a Marca</td>\n      <td>m</td>\n      <td>Graubünden</td>\n      <td>GR</td>\n      <td>Ständerat</td>\n      <td>Mitte</td>\n      <td>MC</td>\n      <td>Konservative</td>\n      <td>...</td>\n      <td>1851-07-01</td>\n      <td>Soazza (GR)</td>\n      <td>1799-07-29</td>\n      <td>1866-07-16</td>\n      <td>50</td>\n      <td>52.0</td>\n      <td>67</td>\n      <td>2</td>\n      <td>577 days</td>\n      <td>Giuseppe a Marca 29.07.1799</td>\n    </tr>\n    <tr>\n      <th>1</th>\n      <td>False</td>\n      <td>Alois</td>\n      <td>Ab Yberg</td>\n      <td>m</td>\n      <td>Schwyz</td>\n      <td>SZ</td>\n      <td>Nationalrat</td>\n      <td>Radikal-demokratische Fraktion</td>\n      <td>R</td>\n      <td>Freisinnig-Demokratische Partei der Schweiz</td>\n      <td>...</td>\n      <td>1935-12-01</td>\n      <td>Schwyz (SZ)</td>\n      <td>1878-10-06</td>\n      <td>1959-10-17</td>\n      <td>50</td>\n      <td>57.0</td>\n      <td>81</td>\n      <td>7</td>\n      <td>2554 days</td>\n      <td>Alois Ab Yberg 06.10.1878</td>\n    </tr>\n    <tr>\n      <th>2</th>\n      <td>False</td>\n      <td>Fabio</td>\n      <td>Abate</td>\n      <td>m</td>\n      <td>Tessin</td>\n      <td>TI</td>\n      <td>Nationalrat</td>\n      <td>Freisinnig-demokratische Fraktion</td>\n      <td>RL</td>\n      <td>Freisinnig-Demokratische Partei der Schweiz</td>\n      <td>...</td>\n      <td>2011-12-04</td>\n      <td>Cabbio (TI)</td>\n      <td>1966-01-04</td>\n      <td>NaT</td>\n      <td>41</td>\n      <td>45.0</td>\n      <td>57</td>\n      <td>4</td>\n      <td>1462 days</td>\n      <td>Fabio Abate 04.01.1966 Locarno</td>\n    </tr>\n    <tr>\n      <th>3</th>\n      <td>False</td>\n      <td>Fabio</td>\n      <td>Abate</td>\n      <td>m</td>\n      <td>Tessin</td>\n      <td>TI</td>\n      <td>Nationalrat</td>\n      <td>Freisinnig-demokratische Fraktion</td>\n      <td>R</td>\n      <td>Freisinnig-Demokratische Partei der Schweiz</td>\n      <td>...</td>\n      <td>2003-11-30</td>\n      <td>Cabbio (TI)</td>\n      <td>1966-01-04</td>\n      <td>NaT</td>\n      <td>34</td>\n      <td>37.0</td>\n      <td>57</td>\n      <td>3</td>\n      <td>1161 days</td>\n      <td>Fabio Abate 04.01.1966 Locarno</td>\n    </tr>\n    <tr>\n      <th>4</th>\n      <td>False</td>\n      <td>Fabio</td>\n      <td>Abate</td>\n      <td>m</td>\n      <td>Tessin</td>\n      <td>TI</td>\n      <td>Ständerat</td>\n      <td>FDP-Liberale Fraktion</td>\n      <td>RL</td>\n      <td>FDP.Die Liberalen</td>\n      <td>...</td>\n      <td>2015-11-29</td>\n      <td>Cabbio (TI)</td>\n      <td>1966-01-04</td>\n      <td>NaT</td>\n      <td>45</td>\n      <td>49.0</td>\n      <td>57</td>\n      <td>4</td>\n      <td>1455 days</td>\n      <td>Fabio Abate 04.01.1966 Locarno</td>\n    </tr>\n  </tbody>\n</table>\n<p>5 rows × 26 columns</p>\n</div>"
     },
     "execution_count": 115,
     "metadata": {},
     "output_type": "execute_result"
    }
   ],
   "source": [
    "df_mod['Personalien'] = df_mod['Personalien'].fillna(df_mod['FirstName'] + ' ' + df_mod['LastName'] + ' ' + df_mod['DateOfBirth'].dt.strftime('%d.%m.%Y'))\n",
    "df_mod.head()"
   ],
   "metadata": {
    "collapsed": false,
    "ExecuteTime": {
     "end_time": "2023-10-01T18:44:16.452870500Z",
     "start_time": "2023-10-01T18:44:16.095818200Z"
    }
   },
   "id": "5743a627454f7244"
  },
  {
   "cell_type": "code",
   "execution_count": 116,
   "outputs": [
    {
     "data": {
      "text/plain": "array([nan, 'verheiratet', 'in eingetragener Partnerschaft', 'ledig',\n       'geschieden'], dtype=object)"
     },
     "execution_count": 116,
     "metadata": {},
     "output_type": "execute_result"
    }
   ],
   "source": [
    "df_mod['MaritalStatusText'].unique()"
   ],
   "metadata": {
    "collapsed": false,
    "ExecuteTime": {
     "end_time": "2023-10-01T18:44:16.452870500Z",
     "start_time": "2023-10-01T18:44:16.188475300Z"
    }
   },
   "id": "a9696aac62957702"
  },
  {
   "cell_type": "code",
   "execution_count": 117,
   "outputs": [],
   "source": [
    "df_mod.loc[df_mod['MaritalStatusText'] == 'in eingetragener Partnerschaft', 'MaritalStatusText'] = 'in_eingetragener_Partnerschaft'"
   ],
   "metadata": {
    "collapsed": false,
    "ExecuteTime": {
     "end_time": "2023-10-01T18:44:16.452870500Z",
     "start_time": "2023-10-01T18:44:16.204403500Z"
    }
   },
   "id": "a3e30cf3e4a66312"
  },
  {
   "cell_type": "markdown",
   "source": [
    "Die Daten wurden bereinigt. Nun können die kategorialen Variablen konvertiert werden.\n",
    "Umgewandelt werden:\n",
    "- GenderAsString\n",
    "- CantonName\n",
    "- CantonAbbreviation\n",
    "- CouncilName\n",
    "- ParlGroupName\n",
    "- ParlGroupAbbreviation\n",
    "- PartyName\n",
    "- PartyAbbreviation\n",
    "- MartialStatusText\n",
    "- BirthPlace_Canton"
   ],
   "metadata": {
    "collapsed": false
   },
   "id": "adcf154374752b42"
  },
  {
   "cell_type": "code",
   "execution_count": 118,
   "outputs": [
    {
     "name": "stderr",
     "output_type": "stream",
     "text": [
      "C:\\Users\\lbz\\AppData\\Local\\Temp\\ipykernel_35408\\738726514.py:4: SettingWithCopyWarning: \n",
      "A value is trying to be set on a copy of a slice from a DataFrame.\n",
      "Try using .loc[row_indexer,col_indexer] = value instead\n",
      "\n",
      "See the caveats in the documentation: https://pandas.pydata.org/pandas-docs/stable/user_guide/indexing.html#returning-a-view-versus-a-copy\n",
      "  df_mod[col] = df_mod[col].astype('category')\n",
      "C:\\Users\\lbz\\AppData\\Local\\Temp\\ipykernel_35408\\738726514.py:4: SettingWithCopyWarning: \n",
      "A value is trying to be set on a copy of a slice from a DataFrame.\n",
      "Try using .loc[row_indexer,col_indexer] = value instead\n",
      "\n",
      "See the caveats in the documentation: https://pandas.pydata.org/pandas-docs/stable/user_guide/indexing.html#returning-a-view-versus-a-copy\n",
      "  df_mod[col] = df_mod[col].astype('category')\n",
      "C:\\Users\\lbz\\AppData\\Local\\Temp\\ipykernel_35408\\738726514.py:4: SettingWithCopyWarning: \n",
      "A value is trying to be set on a copy of a slice from a DataFrame.\n",
      "Try using .loc[row_indexer,col_indexer] = value instead\n",
      "\n",
      "See the caveats in the documentation: https://pandas.pydata.org/pandas-docs/stable/user_guide/indexing.html#returning-a-view-versus-a-copy\n",
      "  df_mod[col] = df_mod[col].astype('category')\n",
      "C:\\Users\\lbz\\AppData\\Local\\Temp\\ipykernel_35408\\738726514.py:4: SettingWithCopyWarning: \n",
      "A value is trying to be set on a copy of a slice from a DataFrame.\n",
      "Try using .loc[row_indexer,col_indexer] = value instead\n",
      "\n",
      "See the caveats in the documentation: https://pandas.pydata.org/pandas-docs/stable/user_guide/indexing.html#returning-a-view-versus-a-copy\n",
      "  df_mod[col] = df_mod[col].astype('category')\n",
      "C:\\Users\\lbz\\AppData\\Local\\Temp\\ipykernel_35408\\738726514.py:4: SettingWithCopyWarning: \n",
      "A value is trying to be set on a copy of a slice from a DataFrame.\n",
      "Try using .loc[row_indexer,col_indexer] = value instead\n",
      "\n",
      "See the caveats in the documentation: https://pandas.pydata.org/pandas-docs/stable/user_guide/indexing.html#returning-a-view-versus-a-copy\n",
      "  df_mod[col] = df_mod[col].astype('category')\n",
      "C:\\Users\\lbz\\AppData\\Local\\Temp\\ipykernel_35408\\738726514.py:4: SettingWithCopyWarning: \n",
      "A value is trying to be set on a copy of a slice from a DataFrame.\n",
      "Try using .loc[row_indexer,col_indexer] = value instead\n",
      "\n",
      "See the caveats in the documentation: https://pandas.pydata.org/pandas-docs/stable/user_guide/indexing.html#returning-a-view-versus-a-copy\n",
      "  df_mod[col] = df_mod[col].astype('category')\n",
      "C:\\Users\\lbz\\AppData\\Local\\Temp\\ipykernel_35408\\738726514.py:4: SettingWithCopyWarning: \n",
      "A value is trying to be set on a copy of a slice from a DataFrame.\n",
      "Try using .loc[row_indexer,col_indexer] = value instead\n",
      "\n",
      "See the caveats in the documentation: https://pandas.pydata.org/pandas-docs/stable/user_guide/indexing.html#returning-a-view-versus-a-copy\n",
      "  df_mod[col] = df_mod[col].astype('category')\n",
      "C:\\Users\\lbz\\AppData\\Local\\Temp\\ipykernel_35408\\738726514.py:4: SettingWithCopyWarning: \n",
      "A value is trying to be set on a copy of a slice from a DataFrame.\n",
      "Try using .loc[row_indexer,col_indexer] = value instead\n",
      "\n",
      "See the caveats in the documentation: https://pandas.pydata.org/pandas-docs/stable/user_guide/indexing.html#returning-a-view-versus-a-copy\n",
      "  df_mod[col] = df_mod[col].astype('category')\n",
      "C:\\Users\\lbz\\AppData\\Local\\Temp\\ipykernel_35408\\738726514.py:4: SettingWithCopyWarning: \n",
      "A value is trying to be set on a copy of a slice from a DataFrame.\n",
      "Try using .loc[row_indexer,col_indexer] = value instead\n",
      "\n",
      "See the caveats in the documentation: https://pandas.pydata.org/pandas-docs/stable/user_guide/indexing.html#returning-a-view-versus-a-copy\n",
      "  df_mod[col] = df_mod[col].astype('category')\n",
      "C:\\Users\\lbz\\AppData\\Local\\Temp\\ipykernel_35408\\738726514.py:4: SettingWithCopyWarning: \n",
      "A value is trying to be set on a copy of a slice from a DataFrame.\n",
      "Try using .loc[row_indexer,col_indexer] = value instead\n",
      "\n",
      "See the caveats in the documentation: https://pandas.pydata.org/pandas-docs/stable/user_guide/indexing.html#returning-a-view-versus-a-copy\n",
      "  df_mod[col] = df_mod[col].astype('category')\n"
     ]
    },
    {
     "name": "stdout",
     "output_type": "stream",
     "text": [
      "<class 'pandas.core.frame.DataFrame'>\n",
      "Index: 5696 entries, 0 to 6427\n",
      "Data columns (total 26 columns):\n",
      " #   Column                 Non-Null Count  Dtype          \n",
      "---  ------                 --------------  -----          \n",
      " 0   Active                 5696 non-null   bool           \n",
      " 1   FirstName              5696 non-null   object         \n",
      " 2   LastName               5696 non-null   object         \n",
      " 3   GenderAsString         5696 non-null   category       \n",
      " 4   CantonName             5696 non-null   category       \n",
      " 5   CantonAbbreviation     5696 non-null   category       \n",
      " 6   CouncilName            5696 non-null   category       \n",
      " 7   ParlGroupName          4417 non-null   category       \n",
      " 8   ParlGroupAbbreviation  4417 non-null   category       \n",
      " 9   PartyName              5642 non-null   category       \n",
      " 10  PartyAbbreviation      5642 non-null   category       \n",
      " 11  MaritalStatusText      238 non-null    category       \n",
      " 12  BirthPlace_City        2023 non-null   object         \n",
      " 13  BirthPlace_Canton      1953 non-null   category       \n",
      " 14  Mandates               1751 non-null   object         \n",
      " 15  DateJoining            5696 non-null   datetime64[ns] \n",
      " 16  DateLeaving            5442 non-null   datetime64[ns] \n",
      " 17  Citizenship            5691 non-null   object         \n",
      " 18  DateOfBirth            5696 non-null   datetime64[ns] \n",
      " 19  DateOfDeath            3659 non-null   datetime64[ns] \n",
      " 20  AgeJoining             5696 non-null   int32          \n",
      " 21  AgeLeaving             5442 non-null   float64        \n",
      " 22  Age                    5696 non-null   int8           \n",
      " 23  YearsInOffice          5696 non-null   int8           \n",
      " 24  DaysInOffice           5696 non-null   timedelta64[ns]\n",
      " 25  Personalien            5696 non-null   object         \n",
      "dtypes: bool(1), category(10), datetime64[ns](4), float64(1), int32(1), int8(2), object(6), timedelta64[ns](1)\n",
      "memory usage: 685.5+ KB\n"
     ]
    }
   ],
   "source": [
    "# Datentypen anpassen\n",
    "columns_to_convert = ['GenderAsString', 'CantonName', 'CantonAbbreviation', 'CouncilName', 'ParlGroupName', 'ParlGroupAbbreviation', 'PartyName', 'PartyAbbreviation', 'MaritalStatusText', 'BirthPlace_Canton']\n",
    "for col in columns_to_convert:\n",
    "    df_mod[col] = df_mod[col].astype('category')\n",
    "    \n",
    "df_mod.info()"
   ],
   "metadata": {
    "collapsed": false,
    "ExecuteTime": {
     "end_time": "2023-10-01T18:44:16.452870500Z",
     "start_time": "2023-10-01T18:44:16.224131100Z"
    }
   },
   "id": "26e5df0aa2c24906"
  },
  {
   "cell_type": "code",
   "execution_count": 119,
   "outputs": [
    {
     "data": {
      "text/plain": "   Active FirstName  LastName GenderAsString  CantonName CantonAbbreviation  \\\n0   False  Giuseppe   a Marca              m  Graubünden                 GR   \n1   False     Alois  Ab Yberg              m      Schwyz                 SZ   \n2   False     Fabio     Abate              m      Tessin                 TI   \n3   False     Fabio     Abate              m      Tessin                 TI   \n4   False     Fabio     Abate              m      Tessin                 TI   \n\n   CouncilName                      ParlGroupName ParlGroupAbbreviation  \\\n0    Ständerat                              Mitte                    MC   \n1  Nationalrat     Radikal-demokratische Fraktion                     R   \n2  Nationalrat  Freisinnig-demokratische Fraktion                    RL   \n3  Nationalrat  Freisinnig-demokratische Fraktion                     R   \n4    Ständerat              FDP-Liberale Fraktion                    RL   \n\n                                     PartyName  ... DateLeaving  Citizenship  \\\n0                                 Konservative  ...  1851-07-01  Soazza (GR)   \n1  Freisinnig-Demokratische Partei der Schweiz  ...  1935-12-01  Schwyz (SZ)   \n2  Freisinnig-Demokratische Partei der Schweiz  ...  2011-12-04  Cabbio (TI)   \n3  Freisinnig-Demokratische Partei der Schweiz  ...  2003-11-30  Cabbio (TI)   \n4                            FDP.Die Liberalen  ...  2015-11-29  Cabbio (TI)   \n\n  DateOfBirth DateOfDeath AgeJoining AgeLeaving Age YearsInOffice  \\\n0  1799-07-29  1866-07-16         50       52.0  67             2   \n1  1878-10-06  1959-10-17         50       57.0  81             7   \n2  1966-01-04         NaT         41       45.0  57             4   \n3  1966-01-04         NaT         34       37.0  57             3   \n4  1966-01-04         NaT         45       49.0  57             4   \n\n  DaysInOffice                     Personalien  \n0     577 days     Giuseppe a Marca 29.07.1799  \n1    2554 days       Alois Ab Yberg 06.10.1878  \n2    1462 days  Fabio Abate 04.01.1966 Locarno  \n3    1161 days  Fabio Abate 04.01.1966 Locarno  \n4    1455 days  Fabio Abate 04.01.1966 Locarno  \n\n[5 rows x 26 columns]",
      "text/html": "<div>\n<style scoped>\n    .dataframe tbody tr th:only-of-type {\n        vertical-align: middle;\n    }\n\n    .dataframe tbody tr th {\n        vertical-align: top;\n    }\n\n    .dataframe thead th {\n        text-align: right;\n    }\n</style>\n<table border=\"1\" class=\"dataframe\">\n  <thead>\n    <tr style=\"text-align: right;\">\n      <th></th>\n      <th>Active</th>\n      <th>FirstName</th>\n      <th>LastName</th>\n      <th>GenderAsString</th>\n      <th>CantonName</th>\n      <th>CantonAbbreviation</th>\n      <th>CouncilName</th>\n      <th>ParlGroupName</th>\n      <th>ParlGroupAbbreviation</th>\n      <th>PartyName</th>\n      <th>...</th>\n      <th>DateLeaving</th>\n      <th>Citizenship</th>\n      <th>DateOfBirth</th>\n      <th>DateOfDeath</th>\n      <th>AgeJoining</th>\n      <th>AgeLeaving</th>\n      <th>Age</th>\n      <th>YearsInOffice</th>\n      <th>DaysInOffice</th>\n      <th>Personalien</th>\n    </tr>\n  </thead>\n  <tbody>\n    <tr>\n      <th>0</th>\n      <td>False</td>\n      <td>Giuseppe</td>\n      <td>a Marca</td>\n      <td>m</td>\n      <td>Graubünden</td>\n      <td>GR</td>\n      <td>Ständerat</td>\n      <td>Mitte</td>\n      <td>MC</td>\n      <td>Konservative</td>\n      <td>...</td>\n      <td>1851-07-01</td>\n      <td>Soazza (GR)</td>\n      <td>1799-07-29</td>\n      <td>1866-07-16</td>\n      <td>50</td>\n      <td>52.0</td>\n      <td>67</td>\n      <td>2</td>\n      <td>577 days</td>\n      <td>Giuseppe a Marca 29.07.1799</td>\n    </tr>\n    <tr>\n      <th>1</th>\n      <td>False</td>\n      <td>Alois</td>\n      <td>Ab Yberg</td>\n      <td>m</td>\n      <td>Schwyz</td>\n      <td>SZ</td>\n      <td>Nationalrat</td>\n      <td>Radikal-demokratische Fraktion</td>\n      <td>R</td>\n      <td>Freisinnig-Demokratische Partei der Schweiz</td>\n      <td>...</td>\n      <td>1935-12-01</td>\n      <td>Schwyz (SZ)</td>\n      <td>1878-10-06</td>\n      <td>1959-10-17</td>\n      <td>50</td>\n      <td>57.0</td>\n      <td>81</td>\n      <td>7</td>\n      <td>2554 days</td>\n      <td>Alois Ab Yberg 06.10.1878</td>\n    </tr>\n    <tr>\n      <th>2</th>\n      <td>False</td>\n      <td>Fabio</td>\n      <td>Abate</td>\n      <td>m</td>\n      <td>Tessin</td>\n      <td>TI</td>\n      <td>Nationalrat</td>\n      <td>Freisinnig-demokratische Fraktion</td>\n      <td>RL</td>\n      <td>Freisinnig-Demokratische Partei der Schweiz</td>\n      <td>...</td>\n      <td>2011-12-04</td>\n      <td>Cabbio (TI)</td>\n      <td>1966-01-04</td>\n      <td>NaT</td>\n      <td>41</td>\n      <td>45.0</td>\n      <td>57</td>\n      <td>4</td>\n      <td>1462 days</td>\n      <td>Fabio Abate 04.01.1966 Locarno</td>\n    </tr>\n    <tr>\n      <th>3</th>\n      <td>False</td>\n      <td>Fabio</td>\n      <td>Abate</td>\n      <td>m</td>\n      <td>Tessin</td>\n      <td>TI</td>\n      <td>Nationalrat</td>\n      <td>Freisinnig-demokratische Fraktion</td>\n      <td>R</td>\n      <td>Freisinnig-Demokratische Partei der Schweiz</td>\n      <td>...</td>\n      <td>2003-11-30</td>\n      <td>Cabbio (TI)</td>\n      <td>1966-01-04</td>\n      <td>NaT</td>\n      <td>34</td>\n      <td>37.0</td>\n      <td>57</td>\n      <td>3</td>\n      <td>1161 days</td>\n      <td>Fabio Abate 04.01.1966 Locarno</td>\n    </tr>\n    <tr>\n      <th>4</th>\n      <td>False</td>\n      <td>Fabio</td>\n      <td>Abate</td>\n      <td>m</td>\n      <td>Tessin</td>\n      <td>TI</td>\n      <td>Ständerat</td>\n      <td>FDP-Liberale Fraktion</td>\n      <td>RL</td>\n      <td>FDP.Die Liberalen</td>\n      <td>...</td>\n      <td>2015-11-29</td>\n      <td>Cabbio (TI)</td>\n      <td>1966-01-04</td>\n      <td>NaT</td>\n      <td>45</td>\n      <td>49.0</td>\n      <td>57</td>\n      <td>4</td>\n      <td>1455 days</td>\n      <td>Fabio Abate 04.01.1966 Locarno</td>\n    </tr>\n  </tbody>\n</table>\n<p>5 rows × 26 columns</p>\n</div>"
     },
     "execution_count": 119,
     "metadata": {},
     "output_type": "execute_result"
    }
   ],
   "source": [
    "df_mod.head()"
   ],
   "metadata": {
    "collapsed": false,
    "ExecuteTime": {
     "end_time": "2023-10-01T18:44:16.452870500Z",
     "start_time": "2023-10-01T18:44:16.255815100Z"
    }
   },
   "id": "aa4229b4bbbb2f6f"
  },
  {
   "cell_type": "code",
   "execution_count": 120,
   "outputs": [
    {
     "data": {
      "text/plain": "   Active FirstName  LastName Gender  CantonName CantonAbbreviation  \\\n0   False  Giuseppe   a Marca      m  Graubünden                 GR   \n1   False     Alois  Ab Yberg      m      Schwyz                 SZ   \n2   False     Fabio     Abate      m      Tessin                 TI   \n3   False     Fabio     Abate      m      Tessin                 TI   \n4   False     Fabio     Abate      m      Tessin                 TI   \n\n   CouncilName                      ParlGroupName ParlGroupAbbreviation  \\\n0    Ständerat                              Mitte                    MC   \n1  Nationalrat     Radikal-demokratische Fraktion                     R   \n2  Nationalrat  Freisinnig-demokratische Fraktion                    RL   \n3  Nationalrat  Freisinnig-demokratische Fraktion                     R   \n4    Ständerat              FDP-Liberale Fraktion                    RL   \n\n                                     PartyName  ... DateLeaving  Citizenship  \\\n0                                 Konservative  ...  1851-07-01  Soazza (GR)   \n1  Freisinnig-Demokratische Partei der Schweiz  ...  1935-12-01  Schwyz (SZ)   \n2  Freisinnig-Demokratische Partei der Schweiz  ...  2011-12-04  Cabbio (TI)   \n3  Freisinnig-Demokratische Partei der Schweiz  ...  2003-11-30  Cabbio (TI)   \n4                            FDP.Die Liberalen  ...  2015-11-29  Cabbio (TI)   \n\n  DateOfBirth DateOfDeath AgeJoining AgeLeaving Age YearsInOffice  \\\n0  1799-07-29  1866-07-16         50       52.0  67             2   \n1  1878-10-06  1959-10-17         50       57.0  81             7   \n2  1966-01-04         NaT         41       45.0  57             4   \n3  1966-01-04         NaT         34       37.0  57             3   \n4  1966-01-04         NaT         45       49.0  57             4   \n\n  DaysInOffice                     Personalien  \n0     577 days     Giuseppe a Marca 29.07.1799  \n1    2554 days       Alois Ab Yberg 06.10.1878  \n2    1462 days  Fabio Abate 04.01.1966 Locarno  \n3    1161 days  Fabio Abate 04.01.1966 Locarno  \n4    1455 days  Fabio Abate 04.01.1966 Locarno  \n\n[5 rows x 26 columns]",
      "text/html": "<div>\n<style scoped>\n    .dataframe tbody tr th:only-of-type {\n        vertical-align: middle;\n    }\n\n    .dataframe tbody tr th {\n        vertical-align: top;\n    }\n\n    .dataframe thead th {\n        text-align: right;\n    }\n</style>\n<table border=\"1\" class=\"dataframe\">\n  <thead>\n    <tr style=\"text-align: right;\">\n      <th></th>\n      <th>Active</th>\n      <th>FirstName</th>\n      <th>LastName</th>\n      <th>Gender</th>\n      <th>CantonName</th>\n      <th>CantonAbbreviation</th>\n      <th>CouncilName</th>\n      <th>ParlGroupName</th>\n      <th>ParlGroupAbbreviation</th>\n      <th>PartyName</th>\n      <th>...</th>\n      <th>DateLeaving</th>\n      <th>Citizenship</th>\n      <th>DateOfBirth</th>\n      <th>DateOfDeath</th>\n      <th>AgeJoining</th>\n      <th>AgeLeaving</th>\n      <th>Age</th>\n      <th>YearsInOffice</th>\n      <th>DaysInOffice</th>\n      <th>Personalien</th>\n    </tr>\n  </thead>\n  <tbody>\n    <tr>\n      <th>0</th>\n      <td>False</td>\n      <td>Giuseppe</td>\n      <td>a Marca</td>\n      <td>m</td>\n      <td>Graubünden</td>\n      <td>GR</td>\n      <td>Ständerat</td>\n      <td>Mitte</td>\n      <td>MC</td>\n      <td>Konservative</td>\n      <td>...</td>\n      <td>1851-07-01</td>\n      <td>Soazza (GR)</td>\n      <td>1799-07-29</td>\n      <td>1866-07-16</td>\n      <td>50</td>\n      <td>52.0</td>\n      <td>67</td>\n      <td>2</td>\n      <td>577 days</td>\n      <td>Giuseppe a Marca 29.07.1799</td>\n    </tr>\n    <tr>\n      <th>1</th>\n      <td>False</td>\n      <td>Alois</td>\n      <td>Ab Yberg</td>\n      <td>m</td>\n      <td>Schwyz</td>\n      <td>SZ</td>\n      <td>Nationalrat</td>\n      <td>Radikal-demokratische Fraktion</td>\n      <td>R</td>\n      <td>Freisinnig-Demokratische Partei der Schweiz</td>\n      <td>...</td>\n      <td>1935-12-01</td>\n      <td>Schwyz (SZ)</td>\n      <td>1878-10-06</td>\n      <td>1959-10-17</td>\n      <td>50</td>\n      <td>57.0</td>\n      <td>81</td>\n      <td>7</td>\n      <td>2554 days</td>\n      <td>Alois Ab Yberg 06.10.1878</td>\n    </tr>\n    <tr>\n      <th>2</th>\n      <td>False</td>\n      <td>Fabio</td>\n      <td>Abate</td>\n      <td>m</td>\n      <td>Tessin</td>\n      <td>TI</td>\n      <td>Nationalrat</td>\n      <td>Freisinnig-demokratische Fraktion</td>\n      <td>RL</td>\n      <td>Freisinnig-Demokratische Partei der Schweiz</td>\n      <td>...</td>\n      <td>2011-12-04</td>\n      <td>Cabbio (TI)</td>\n      <td>1966-01-04</td>\n      <td>NaT</td>\n      <td>41</td>\n      <td>45.0</td>\n      <td>57</td>\n      <td>4</td>\n      <td>1462 days</td>\n      <td>Fabio Abate 04.01.1966 Locarno</td>\n    </tr>\n    <tr>\n      <th>3</th>\n      <td>False</td>\n      <td>Fabio</td>\n      <td>Abate</td>\n      <td>m</td>\n      <td>Tessin</td>\n      <td>TI</td>\n      <td>Nationalrat</td>\n      <td>Freisinnig-demokratische Fraktion</td>\n      <td>R</td>\n      <td>Freisinnig-Demokratische Partei der Schweiz</td>\n      <td>...</td>\n      <td>2003-11-30</td>\n      <td>Cabbio (TI)</td>\n      <td>1966-01-04</td>\n      <td>NaT</td>\n      <td>34</td>\n      <td>37.0</td>\n      <td>57</td>\n      <td>3</td>\n      <td>1161 days</td>\n      <td>Fabio Abate 04.01.1966 Locarno</td>\n    </tr>\n    <tr>\n      <th>4</th>\n      <td>False</td>\n      <td>Fabio</td>\n      <td>Abate</td>\n      <td>m</td>\n      <td>Tessin</td>\n      <td>TI</td>\n      <td>Ständerat</td>\n      <td>FDP-Liberale Fraktion</td>\n      <td>RL</td>\n      <td>FDP.Die Liberalen</td>\n      <td>...</td>\n      <td>2015-11-29</td>\n      <td>Cabbio (TI)</td>\n      <td>1966-01-04</td>\n      <td>NaT</td>\n      <td>45</td>\n      <td>49.0</td>\n      <td>57</td>\n      <td>4</td>\n      <td>1455 days</td>\n      <td>Fabio Abate 04.01.1966 Locarno</td>\n    </tr>\n  </tbody>\n</table>\n<p>5 rows × 26 columns</p>\n</div>"
     },
     "execution_count": 120,
     "metadata": {},
     "output_type": "execute_result"
    }
   ],
   "source": [
    "df_mod = df_mod.rename(columns={'GenderAsString':'Gender', 'MaritalStatusText':'MartialStatus'})\n",
    "df_mod.head()"
   ],
   "metadata": {
    "collapsed": false,
    "ExecuteTime": {
     "end_time": "2023-10-01T18:44:16.497730200Z",
     "start_time": "2023-10-01T18:44:16.273933300Z"
    }
   },
   "id": "dee8a8da639a630f"
  },
  {
   "cell_type": "markdown",
   "source": [
    "Die Spalten 'Active' und 'DateLeaving' hängen zusammen. Denn wenn eine Person aktiv ist, sollte sie kein Datum in 'DateLeaving' haben und umgekehrt. für die Überprüfung dieses Umstandes wird eine Kontrollspalte angefügt. In dieser neuen Spalte wird der boolische Wert True vergeben, wenn die beiden Werte übereinstimmen. False bei Unstimmigkeiten. "
   ],
   "metadata": {
    "collapsed": false
   },
   "id": "ff395c20f00b5104"
  },
  {
   "cell_type": "code",
   "execution_count": 121,
   "outputs": [
    {
     "data": {
      "text/plain": "   Active FirstName  LastName Gender  CantonName CantonAbbreviation  \\\n0   False  Giuseppe   a Marca      m  Graubünden                 GR   \n1   False     Alois  Ab Yberg      m      Schwyz                 SZ   \n2   False     Fabio     Abate      m      Tessin                 TI   \n3   False     Fabio     Abate      m      Tessin                 TI   \n4   False     Fabio     Abate      m      Tessin                 TI   \n\n   CouncilName                      ParlGroupName ParlGroupAbbreviation  \\\n0    Ständerat                              Mitte                    MC   \n1  Nationalrat     Radikal-demokratische Fraktion                     R   \n2  Nationalrat  Freisinnig-demokratische Fraktion                    RL   \n3  Nationalrat  Freisinnig-demokratische Fraktion                     R   \n4    Ständerat              FDP-Liberale Fraktion                    RL   \n\n                                     PartyName  ...  Citizenship DateOfBirth  \\\n0                                 Konservative  ...  Soazza (GR)  1799-07-29   \n1  Freisinnig-Demokratische Partei der Schweiz  ...  Schwyz (SZ)  1878-10-06   \n2  Freisinnig-Demokratische Partei der Schweiz  ...  Cabbio (TI)  1966-01-04   \n3  Freisinnig-Demokratische Partei der Schweiz  ...  Cabbio (TI)  1966-01-04   \n4                            FDP.Die Liberalen  ...  Cabbio (TI)  1966-01-04   \n\n  DateOfDeath AgeJoining AgeLeaving Age YearsInOffice DaysInOffice  \\\n0  1866-07-16         50       52.0  67             2     577 days   \n1  1959-10-17         50       57.0  81             7    2554 days   \n2         NaT         41       45.0  57             4    1462 days   \n3         NaT         34       37.0  57             3    1161 days   \n4         NaT         45       49.0  57             4    1455 days   \n\n                      Personalien CheckActive  \n0     Giuseppe a Marca 29.07.1799        True  \n1       Alois Ab Yberg 06.10.1878        True  \n2  Fabio Abate 04.01.1966 Locarno        True  \n3  Fabio Abate 04.01.1966 Locarno        True  \n4  Fabio Abate 04.01.1966 Locarno        True  \n\n[5 rows x 27 columns]",
      "text/html": "<div>\n<style scoped>\n    .dataframe tbody tr th:only-of-type {\n        vertical-align: middle;\n    }\n\n    .dataframe tbody tr th {\n        vertical-align: top;\n    }\n\n    .dataframe thead th {\n        text-align: right;\n    }\n</style>\n<table border=\"1\" class=\"dataframe\">\n  <thead>\n    <tr style=\"text-align: right;\">\n      <th></th>\n      <th>Active</th>\n      <th>FirstName</th>\n      <th>LastName</th>\n      <th>Gender</th>\n      <th>CantonName</th>\n      <th>CantonAbbreviation</th>\n      <th>CouncilName</th>\n      <th>ParlGroupName</th>\n      <th>ParlGroupAbbreviation</th>\n      <th>PartyName</th>\n      <th>...</th>\n      <th>Citizenship</th>\n      <th>DateOfBirth</th>\n      <th>DateOfDeath</th>\n      <th>AgeJoining</th>\n      <th>AgeLeaving</th>\n      <th>Age</th>\n      <th>YearsInOffice</th>\n      <th>DaysInOffice</th>\n      <th>Personalien</th>\n      <th>CheckActive</th>\n    </tr>\n  </thead>\n  <tbody>\n    <tr>\n      <th>0</th>\n      <td>False</td>\n      <td>Giuseppe</td>\n      <td>a Marca</td>\n      <td>m</td>\n      <td>Graubünden</td>\n      <td>GR</td>\n      <td>Ständerat</td>\n      <td>Mitte</td>\n      <td>MC</td>\n      <td>Konservative</td>\n      <td>...</td>\n      <td>Soazza (GR)</td>\n      <td>1799-07-29</td>\n      <td>1866-07-16</td>\n      <td>50</td>\n      <td>52.0</td>\n      <td>67</td>\n      <td>2</td>\n      <td>577 days</td>\n      <td>Giuseppe a Marca 29.07.1799</td>\n      <td>True</td>\n    </tr>\n    <tr>\n      <th>1</th>\n      <td>False</td>\n      <td>Alois</td>\n      <td>Ab Yberg</td>\n      <td>m</td>\n      <td>Schwyz</td>\n      <td>SZ</td>\n      <td>Nationalrat</td>\n      <td>Radikal-demokratische Fraktion</td>\n      <td>R</td>\n      <td>Freisinnig-Demokratische Partei der Schweiz</td>\n      <td>...</td>\n      <td>Schwyz (SZ)</td>\n      <td>1878-10-06</td>\n      <td>1959-10-17</td>\n      <td>50</td>\n      <td>57.0</td>\n      <td>81</td>\n      <td>7</td>\n      <td>2554 days</td>\n      <td>Alois Ab Yberg 06.10.1878</td>\n      <td>True</td>\n    </tr>\n    <tr>\n      <th>2</th>\n      <td>False</td>\n      <td>Fabio</td>\n      <td>Abate</td>\n      <td>m</td>\n      <td>Tessin</td>\n      <td>TI</td>\n      <td>Nationalrat</td>\n      <td>Freisinnig-demokratische Fraktion</td>\n      <td>RL</td>\n      <td>Freisinnig-Demokratische Partei der Schweiz</td>\n      <td>...</td>\n      <td>Cabbio (TI)</td>\n      <td>1966-01-04</td>\n      <td>NaT</td>\n      <td>41</td>\n      <td>45.0</td>\n      <td>57</td>\n      <td>4</td>\n      <td>1462 days</td>\n      <td>Fabio Abate 04.01.1966 Locarno</td>\n      <td>True</td>\n    </tr>\n    <tr>\n      <th>3</th>\n      <td>False</td>\n      <td>Fabio</td>\n      <td>Abate</td>\n      <td>m</td>\n      <td>Tessin</td>\n      <td>TI</td>\n      <td>Nationalrat</td>\n      <td>Freisinnig-demokratische Fraktion</td>\n      <td>R</td>\n      <td>Freisinnig-Demokratische Partei der Schweiz</td>\n      <td>...</td>\n      <td>Cabbio (TI)</td>\n      <td>1966-01-04</td>\n      <td>NaT</td>\n      <td>34</td>\n      <td>37.0</td>\n      <td>57</td>\n      <td>3</td>\n      <td>1161 days</td>\n      <td>Fabio Abate 04.01.1966 Locarno</td>\n      <td>True</td>\n    </tr>\n    <tr>\n      <th>4</th>\n      <td>False</td>\n      <td>Fabio</td>\n      <td>Abate</td>\n      <td>m</td>\n      <td>Tessin</td>\n      <td>TI</td>\n      <td>Ständerat</td>\n      <td>FDP-Liberale Fraktion</td>\n      <td>RL</td>\n      <td>FDP.Die Liberalen</td>\n      <td>...</td>\n      <td>Cabbio (TI)</td>\n      <td>1966-01-04</td>\n      <td>NaT</td>\n      <td>45</td>\n      <td>49.0</td>\n      <td>57</td>\n      <td>4</td>\n      <td>1455 days</td>\n      <td>Fabio Abate 04.01.1966 Locarno</td>\n      <td>True</td>\n    </tr>\n  </tbody>\n</table>\n<p>5 rows × 27 columns</p>\n</div>"
     },
     "execution_count": 121,
     "metadata": {},
     "output_type": "execute_result"
    }
   ],
   "source": [
    "df_mod['CheckActive'] = (df_mod['Active'] == False & df_mod['DateLeaving'].notna()) | (df_mod['Active'] == True & df_mod['DateLeaving'].isna())\n",
    "df_mod.head()"
   ],
   "metadata": {
    "collapsed": false,
    "ExecuteTime": {
     "end_time": "2023-10-01T18:44:16.498217700Z",
     "start_time": "2023-10-01T18:44:16.305457100Z"
    }
   },
   "id": "2c2eb8075e768493"
  },
  {
   "cell_type": "code",
   "execution_count": 122,
   "outputs": [
    {
     "data": {
      "text/plain": "CheckActive\nTrue     5674\nFalse      22\nName: count, dtype: int64"
     },
     "execution_count": 122,
     "metadata": {},
     "output_type": "execute_result"
    }
   ],
   "source": [
    "values_count = df_mod['CheckActive'].value_counts()\n",
    "values_count"
   ],
   "metadata": {
    "collapsed": false,
    "ExecuteTime": {
     "end_time": "2023-10-01T18:44:16.517218500Z",
     "start_time": "2023-10-01T18:44:16.321045800Z"
    }
   },
   "id": "d9e2f54d8ec512e"
  },
  {
   "cell_type": "markdown",
   "source": [
    "Es gibt 22 Einträge mit Widersprüchlichen Eintragungen bei den Spalten 'Active' und 'DateLeaving'. Diese werden genauer untersucht."
   ],
   "metadata": {
    "collapsed": false
   },
   "id": "1cdaced4462f66e5"
  },
  {
   "cell_type": "code",
   "execution_count": 123,
   "outputs": [
    {
     "data": {
      "text/plain": "      Active DateLeaving  CouncilName DateJoining DateOfDeath  \\\n418     True  2016-12-31    Bundesrat  2012-01-01         NaT   \n419     True  2017-12-31    Bundesrat  2017-01-01         NaT   \n420     True  2018-12-31    Bundesrat  2018-01-01         NaT   \n1034    True  2020-12-31    Bundesrat  2017-11-01         NaT   \n1120    True  2021-11-28  Nationalrat  2019-12-02         NaT   \n1722    True  2021-11-28  Nationalrat  2019-12-02         NaT   \n3684    True  2012-12-31    Bundesrat  2012-01-01         NaT   \n3685    True  2013-12-31    Bundesrat  2013-01-01         NaT   \n3686    True  2015-12-31    Bundesrat  2014-01-01         NaT   \n3687    True  2017-12-31    Bundesrat  2016-01-01         NaT   \n3688    True  2018-12-31    Bundesrat  2018-01-01         NaT   \n3689    True  2019-12-31    Bundesrat  2019-01-01         NaT   \n3691    True  2011-12-31    Bundesrat  2009-01-01         NaT   \n4232    True  2018-12-31    Bundesrat  2016-01-01         NaT   \n4233    True  2019-12-31    Bundesrat  2019-01-01         NaT   \n4234    True  2020-12-31    Bundesrat  2020-01-01         NaT   \n5308    True  2013-12-31    Bundesrat  2010-11-01         NaT   \n5313    True  2014-12-31    Bundesrat  2014-01-01         NaT   \n5314    True  2015-12-31    Bundesrat  2015-01-01         NaT   \n5316    True  2018-12-31    Bundesrat  2016-01-01         NaT   \n5317    True  2019-12-31    Bundesrat  2019-01-01         NaT   \n5319    True  2020-12-31    Bundesrat  2020-01-01         NaT   \n\n                                Personalien  \n418        Alain Berset 09.04.1972 Freiburg  \n419        Alain Berset 09.04.1972 Freiburg  \n420        Alain Berset 09.04.1972 Freiburg  \n1034        Ignazio Cassis 13.04.1961 Sessa  \n1120  Isabelle Chevalley 13.04.1972 Aubonne  \n1722      Christoph Eymann 15.01.1951 Basel  \n3684   Ueli Maurer 01.12.1950 Wetzikon (ZH)  \n3685   Ueli Maurer 01.12.1950 Wetzikon (ZH)  \n3686   Ueli Maurer 01.12.1950 Wetzikon (ZH)  \n3687   Ueli Maurer 01.12.1950 Wetzikon (ZH)  \n3688   Ueli Maurer 01.12.1950 Wetzikon (ZH)  \n3689   Ueli Maurer 01.12.1950 Wetzikon (ZH)  \n3691   Ueli Maurer 01.12.1950 Wetzikon (ZH)  \n4232        Guy Parmelin 09.11.1959 Bursins  \n4233        Guy Parmelin 09.11.1959 Bursins  \n4234        Guy Parmelin 09.11.1959 Bursins  \n5308     Simonetta Sommaruga 14.05.1960 Zug  \n5313     Simonetta Sommaruga 14.05.1960 Zug  \n5314     Simonetta Sommaruga 14.05.1960 Zug  \n5316     Simonetta Sommaruga 14.05.1960 Zug  \n5317     Simonetta Sommaruga 14.05.1960 Zug  \n5319     Simonetta Sommaruga 14.05.1960 Zug  ",
      "text/html": "<div>\n<style scoped>\n    .dataframe tbody tr th:only-of-type {\n        vertical-align: middle;\n    }\n\n    .dataframe tbody tr th {\n        vertical-align: top;\n    }\n\n    .dataframe thead th {\n        text-align: right;\n    }\n</style>\n<table border=\"1\" class=\"dataframe\">\n  <thead>\n    <tr style=\"text-align: right;\">\n      <th></th>\n      <th>Active</th>\n      <th>DateLeaving</th>\n      <th>CouncilName</th>\n      <th>DateJoining</th>\n      <th>DateOfDeath</th>\n      <th>Personalien</th>\n    </tr>\n  </thead>\n  <tbody>\n    <tr>\n      <th>418</th>\n      <td>True</td>\n      <td>2016-12-31</td>\n      <td>Bundesrat</td>\n      <td>2012-01-01</td>\n      <td>NaT</td>\n      <td>Alain Berset 09.04.1972 Freiburg</td>\n    </tr>\n    <tr>\n      <th>419</th>\n      <td>True</td>\n      <td>2017-12-31</td>\n      <td>Bundesrat</td>\n      <td>2017-01-01</td>\n      <td>NaT</td>\n      <td>Alain Berset 09.04.1972 Freiburg</td>\n    </tr>\n    <tr>\n      <th>420</th>\n      <td>True</td>\n      <td>2018-12-31</td>\n      <td>Bundesrat</td>\n      <td>2018-01-01</td>\n      <td>NaT</td>\n      <td>Alain Berset 09.04.1972 Freiburg</td>\n    </tr>\n    <tr>\n      <th>1034</th>\n      <td>True</td>\n      <td>2020-12-31</td>\n      <td>Bundesrat</td>\n      <td>2017-11-01</td>\n      <td>NaT</td>\n      <td>Ignazio Cassis 13.04.1961 Sessa</td>\n    </tr>\n    <tr>\n      <th>1120</th>\n      <td>True</td>\n      <td>2021-11-28</td>\n      <td>Nationalrat</td>\n      <td>2019-12-02</td>\n      <td>NaT</td>\n      <td>Isabelle Chevalley 13.04.1972 Aubonne</td>\n    </tr>\n    <tr>\n      <th>1722</th>\n      <td>True</td>\n      <td>2021-11-28</td>\n      <td>Nationalrat</td>\n      <td>2019-12-02</td>\n      <td>NaT</td>\n      <td>Christoph Eymann 15.01.1951 Basel</td>\n    </tr>\n    <tr>\n      <th>3684</th>\n      <td>True</td>\n      <td>2012-12-31</td>\n      <td>Bundesrat</td>\n      <td>2012-01-01</td>\n      <td>NaT</td>\n      <td>Ueli Maurer 01.12.1950 Wetzikon (ZH)</td>\n    </tr>\n    <tr>\n      <th>3685</th>\n      <td>True</td>\n      <td>2013-12-31</td>\n      <td>Bundesrat</td>\n      <td>2013-01-01</td>\n      <td>NaT</td>\n      <td>Ueli Maurer 01.12.1950 Wetzikon (ZH)</td>\n    </tr>\n    <tr>\n      <th>3686</th>\n      <td>True</td>\n      <td>2015-12-31</td>\n      <td>Bundesrat</td>\n      <td>2014-01-01</td>\n      <td>NaT</td>\n      <td>Ueli Maurer 01.12.1950 Wetzikon (ZH)</td>\n    </tr>\n    <tr>\n      <th>3687</th>\n      <td>True</td>\n      <td>2017-12-31</td>\n      <td>Bundesrat</td>\n      <td>2016-01-01</td>\n      <td>NaT</td>\n      <td>Ueli Maurer 01.12.1950 Wetzikon (ZH)</td>\n    </tr>\n    <tr>\n      <th>3688</th>\n      <td>True</td>\n      <td>2018-12-31</td>\n      <td>Bundesrat</td>\n      <td>2018-01-01</td>\n      <td>NaT</td>\n      <td>Ueli Maurer 01.12.1950 Wetzikon (ZH)</td>\n    </tr>\n    <tr>\n      <th>3689</th>\n      <td>True</td>\n      <td>2019-12-31</td>\n      <td>Bundesrat</td>\n      <td>2019-01-01</td>\n      <td>NaT</td>\n      <td>Ueli Maurer 01.12.1950 Wetzikon (ZH)</td>\n    </tr>\n    <tr>\n      <th>3691</th>\n      <td>True</td>\n      <td>2011-12-31</td>\n      <td>Bundesrat</td>\n      <td>2009-01-01</td>\n      <td>NaT</td>\n      <td>Ueli Maurer 01.12.1950 Wetzikon (ZH)</td>\n    </tr>\n    <tr>\n      <th>4232</th>\n      <td>True</td>\n      <td>2018-12-31</td>\n      <td>Bundesrat</td>\n      <td>2016-01-01</td>\n      <td>NaT</td>\n      <td>Guy Parmelin 09.11.1959 Bursins</td>\n    </tr>\n    <tr>\n      <th>4233</th>\n      <td>True</td>\n      <td>2019-12-31</td>\n      <td>Bundesrat</td>\n      <td>2019-01-01</td>\n      <td>NaT</td>\n      <td>Guy Parmelin 09.11.1959 Bursins</td>\n    </tr>\n    <tr>\n      <th>4234</th>\n      <td>True</td>\n      <td>2020-12-31</td>\n      <td>Bundesrat</td>\n      <td>2020-01-01</td>\n      <td>NaT</td>\n      <td>Guy Parmelin 09.11.1959 Bursins</td>\n    </tr>\n    <tr>\n      <th>5308</th>\n      <td>True</td>\n      <td>2013-12-31</td>\n      <td>Bundesrat</td>\n      <td>2010-11-01</td>\n      <td>NaT</td>\n      <td>Simonetta Sommaruga 14.05.1960 Zug</td>\n    </tr>\n    <tr>\n      <th>5313</th>\n      <td>True</td>\n      <td>2014-12-31</td>\n      <td>Bundesrat</td>\n      <td>2014-01-01</td>\n      <td>NaT</td>\n      <td>Simonetta Sommaruga 14.05.1960 Zug</td>\n    </tr>\n    <tr>\n      <th>5314</th>\n      <td>True</td>\n      <td>2015-12-31</td>\n      <td>Bundesrat</td>\n      <td>2015-01-01</td>\n      <td>NaT</td>\n      <td>Simonetta Sommaruga 14.05.1960 Zug</td>\n    </tr>\n    <tr>\n      <th>5316</th>\n      <td>True</td>\n      <td>2018-12-31</td>\n      <td>Bundesrat</td>\n      <td>2016-01-01</td>\n      <td>NaT</td>\n      <td>Simonetta Sommaruga 14.05.1960 Zug</td>\n    </tr>\n    <tr>\n      <th>5317</th>\n      <td>True</td>\n      <td>2019-12-31</td>\n      <td>Bundesrat</td>\n      <td>2019-01-01</td>\n      <td>NaT</td>\n      <td>Simonetta Sommaruga 14.05.1960 Zug</td>\n    </tr>\n    <tr>\n      <th>5319</th>\n      <td>True</td>\n      <td>2020-12-31</td>\n      <td>Bundesrat</td>\n      <td>2020-01-01</td>\n      <td>NaT</td>\n      <td>Simonetta Sommaruga 14.05.1960 Zug</td>\n    </tr>\n  </tbody>\n</table>\n</div>"
     },
     "execution_count": 123,
     "metadata": {},
     "output_type": "execute_result"
    }
   ],
   "source": [
    "df_check_active = df_mod[df_mod['CheckActive'] == False][['Active', 'DateLeaving', 'CouncilName', 'DateJoining', 'DateOfDeath', 'Personalien']]\n",
    "df_check_active"
   ],
   "metadata": {
    "collapsed": false,
    "ExecuteTime": {
     "end_time": "2023-10-01T18:44:16.518474Z",
     "start_time": "2023-10-01T18:44:16.336720400Z"
    }
   },
   "id": "e4874342f9489199"
  },
  {
   "cell_type": "markdown",
   "source": [
    "Vermutlich wird der Status der Rubrik 'Active' auf den Namen und den aktuellsten Status gesetzt. Um diese Hypothese zu überprüfen wird ein Datensatz mit allen Namen erstellt, welche im Datensatz 'df_check_active' vorhanden sind."
   ],
   "metadata": {
    "collapsed": false
   },
   "id": "1cd9ee678ed04b9"
  },
  {
   "cell_type": "code",
   "execution_count": 124,
   "outputs": [
    {
     "data": {
      "text/plain": "                                Personalien  CheckActive  Active DateLeaving  \\\n415        Alain Berset 09.04.1972 Freiburg         True   False  2007-12-02   \n417        Alain Berset 09.04.1972 Freiburg         True   False  2011-12-31   \n418        Alain Berset 09.04.1972 Freiburg        False    True  2016-12-31   \n419        Alain Berset 09.04.1972 Freiburg        False    True  2017-12-31   \n420        Alain Berset 09.04.1972 Freiburg        False    True  2018-12-31   \n421        Alain Berset 09.04.1972 Freiburg         True    True         NaT   \n422        Alain Berset 09.04.1972 Freiburg         True   False  2011-12-04   \n1031        Ignazio Cassis 13.04.1961 Sessa         True   False  2007-12-02   \n1032        Ignazio Cassis 13.04.1961 Sessa         True   False  2015-11-29   \n1033        Ignazio Cassis 13.04.1961 Sessa         True   False  2017-10-31   \n1034        Ignazio Cassis 13.04.1961 Sessa        False    True  2020-12-31   \n1035        Ignazio Cassis 13.04.1961 Sessa         True    True         NaT   \n1036        Ignazio Cassis 13.04.1961 Sessa         True   False  2011-12-04   \n1118  Isabelle Chevalley 13.04.1972 Aubonne         True   False  2015-11-29   \n1119  Isabelle Chevalley 13.04.1972 Aubonne         True   False  2019-12-01   \n1120  Isabelle Chevalley 13.04.1972 Aubonne        False    True  2021-11-28   \n1717      Christoph Eymann 15.01.1951 Basel         True   False  1995-12-03   \n1720      Christoph Eymann 15.01.1951 Basel         True   False  2001-09-16   \n1721      Christoph Eymann 15.01.1951 Basel         True   False  2019-12-01   \n1722      Christoph Eymann 15.01.1951 Basel        False    True  2021-11-28   \n3679   Ueli Maurer 01.12.1950 Wetzikon (ZH)         True   False  2003-11-30   \n3680   Ueli Maurer 01.12.1950 Wetzikon (ZH)         True   False  1995-12-03   \n3681   Ueli Maurer 01.12.1950 Wetzikon (ZH)         True   False  2008-12-31   \n3683   Ueli Maurer 01.12.1950 Wetzikon (ZH)         True   False  2007-12-02   \n3684   Ueli Maurer 01.12.1950 Wetzikon (ZH)        False    True  2012-12-31   \n3685   Ueli Maurer 01.12.1950 Wetzikon (ZH)        False    True  2013-12-31   \n3686   Ueli Maurer 01.12.1950 Wetzikon (ZH)        False    True  2015-12-31   \n3687   Ueli Maurer 01.12.1950 Wetzikon (ZH)        False    True  2017-12-31   \n3688   Ueli Maurer 01.12.1950 Wetzikon (ZH)        False    True  2018-12-31   \n3689   Ueli Maurer 01.12.1950 Wetzikon (ZH)        False    True  2019-12-31   \n3690   Ueli Maurer 01.12.1950 Wetzikon (ZH)         True    True         NaT   \n3691   Ueli Maurer 01.12.1950 Wetzikon (ZH)        False    True  2011-12-31   \n4227        Guy Parmelin 09.11.1959 Bursins         True   False  2011-12-04   \n4228        Guy Parmelin 09.11.1959 Bursins         True   False  2007-12-02   \n4229        Guy Parmelin 09.11.1959 Bursins         True   False  2015-11-29   \n4231        Guy Parmelin 09.11.1959 Bursins         True   False  2015-12-31   \n4232        Guy Parmelin 09.11.1959 Bursins        False    True  2018-12-31   \n4233        Guy Parmelin 09.11.1959 Bursins        False    True  2019-12-31   \n4234        Guy Parmelin 09.11.1959 Bursins        False    True  2020-12-31   \n4235        Guy Parmelin 09.11.1959 Bursins         True    True         NaT   \n5308     Simonetta Sommaruga 14.05.1960 Zug        False    True  2013-12-31   \n5309     Simonetta Sommaruga 14.05.1960 Zug         True   False  2003-11-30   \n5310     Simonetta Sommaruga 14.05.1960 Zug         True   False  2007-12-02   \n5313     Simonetta Sommaruga 14.05.1960 Zug        False    True  2014-12-31   \n5314     Simonetta Sommaruga 14.05.1960 Zug        False    True  2015-12-31   \n5316     Simonetta Sommaruga 14.05.1960 Zug        False    True  2018-12-31   \n5317     Simonetta Sommaruga 14.05.1960 Zug        False    True  2019-12-31   \n5319     Simonetta Sommaruga 14.05.1960 Zug        False    True  2020-12-31   \n5320     Simonetta Sommaruga 14.05.1960 Zug         True    True         NaT   \n5321     Simonetta Sommaruga 14.05.1960 Zug         True   False  2010-10-31   \n\n      CouncilName DateJoining DateOfDeath  \n415     Ständerat  2003-12-01         NaT  \n417     Ständerat  2011-12-05         NaT  \n418     Bundesrat  2012-01-01         NaT  \n419     Bundesrat  2017-01-01         NaT  \n420     Bundesrat  2018-01-01         NaT  \n421     Bundesrat  2019-01-01         NaT  \n422     Ständerat  2007-12-03         NaT  \n1031  Nationalrat  2007-06-04         NaT  \n1032  Nationalrat  2011-12-05         NaT  \n1033  Nationalrat  2015-11-30         NaT  \n1034    Bundesrat  2017-11-01         NaT  \n1035    Bundesrat  2021-01-01         NaT  \n1036  Nationalrat  2007-12-03         NaT  \n1118  Nationalrat  2011-12-05         NaT  \n1119  Nationalrat  2015-11-30         NaT  \n1120  Nationalrat  2019-12-02         NaT  \n1717  Nationalrat  1991-11-25         NaT  \n1720  Nationalrat  1995-12-04         NaT  \n1721  Nationalrat  2015-11-30         NaT  \n1722  Nationalrat  2019-12-02         NaT  \n3679  Nationalrat  1995-12-04         NaT  \n3680  Nationalrat  1991-11-25         NaT  \n3681  Nationalrat  2007-12-03         NaT  \n3683  Nationalrat  2003-12-01         NaT  \n3684    Bundesrat  2012-01-01         NaT  \n3685    Bundesrat  2013-01-01         NaT  \n3686    Bundesrat  2014-01-01         NaT  \n3687    Bundesrat  2016-01-01         NaT  \n3688    Bundesrat  2018-01-01         NaT  \n3689    Bundesrat  2019-01-01         NaT  \n3690    Bundesrat  2020-01-01         NaT  \n3691    Bundesrat  2009-01-01         NaT  \n4227  Nationalrat  2007-12-03         NaT  \n4228  Nationalrat  2003-12-01         NaT  \n4229  Nationalrat  2011-12-05         NaT  \n4231  Nationalrat  2015-11-30         NaT  \n4232    Bundesrat  2016-01-01         NaT  \n4233    Bundesrat  2019-01-01         NaT  \n4234    Bundesrat  2020-01-01         NaT  \n4235    Bundesrat  2021-01-01         NaT  \n5308    Bundesrat  2010-11-01         NaT  \n5309  Nationalrat  1999-12-06         NaT  \n5310    Ständerat  2003-12-01         NaT  \n5313    Bundesrat  2014-01-01         NaT  \n5314    Bundesrat  2015-01-01         NaT  \n5316    Bundesrat  2016-01-01         NaT  \n5317    Bundesrat  2019-01-01         NaT  \n5319    Bundesrat  2020-01-01         NaT  \n5320    Bundesrat  2021-01-01         NaT  \n5321    Ständerat  2007-12-03         NaT  ",
      "text/html": "<div>\n<style scoped>\n    .dataframe tbody tr th:only-of-type {\n        vertical-align: middle;\n    }\n\n    .dataframe tbody tr th {\n        vertical-align: top;\n    }\n\n    .dataframe thead th {\n        text-align: right;\n    }\n</style>\n<table border=\"1\" class=\"dataframe\">\n  <thead>\n    <tr style=\"text-align: right;\">\n      <th></th>\n      <th>Personalien</th>\n      <th>CheckActive</th>\n      <th>Active</th>\n      <th>DateLeaving</th>\n      <th>CouncilName</th>\n      <th>DateJoining</th>\n      <th>DateOfDeath</th>\n    </tr>\n  </thead>\n  <tbody>\n    <tr>\n      <th>415</th>\n      <td>Alain Berset 09.04.1972 Freiburg</td>\n      <td>True</td>\n      <td>False</td>\n      <td>2007-12-02</td>\n      <td>Ständerat</td>\n      <td>2003-12-01</td>\n      <td>NaT</td>\n    </tr>\n    <tr>\n      <th>417</th>\n      <td>Alain Berset 09.04.1972 Freiburg</td>\n      <td>True</td>\n      <td>False</td>\n      <td>2011-12-31</td>\n      <td>Ständerat</td>\n      <td>2011-12-05</td>\n      <td>NaT</td>\n    </tr>\n    <tr>\n      <th>418</th>\n      <td>Alain Berset 09.04.1972 Freiburg</td>\n      <td>False</td>\n      <td>True</td>\n      <td>2016-12-31</td>\n      <td>Bundesrat</td>\n      <td>2012-01-01</td>\n      <td>NaT</td>\n    </tr>\n    <tr>\n      <th>419</th>\n      <td>Alain Berset 09.04.1972 Freiburg</td>\n      <td>False</td>\n      <td>True</td>\n      <td>2017-12-31</td>\n      <td>Bundesrat</td>\n      <td>2017-01-01</td>\n      <td>NaT</td>\n    </tr>\n    <tr>\n      <th>420</th>\n      <td>Alain Berset 09.04.1972 Freiburg</td>\n      <td>False</td>\n      <td>True</td>\n      <td>2018-12-31</td>\n      <td>Bundesrat</td>\n      <td>2018-01-01</td>\n      <td>NaT</td>\n    </tr>\n    <tr>\n      <th>421</th>\n      <td>Alain Berset 09.04.1972 Freiburg</td>\n      <td>True</td>\n      <td>True</td>\n      <td>NaT</td>\n      <td>Bundesrat</td>\n      <td>2019-01-01</td>\n      <td>NaT</td>\n    </tr>\n    <tr>\n      <th>422</th>\n      <td>Alain Berset 09.04.1972 Freiburg</td>\n      <td>True</td>\n      <td>False</td>\n      <td>2011-12-04</td>\n      <td>Ständerat</td>\n      <td>2007-12-03</td>\n      <td>NaT</td>\n    </tr>\n    <tr>\n      <th>1031</th>\n      <td>Ignazio Cassis 13.04.1961 Sessa</td>\n      <td>True</td>\n      <td>False</td>\n      <td>2007-12-02</td>\n      <td>Nationalrat</td>\n      <td>2007-06-04</td>\n      <td>NaT</td>\n    </tr>\n    <tr>\n      <th>1032</th>\n      <td>Ignazio Cassis 13.04.1961 Sessa</td>\n      <td>True</td>\n      <td>False</td>\n      <td>2015-11-29</td>\n      <td>Nationalrat</td>\n      <td>2011-12-05</td>\n      <td>NaT</td>\n    </tr>\n    <tr>\n      <th>1033</th>\n      <td>Ignazio Cassis 13.04.1961 Sessa</td>\n      <td>True</td>\n      <td>False</td>\n      <td>2017-10-31</td>\n      <td>Nationalrat</td>\n      <td>2015-11-30</td>\n      <td>NaT</td>\n    </tr>\n    <tr>\n      <th>1034</th>\n      <td>Ignazio Cassis 13.04.1961 Sessa</td>\n      <td>False</td>\n      <td>True</td>\n      <td>2020-12-31</td>\n      <td>Bundesrat</td>\n      <td>2017-11-01</td>\n      <td>NaT</td>\n    </tr>\n    <tr>\n      <th>1035</th>\n      <td>Ignazio Cassis 13.04.1961 Sessa</td>\n      <td>True</td>\n      <td>True</td>\n      <td>NaT</td>\n      <td>Bundesrat</td>\n      <td>2021-01-01</td>\n      <td>NaT</td>\n    </tr>\n    <tr>\n      <th>1036</th>\n      <td>Ignazio Cassis 13.04.1961 Sessa</td>\n      <td>True</td>\n      <td>False</td>\n      <td>2011-12-04</td>\n      <td>Nationalrat</td>\n      <td>2007-12-03</td>\n      <td>NaT</td>\n    </tr>\n    <tr>\n      <th>1118</th>\n      <td>Isabelle Chevalley 13.04.1972 Aubonne</td>\n      <td>True</td>\n      <td>False</td>\n      <td>2015-11-29</td>\n      <td>Nationalrat</td>\n      <td>2011-12-05</td>\n      <td>NaT</td>\n    </tr>\n    <tr>\n      <th>1119</th>\n      <td>Isabelle Chevalley 13.04.1972 Aubonne</td>\n      <td>True</td>\n      <td>False</td>\n      <td>2019-12-01</td>\n      <td>Nationalrat</td>\n      <td>2015-11-30</td>\n      <td>NaT</td>\n    </tr>\n    <tr>\n      <th>1120</th>\n      <td>Isabelle Chevalley 13.04.1972 Aubonne</td>\n      <td>False</td>\n      <td>True</td>\n      <td>2021-11-28</td>\n      <td>Nationalrat</td>\n      <td>2019-12-02</td>\n      <td>NaT</td>\n    </tr>\n    <tr>\n      <th>1717</th>\n      <td>Christoph Eymann 15.01.1951 Basel</td>\n      <td>True</td>\n      <td>False</td>\n      <td>1995-12-03</td>\n      <td>Nationalrat</td>\n      <td>1991-11-25</td>\n      <td>NaT</td>\n    </tr>\n    <tr>\n      <th>1720</th>\n      <td>Christoph Eymann 15.01.1951 Basel</td>\n      <td>True</td>\n      <td>False</td>\n      <td>2001-09-16</td>\n      <td>Nationalrat</td>\n      <td>1995-12-04</td>\n      <td>NaT</td>\n    </tr>\n    <tr>\n      <th>1721</th>\n      <td>Christoph Eymann 15.01.1951 Basel</td>\n      <td>True</td>\n      <td>False</td>\n      <td>2019-12-01</td>\n      <td>Nationalrat</td>\n      <td>2015-11-30</td>\n      <td>NaT</td>\n    </tr>\n    <tr>\n      <th>1722</th>\n      <td>Christoph Eymann 15.01.1951 Basel</td>\n      <td>False</td>\n      <td>True</td>\n      <td>2021-11-28</td>\n      <td>Nationalrat</td>\n      <td>2019-12-02</td>\n      <td>NaT</td>\n    </tr>\n    <tr>\n      <th>3679</th>\n      <td>Ueli Maurer 01.12.1950 Wetzikon (ZH)</td>\n      <td>True</td>\n      <td>False</td>\n      <td>2003-11-30</td>\n      <td>Nationalrat</td>\n      <td>1995-12-04</td>\n      <td>NaT</td>\n    </tr>\n    <tr>\n      <th>3680</th>\n      <td>Ueli Maurer 01.12.1950 Wetzikon (ZH)</td>\n      <td>True</td>\n      <td>False</td>\n      <td>1995-12-03</td>\n      <td>Nationalrat</td>\n      <td>1991-11-25</td>\n      <td>NaT</td>\n    </tr>\n    <tr>\n      <th>3681</th>\n      <td>Ueli Maurer 01.12.1950 Wetzikon (ZH)</td>\n      <td>True</td>\n      <td>False</td>\n      <td>2008-12-31</td>\n      <td>Nationalrat</td>\n      <td>2007-12-03</td>\n      <td>NaT</td>\n    </tr>\n    <tr>\n      <th>3683</th>\n      <td>Ueli Maurer 01.12.1950 Wetzikon (ZH)</td>\n      <td>True</td>\n      <td>False</td>\n      <td>2007-12-02</td>\n      <td>Nationalrat</td>\n      <td>2003-12-01</td>\n      <td>NaT</td>\n    </tr>\n    <tr>\n      <th>3684</th>\n      <td>Ueli Maurer 01.12.1950 Wetzikon (ZH)</td>\n      <td>False</td>\n      <td>True</td>\n      <td>2012-12-31</td>\n      <td>Bundesrat</td>\n      <td>2012-01-01</td>\n      <td>NaT</td>\n    </tr>\n    <tr>\n      <th>3685</th>\n      <td>Ueli Maurer 01.12.1950 Wetzikon (ZH)</td>\n      <td>False</td>\n      <td>True</td>\n      <td>2013-12-31</td>\n      <td>Bundesrat</td>\n      <td>2013-01-01</td>\n      <td>NaT</td>\n    </tr>\n    <tr>\n      <th>3686</th>\n      <td>Ueli Maurer 01.12.1950 Wetzikon (ZH)</td>\n      <td>False</td>\n      <td>True</td>\n      <td>2015-12-31</td>\n      <td>Bundesrat</td>\n      <td>2014-01-01</td>\n      <td>NaT</td>\n    </tr>\n    <tr>\n      <th>3687</th>\n      <td>Ueli Maurer 01.12.1950 Wetzikon (ZH)</td>\n      <td>False</td>\n      <td>True</td>\n      <td>2017-12-31</td>\n      <td>Bundesrat</td>\n      <td>2016-01-01</td>\n      <td>NaT</td>\n    </tr>\n    <tr>\n      <th>3688</th>\n      <td>Ueli Maurer 01.12.1950 Wetzikon (ZH)</td>\n      <td>False</td>\n      <td>True</td>\n      <td>2018-12-31</td>\n      <td>Bundesrat</td>\n      <td>2018-01-01</td>\n      <td>NaT</td>\n    </tr>\n    <tr>\n      <th>3689</th>\n      <td>Ueli Maurer 01.12.1950 Wetzikon (ZH)</td>\n      <td>False</td>\n      <td>True</td>\n      <td>2019-12-31</td>\n      <td>Bundesrat</td>\n      <td>2019-01-01</td>\n      <td>NaT</td>\n    </tr>\n    <tr>\n      <th>3690</th>\n      <td>Ueli Maurer 01.12.1950 Wetzikon (ZH)</td>\n      <td>True</td>\n      <td>True</td>\n      <td>NaT</td>\n      <td>Bundesrat</td>\n      <td>2020-01-01</td>\n      <td>NaT</td>\n    </tr>\n    <tr>\n      <th>3691</th>\n      <td>Ueli Maurer 01.12.1950 Wetzikon (ZH)</td>\n      <td>False</td>\n      <td>True</td>\n      <td>2011-12-31</td>\n      <td>Bundesrat</td>\n      <td>2009-01-01</td>\n      <td>NaT</td>\n    </tr>\n    <tr>\n      <th>4227</th>\n      <td>Guy Parmelin 09.11.1959 Bursins</td>\n      <td>True</td>\n      <td>False</td>\n      <td>2011-12-04</td>\n      <td>Nationalrat</td>\n      <td>2007-12-03</td>\n      <td>NaT</td>\n    </tr>\n    <tr>\n      <th>4228</th>\n      <td>Guy Parmelin 09.11.1959 Bursins</td>\n      <td>True</td>\n      <td>False</td>\n      <td>2007-12-02</td>\n      <td>Nationalrat</td>\n      <td>2003-12-01</td>\n      <td>NaT</td>\n    </tr>\n    <tr>\n      <th>4229</th>\n      <td>Guy Parmelin 09.11.1959 Bursins</td>\n      <td>True</td>\n      <td>False</td>\n      <td>2015-11-29</td>\n      <td>Nationalrat</td>\n      <td>2011-12-05</td>\n      <td>NaT</td>\n    </tr>\n    <tr>\n      <th>4231</th>\n      <td>Guy Parmelin 09.11.1959 Bursins</td>\n      <td>True</td>\n      <td>False</td>\n      <td>2015-12-31</td>\n      <td>Nationalrat</td>\n      <td>2015-11-30</td>\n      <td>NaT</td>\n    </tr>\n    <tr>\n      <th>4232</th>\n      <td>Guy Parmelin 09.11.1959 Bursins</td>\n      <td>False</td>\n      <td>True</td>\n      <td>2018-12-31</td>\n      <td>Bundesrat</td>\n      <td>2016-01-01</td>\n      <td>NaT</td>\n    </tr>\n    <tr>\n      <th>4233</th>\n      <td>Guy Parmelin 09.11.1959 Bursins</td>\n      <td>False</td>\n      <td>True</td>\n      <td>2019-12-31</td>\n      <td>Bundesrat</td>\n      <td>2019-01-01</td>\n      <td>NaT</td>\n    </tr>\n    <tr>\n      <th>4234</th>\n      <td>Guy Parmelin 09.11.1959 Bursins</td>\n      <td>False</td>\n      <td>True</td>\n      <td>2020-12-31</td>\n      <td>Bundesrat</td>\n      <td>2020-01-01</td>\n      <td>NaT</td>\n    </tr>\n    <tr>\n      <th>4235</th>\n      <td>Guy Parmelin 09.11.1959 Bursins</td>\n      <td>True</td>\n      <td>True</td>\n      <td>NaT</td>\n      <td>Bundesrat</td>\n      <td>2021-01-01</td>\n      <td>NaT</td>\n    </tr>\n    <tr>\n      <th>5308</th>\n      <td>Simonetta Sommaruga 14.05.1960 Zug</td>\n      <td>False</td>\n      <td>True</td>\n      <td>2013-12-31</td>\n      <td>Bundesrat</td>\n      <td>2010-11-01</td>\n      <td>NaT</td>\n    </tr>\n    <tr>\n      <th>5309</th>\n      <td>Simonetta Sommaruga 14.05.1960 Zug</td>\n      <td>True</td>\n      <td>False</td>\n      <td>2003-11-30</td>\n      <td>Nationalrat</td>\n      <td>1999-12-06</td>\n      <td>NaT</td>\n    </tr>\n    <tr>\n      <th>5310</th>\n      <td>Simonetta Sommaruga 14.05.1960 Zug</td>\n      <td>True</td>\n      <td>False</td>\n      <td>2007-12-02</td>\n      <td>Ständerat</td>\n      <td>2003-12-01</td>\n      <td>NaT</td>\n    </tr>\n    <tr>\n      <th>5313</th>\n      <td>Simonetta Sommaruga 14.05.1960 Zug</td>\n      <td>False</td>\n      <td>True</td>\n      <td>2014-12-31</td>\n      <td>Bundesrat</td>\n      <td>2014-01-01</td>\n      <td>NaT</td>\n    </tr>\n    <tr>\n      <th>5314</th>\n      <td>Simonetta Sommaruga 14.05.1960 Zug</td>\n      <td>False</td>\n      <td>True</td>\n      <td>2015-12-31</td>\n      <td>Bundesrat</td>\n      <td>2015-01-01</td>\n      <td>NaT</td>\n    </tr>\n    <tr>\n      <th>5316</th>\n      <td>Simonetta Sommaruga 14.05.1960 Zug</td>\n      <td>False</td>\n      <td>True</td>\n      <td>2018-12-31</td>\n      <td>Bundesrat</td>\n      <td>2016-01-01</td>\n      <td>NaT</td>\n    </tr>\n    <tr>\n      <th>5317</th>\n      <td>Simonetta Sommaruga 14.05.1960 Zug</td>\n      <td>False</td>\n      <td>True</td>\n      <td>2019-12-31</td>\n      <td>Bundesrat</td>\n      <td>2019-01-01</td>\n      <td>NaT</td>\n    </tr>\n    <tr>\n      <th>5319</th>\n      <td>Simonetta Sommaruga 14.05.1960 Zug</td>\n      <td>False</td>\n      <td>True</td>\n      <td>2020-12-31</td>\n      <td>Bundesrat</td>\n      <td>2020-01-01</td>\n      <td>NaT</td>\n    </tr>\n    <tr>\n      <th>5320</th>\n      <td>Simonetta Sommaruga 14.05.1960 Zug</td>\n      <td>True</td>\n      <td>True</td>\n      <td>NaT</td>\n      <td>Bundesrat</td>\n      <td>2021-01-01</td>\n      <td>NaT</td>\n    </tr>\n    <tr>\n      <th>5321</th>\n      <td>Simonetta Sommaruga 14.05.1960 Zug</td>\n      <td>True</td>\n      <td>False</td>\n      <td>2010-10-31</td>\n      <td>Ständerat</td>\n      <td>2007-12-03</td>\n      <td>NaT</td>\n    </tr>\n  </tbody>\n</table>\n</div>"
     },
     "execution_count": 124,
     "metadata": {},
     "output_type": "execute_result"
    }
   ],
   "source": [
    "df_check_active_names = df_mod[df_mod['Personalien'].isin(df_check_active['Personalien'])][['Personalien','CheckActive', 'Active', 'DateLeaving', 'CouncilName', 'DateJoining', 'DateOfDeath']]\n",
    "df_check_active_names"
   ],
   "metadata": {
    "collapsed": false,
    "ExecuteTime": {
     "end_time": "2023-10-01T18:44:16.549004100Z",
     "start_time": "2023-10-01T18:44:16.352966Z"
    }
   },
   "id": "5052fb1379ed4ff6"
  },
  {
   "cell_type": "markdown",
   "source": [
    "Bei der Überprüfung der Eintragungen in der Spalte 'Active' gibt es keine Rückschlüsse auf die fehlerhaften Eintragungen. Auffällig ist nur dass es sich bei den meisten betroffenen Personen um Bundesräte handelt. Die Überprüfung der beiden Regierungsräte Eymann und Chevalley ergab, dass beide an den eingetragenen Daten das Parlament verliessen und nun unter ehemalige geführt werden. Aus diesem Grund wird eine neue Spalte erstellt, welche die korrekten Werte für die Spalte 'Active' enthält."
   ],
   "metadata": {
    "collapsed": false
   },
   "id": "245d232182628e72"
  },
  {
   "cell_type": "code",
   "execution_count": 129,
   "outputs": [
    {
     "data": {
      "text/plain": "      Active FirstName     LastName Gender        CantonName  \\\n22      True  Jean-Luc        Addor      m            Wallis   \n33      True   Andreas         Aebi      m              Bern   \n38      True  Matthias    Aebischer      m              Bern   \n66      True    Thomas       Aeschi      m               Zug   \n114     True    Céline     Amaudruz      f              Genf   \n...      ...       ...          ...    ...               ...   \n6297    True     Sarah         Wyss      f       Basel-Stadt   \n6310    True   Roberto      Zanetti      m         Solothurn   \n6349    True     Heidi    Z'graggen      f               Uri   \n6382    True   Mathias        Zopfi      m            Glarus   \n6391    True     David  Zuberbühler      m  Appenzell A.-Rh.   \n\n     CantonAbbreviation  CouncilName  \\\n22                   VS  Nationalrat   \n33                   BE  Nationalrat   \n38                   BE  Nationalrat   \n66                   ZG  Nationalrat   \n114                  GE  Nationalrat   \n...                 ...          ...   \n6297                 BS  Nationalrat   \n6310                 SO    Ständerat   \n6349                 UR    Ständerat   \n6382                 GL    Ständerat   \n6391                 AR  Nationalrat   \n\n                                 ParlGroupName ParlGroupAbbreviation  \\\n22    Fraktion der Schweizerischen Volkspartei                     V   \n33    Fraktion der Schweizerischen Volkspartei                     V   \n38                Sozialdemokratische Fraktion                     S   \n66    Fraktion der Schweizerischen Volkspartei                     V   \n114   Fraktion der Schweizerischen Volkspartei                     V   \n...                                        ...                   ...   \n6297              Sozialdemokratische Fraktion                     S   \n6310              Sozialdemokratische Fraktion                     S   \n6349       Die Mitte-Fraktion. Die Mitte. EVP.                   M-E   \n6382                            Grüne Fraktion                     G   \n6391  Fraktion der Schweizerischen Volkspartei                     V   \n\n                                            PartyName  ... DateOfBirth  \\\n22                         Schweizerische Volkspartei  ...  1964-04-22   \n33                         Schweizerische Volkspartei  ...  1958-11-26   \n38             Sozialdemokratische Partei der Schweiz  ...  1967-10-18   \n66                         Schweizerische Volkspartei  ...  1979-01-13   \n114                        Schweizerische Volkspartei  ...  1979-03-15   \n...                                               ...  ...         ...   \n6297           Sozialdemokratische Partei der Schweiz  ...  1988-08-03   \n6310           Sozialdemokratische Partei der Schweiz  ...  1954-12-14   \n6349  Christlichdemokratische Volkspartei der Schweiz  ...  1966-02-01   \n6382                         Grüne Partei der Schweiz  ...  1983-12-14   \n6391                       Schweizerische Volkspartei  ...  1979-02-20   \n\n     DateOfDeath AgeJoining AgeLeaving Age YearsInOffice DaysInOffice  \\\n22           NaT         55        NaN  59             4    1490 days   \n33           NaT         61        NaN  65             4    1490 days   \n38           NaT         52        NaN  56             4    1490 days   \n66           NaT         40        NaN  44             4    1490 days   \n114          NaT         40        NaN  44             4    1490 days   \n...          ...        ...        ...  ..           ...          ...   \n6297         NaT         32        NaN  35             3    1108 days   \n6310         NaT         65        NaN  69             4    1490 days   \n6349         NaT         53        NaN  57             4    1490 days   \n6382         NaT         36        NaN  40             4    1490 days   \n6391         NaT         40        NaN  44             4    1490 days   \n\n                                      Personalien CheckActive ActiveCorrect  \n22             Jean-Luc Addor 22.04.1964 Lausanne        True          True  \n33               Andreas Aebi 26.11.1958 Burgdorf        True          True  \n38    Matthias Aebischer 18.10.1967 Schwarzenburg        True          True  \n66                   Thomas Aeschi 13.01.1979 Zug        True          True  \n114             Céline Amaudruz 15.03.1979 Genève        True          True  \n...                                           ...         ...           ...  \n6297                        Sarah Wyss 03.08.1988        True          True  \n6310         Roberto Zanetti 14.12.1954 Solothurn        True          True  \n6349           Heidi Z'graggen 01.02.1966 Silenen        True          True  \n6382          Mathias Zopfi 14.12.1983 Glarus Süd        True          True  \n6391         David Zuberbühler 20.02.1979 Herisau        True          True  \n\n[254 rows x 28 columns]",
      "text/html": "<div>\n<style scoped>\n    .dataframe tbody tr th:only-of-type {\n        vertical-align: middle;\n    }\n\n    .dataframe tbody tr th {\n        vertical-align: top;\n    }\n\n    .dataframe thead th {\n        text-align: right;\n    }\n</style>\n<table border=\"1\" class=\"dataframe\">\n  <thead>\n    <tr style=\"text-align: right;\">\n      <th></th>\n      <th>Active</th>\n      <th>FirstName</th>\n      <th>LastName</th>\n      <th>Gender</th>\n      <th>CantonName</th>\n      <th>CantonAbbreviation</th>\n      <th>CouncilName</th>\n      <th>ParlGroupName</th>\n      <th>ParlGroupAbbreviation</th>\n      <th>PartyName</th>\n      <th>...</th>\n      <th>DateOfBirth</th>\n      <th>DateOfDeath</th>\n      <th>AgeJoining</th>\n      <th>AgeLeaving</th>\n      <th>Age</th>\n      <th>YearsInOffice</th>\n      <th>DaysInOffice</th>\n      <th>Personalien</th>\n      <th>CheckActive</th>\n      <th>ActiveCorrect</th>\n    </tr>\n  </thead>\n  <tbody>\n    <tr>\n      <th>22</th>\n      <td>True</td>\n      <td>Jean-Luc</td>\n      <td>Addor</td>\n      <td>m</td>\n      <td>Wallis</td>\n      <td>VS</td>\n      <td>Nationalrat</td>\n      <td>Fraktion der Schweizerischen Volkspartei</td>\n      <td>V</td>\n      <td>Schweizerische Volkspartei</td>\n      <td>...</td>\n      <td>1964-04-22</td>\n      <td>NaT</td>\n      <td>55</td>\n      <td>NaN</td>\n      <td>59</td>\n      <td>4</td>\n      <td>1490 days</td>\n      <td>Jean-Luc Addor 22.04.1964 Lausanne</td>\n      <td>True</td>\n      <td>True</td>\n    </tr>\n    <tr>\n      <th>33</th>\n      <td>True</td>\n      <td>Andreas</td>\n      <td>Aebi</td>\n      <td>m</td>\n      <td>Bern</td>\n      <td>BE</td>\n      <td>Nationalrat</td>\n      <td>Fraktion der Schweizerischen Volkspartei</td>\n      <td>V</td>\n      <td>Schweizerische Volkspartei</td>\n      <td>...</td>\n      <td>1958-11-26</td>\n      <td>NaT</td>\n      <td>61</td>\n      <td>NaN</td>\n      <td>65</td>\n      <td>4</td>\n      <td>1490 days</td>\n      <td>Andreas Aebi 26.11.1958 Burgdorf</td>\n      <td>True</td>\n      <td>True</td>\n    </tr>\n    <tr>\n      <th>38</th>\n      <td>True</td>\n      <td>Matthias</td>\n      <td>Aebischer</td>\n      <td>m</td>\n      <td>Bern</td>\n      <td>BE</td>\n      <td>Nationalrat</td>\n      <td>Sozialdemokratische Fraktion</td>\n      <td>S</td>\n      <td>Sozialdemokratische Partei der Schweiz</td>\n      <td>...</td>\n      <td>1967-10-18</td>\n      <td>NaT</td>\n      <td>52</td>\n      <td>NaN</td>\n      <td>56</td>\n      <td>4</td>\n      <td>1490 days</td>\n      <td>Matthias Aebischer 18.10.1967 Schwarzenburg</td>\n      <td>True</td>\n      <td>True</td>\n    </tr>\n    <tr>\n      <th>66</th>\n      <td>True</td>\n      <td>Thomas</td>\n      <td>Aeschi</td>\n      <td>m</td>\n      <td>Zug</td>\n      <td>ZG</td>\n      <td>Nationalrat</td>\n      <td>Fraktion der Schweizerischen Volkspartei</td>\n      <td>V</td>\n      <td>Schweizerische Volkspartei</td>\n      <td>...</td>\n      <td>1979-01-13</td>\n      <td>NaT</td>\n      <td>40</td>\n      <td>NaN</td>\n      <td>44</td>\n      <td>4</td>\n      <td>1490 days</td>\n      <td>Thomas Aeschi 13.01.1979 Zug</td>\n      <td>True</td>\n      <td>True</td>\n    </tr>\n    <tr>\n      <th>114</th>\n      <td>True</td>\n      <td>Céline</td>\n      <td>Amaudruz</td>\n      <td>f</td>\n      <td>Genf</td>\n      <td>GE</td>\n      <td>Nationalrat</td>\n      <td>Fraktion der Schweizerischen Volkspartei</td>\n      <td>V</td>\n      <td>Schweizerische Volkspartei</td>\n      <td>...</td>\n      <td>1979-03-15</td>\n      <td>NaT</td>\n      <td>40</td>\n      <td>NaN</td>\n      <td>44</td>\n      <td>4</td>\n      <td>1490 days</td>\n      <td>Céline Amaudruz 15.03.1979 Genève</td>\n      <td>True</td>\n      <td>True</td>\n    </tr>\n    <tr>\n      <th>...</th>\n      <td>...</td>\n      <td>...</td>\n      <td>...</td>\n      <td>...</td>\n      <td>...</td>\n      <td>...</td>\n      <td>...</td>\n      <td>...</td>\n      <td>...</td>\n      <td>...</td>\n      <td>...</td>\n      <td>...</td>\n      <td>...</td>\n      <td>...</td>\n      <td>...</td>\n      <td>...</td>\n      <td>...</td>\n      <td>...</td>\n      <td>...</td>\n      <td>...</td>\n      <td>...</td>\n    </tr>\n    <tr>\n      <th>6297</th>\n      <td>True</td>\n      <td>Sarah</td>\n      <td>Wyss</td>\n      <td>f</td>\n      <td>Basel-Stadt</td>\n      <td>BS</td>\n      <td>Nationalrat</td>\n      <td>Sozialdemokratische Fraktion</td>\n      <td>S</td>\n      <td>Sozialdemokratische Partei der Schweiz</td>\n      <td>...</td>\n      <td>1988-08-03</td>\n      <td>NaT</td>\n      <td>32</td>\n      <td>NaN</td>\n      <td>35</td>\n      <td>3</td>\n      <td>1108 days</td>\n      <td>Sarah Wyss 03.08.1988</td>\n      <td>True</td>\n      <td>True</td>\n    </tr>\n    <tr>\n      <th>6310</th>\n      <td>True</td>\n      <td>Roberto</td>\n      <td>Zanetti</td>\n      <td>m</td>\n      <td>Solothurn</td>\n      <td>SO</td>\n      <td>Ständerat</td>\n      <td>Sozialdemokratische Fraktion</td>\n      <td>S</td>\n      <td>Sozialdemokratische Partei der Schweiz</td>\n      <td>...</td>\n      <td>1954-12-14</td>\n      <td>NaT</td>\n      <td>65</td>\n      <td>NaN</td>\n      <td>69</td>\n      <td>4</td>\n      <td>1490 days</td>\n      <td>Roberto Zanetti 14.12.1954 Solothurn</td>\n      <td>True</td>\n      <td>True</td>\n    </tr>\n    <tr>\n      <th>6349</th>\n      <td>True</td>\n      <td>Heidi</td>\n      <td>Z'graggen</td>\n      <td>f</td>\n      <td>Uri</td>\n      <td>UR</td>\n      <td>Ständerat</td>\n      <td>Die Mitte-Fraktion. Die Mitte. EVP.</td>\n      <td>M-E</td>\n      <td>Christlichdemokratische Volkspartei der Schweiz</td>\n      <td>...</td>\n      <td>1966-02-01</td>\n      <td>NaT</td>\n      <td>53</td>\n      <td>NaN</td>\n      <td>57</td>\n      <td>4</td>\n      <td>1490 days</td>\n      <td>Heidi Z'graggen 01.02.1966 Silenen</td>\n      <td>True</td>\n      <td>True</td>\n    </tr>\n    <tr>\n      <th>6382</th>\n      <td>True</td>\n      <td>Mathias</td>\n      <td>Zopfi</td>\n      <td>m</td>\n      <td>Glarus</td>\n      <td>GL</td>\n      <td>Ständerat</td>\n      <td>Grüne Fraktion</td>\n      <td>G</td>\n      <td>Grüne Partei der Schweiz</td>\n      <td>...</td>\n      <td>1983-12-14</td>\n      <td>NaT</td>\n      <td>36</td>\n      <td>NaN</td>\n      <td>40</td>\n      <td>4</td>\n      <td>1490 days</td>\n      <td>Mathias Zopfi 14.12.1983 Glarus Süd</td>\n      <td>True</td>\n      <td>True</td>\n    </tr>\n    <tr>\n      <th>6391</th>\n      <td>True</td>\n      <td>David</td>\n      <td>Zuberbühler</td>\n      <td>m</td>\n      <td>Appenzell A.-Rh.</td>\n      <td>AR</td>\n      <td>Nationalrat</td>\n      <td>Fraktion der Schweizerischen Volkspartei</td>\n      <td>V</td>\n      <td>Schweizerische Volkspartei</td>\n      <td>...</td>\n      <td>1979-02-20</td>\n      <td>NaT</td>\n      <td>40</td>\n      <td>NaN</td>\n      <td>44</td>\n      <td>4</td>\n      <td>1490 days</td>\n      <td>David Zuberbühler 20.02.1979 Herisau</td>\n      <td>True</td>\n      <td>True</td>\n    </tr>\n  </tbody>\n</table>\n<p>254 rows × 28 columns</p>\n</div>"
     },
     "execution_count": 129,
     "metadata": {},
     "output_type": "execute_result"
    }
   ],
   "source": [
    "df_mod['ActiveCorrect'] = df_mod['DateLeaving'].isna()\n",
    "df_active = df_mod[df_mod['DateLeaving'].isna()]\n",
    "df_active"
   ],
   "metadata": {
    "collapsed": false,
    "ExecuteTime": {
     "end_time": "2023-10-01T18:58:10.471398200Z",
     "start_time": "2023-10-01T18:58:10.411137200Z"
    }
   },
   "id": "34d710d5b0632da9"
  },
  {
   "cell_type": "code",
   "execution_count": 130,
   "outputs": [
    {
     "data": {
      "text/plain": "CouncilName\nNationalrat      200\nStänderat         46\nBundesrat          7\nBundeskanzler      1\nName: count, dtype: int64"
     },
     "execution_count": 130,
     "metadata": {},
     "output_type": "execute_result"
    }
   ],
   "source": [
    "df_active['CouncilName'].value_counts()"
   ],
   "metadata": {
    "collapsed": false,
    "ExecuteTime": {
     "end_time": "2023-10-01T19:03:14.349984100Z",
     "start_time": "2023-10-01T19:03:14.291560400Z"
    }
   },
   "id": "49735ef8dd6d146d"
  },
  {
   "cell_type": "markdown",
   "source": [
    "Die Zusammenfassung der aktiven Ratsmitglieder zeigt auf, dass die Zahlen nun stimmen. Die Spalte 'Active' kann gelöscht werden und die Spalte 'ActiveCorrect' wird in 'Active' umbenannt."
   ],
   "metadata": {
    "collapsed": false
   },
   "id": "bb505cb3f4323b20"
  },
  {
   "cell_type": "code",
   "execution_count": 132,
   "outputs": [],
   "source": [
    "df_mod = df_mod.drop(columns=['Active'])\n",
    "df_mod = df_mod.rename(columns={'ActiveCorrect':'Active'})"
   ],
   "metadata": {
    "collapsed": false,
    "ExecuteTime": {
     "end_time": "2023-10-01T19:10:21.340495700Z",
     "start_time": "2023-10-01T19:10:21.255024Z"
    }
   },
   "id": "fed1e5cd4785e05b"
  },
  {
   "cell_type": "markdown",
   "source": [
    "Die Bereinigung der Daten ist abgeschlossen. Nun wird das Datenset in das df_final gespeichert."
   ],
   "metadata": {
    "collapsed": false
   },
   "id": "88c28751406b1266"
  },
  {
   "cell_type": "code",
   "execution_count": 133,
   "outputs": [],
   "source": [
    "df_final = df_mod"
   ],
   "metadata": {
    "collapsed": false,
    "ExecuteTime": {
     "end_time": "2023-10-01T19:10:25.160012900Z",
     "start_time": "2023-10-01T19:10:25.141817700Z"
    }
   },
   "id": "153eae561b51071"
  },
  {
   "cell_type": "markdown",
   "source": [
    "## Fragestellungen\n"
   ],
   "metadata": {
    "collapsed": false
   },
   "id": "8a3386556d0918ce"
  }
 ],
 "metadata": {
  "kernelspec": {
   "display_name": "Python 3",
   "language": "python",
   "name": "python3"
  },
  "language_info": {
   "codemirror_mode": {
    "name": "ipython",
    "version": 2
   },
   "file_extension": ".py",
   "mimetype": "text/x-python",
   "name": "python",
   "nbconvert_exporter": "python",
   "pygments_lexer": "ipython2",
   "version": "2.7.6"
  }
 },
 "nbformat": 4,
 "nbformat_minor": 5
}
